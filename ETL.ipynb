{
 "cells": [
  {
   "cell_type": "markdown",
   "id": "f9baf501",
   "metadata": {},
   "source": [
    "# ETL"
   ]
  },
  {
   "cell_type": "markdown",
   "id": "946b0d32",
   "metadata": {},
   "source": [
    "### Imports"
   ]
  },
  {
   "cell_type": "code",
   "execution_count": 36,
   "id": "aaedf4fe",
   "metadata": {},
   "outputs": [],
   "source": [
    "import pandas as pd\n",
    "import sklearn\n",
    "import matplotlib.pyplot as plt\n",
    "import numpy as np\n",
    "import seaborn as sns\n",
    "from dateutil import parser"
   ]
  },
  {
   "cell_type": "markdown",
   "id": "2cbbec5b",
   "metadata": {},
   "source": [
    "## Leitura do Dataset e Análise Inicial"
   ]
  },
  {
   "cell_type": "code",
   "execution_count": 51,
   "id": "d845cc80",
   "metadata": {},
   "outputs": [
    {
     "data": {
      "application/vnd.microsoft.datawrangler.viewer.v0+json": {
       "columns": [
        {
         "name": "index",
         "rawType": "int64",
         "type": "integer"
        },
        {
         "name": "ID",
         "rawType": "int64",
         "type": "integer"
        },
        {
         "name": "Nome",
         "rawType": "object",
         "type": "string"
        },
        {
         "name": "Critério",
         "rawType": "object",
         "type": "string"
        },
        {
         "name": "Tipo",
         "rawType": "object",
         "type": "string"
        },
        {
         "name": "Nota",
         "rawType": "object",
         "type": "unknown"
        },
        {
         "name": "Justificativa",
         "rawType": "object",
         "type": "string"
        },
        {
         "name": "DataAvaliacao",
         "rawType": "object",
         "type": "string"
        }
       ],
       "conversionMethod": "pd.DataFrame",
       "ref": "1547243a-5ae7-4d17-bcf1-ee22a77c9107",
       "rows": [
        [
         "0",
         "3000",
         " pedro.henrique ",
         "Ser \"team player\"",
         " Execução",
         null,
         "inovador, mas confuso",
         "April 02, 2023"
        ],
        [
         "1",
         "3001",
         " luiza.henrique ",
         "Atender Aos Prazos",
         " EXECUÇÃO",
         "7,6",
         "Boa Execução Com Erros Pontuais",
         "March 10, 2023"
        ],
        [
         "2",
         "3002",
         " mariana.costa ",
         "Fazer Mais Com Menos",
         " execução",
         "Oito",
         "RESPONSÁVEL, PORÉM INSEGURO",
         "April 18, 2023"
        ],
        [
         "3",
         "3003",
         "  ",
         "PENSAR FORA DA CAIXA",
         " COMPORTAMENTAL",
         "Seis",
         "trabalho em equipe precisa melhorar\"\"\"",
         "15/04/2023"
        ],
        [
         "4",
         "3004",
         " joana.silva ",
         "Resiliencia Nas Adversidades",
         " Execução",
         "Dez",
         "organizado, mas às vezes desatento",
         "19.04.23"
        ]
       ],
       "shape": {
        "columns": 7,
        "rows": 5
       }
      },
      "text/html": [
       "<div>\n",
       "<style scoped>\n",
       "    .dataframe tbody tr th:only-of-type {\n",
       "        vertical-align: middle;\n",
       "    }\n",
       "\n",
       "    .dataframe tbody tr th {\n",
       "        vertical-align: top;\n",
       "    }\n",
       "\n",
       "    .dataframe thead th {\n",
       "        text-align: right;\n",
       "    }\n",
       "</style>\n",
       "<table border=\"1\" class=\"dataframe\">\n",
       "  <thead>\n",
       "    <tr style=\"text-align: right;\">\n",
       "      <th></th>\n",
       "      <th>ID</th>\n",
       "      <th>Nome</th>\n",
       "      <th>Critério</th>\n",
       "      <th>Tipo</th>\n",
       "      <th>Nota</th>\n",
       "      <th>Justificativa</th>\n",
       "      <th>DataAvaliacao</th>\n",
       "    </tr>\n",
       "  </thead>\n",
       "  <tbody>\n",
       "    <tr>\n",
       "      <th>0</th>\n",
       "      <td>3000</td>\n",
       "      <td>pedro.henrique</td>\n",
       "      <td>Ser \"team player\"</td>\n",
       "      <td>Execução</td>\n",
       "      <td>NaN</td>\n",
       "      <td>inovador, mas confuso</td>\n",
       "      <td>April 02, 2023</td>\n",
       "    </tr>\n",
       "    <tr>\n",
       "      <th>1</th>\n",
       "      <td>3001</td>\n",
       "      <td>luiza.henrique</td>\n",
       "      <td>Atender Aos Prazos</td>\n",
       "      <td>EXECUÇÃO</td>\n",
       "      <td>7,6</td>\n",
       "      <td>Boa Execução Com Erros Pontuais</td>\n",
       "      <td>March 10, 2023</td>\n",
       "    </tr>\n",
       "    <tr>\n",
       "      <th>2</th>\n",
       "      <td>3002</td>\n",
       "      <td>mariana.costa</td>\n",
       "      <td>Fazer Mais Com Menos</td>\n",
       "      <td>execução</td>\n",
       "      <td>Oito</td>\n",
       "      <td>RESPONSÁVEL, PORÉM INSEGURO</td>\n",
       "      <td>April 18, 2023</td>\n",
       "    </tr>\n",
       "    <tr>\n",
       "      <th>3</th>\n",
       "      <td>3003</td>\n",
       "      <td></td>\n",
       "      <td>PENSAR FORA DA CAIXA</td>\n",
       "      <td>COMPORTAMENTAL</td>\n",
       "      <td>Seis</td>\n",
       "      <td>trabalho em equipe precisa melhorar\"\"\"</td>\n",
       "      <td>15/04/2023</td>\n",
       "    </tr>\n",
       "    <tr>\n",
       "      <th>4</th>\n",
       "      <td>3004</td>\n",
       "      <td>joana.silva</td>\n",
       "      <td>Resiliencia Nas Adversidades</td>\n",
       "      <td>Execução</td>\n",
       "      <td>Dez</td>\n",
       "      <td>organizado, mas às vezes desatento</td>\n",
       "      <td>19.04.23</td>\n",
       "    </tr>\n",
       "  </tbody>\n",
       "</table>\n",
       "</div>"
      ],
      "text/plain": [
       "     ID              Nome                      Critério             Tipo  \\\n",
       "0  3000   pedro.henrique              Ser \"team player\"         Execução   \n",
       "1  3001   luiza.henrique             Atender Aos Prazos         EXECUÇÃO   \n",
       "2  3002    mariana.costa           Fazer Mais Com Menos         execução   \n",
       "3  3003                            PENSAR FORA DA CAIXA   COMPORTAMENTAL   \n",
       "4  3004      joana.silva   Resiliencia Nas Adversidades         Execução   \n",
       "\n",
       "   Nota                           Justificativa   DataAvaliacao  \n",
       "0   NaN                   inovador, mas confuso  April 02, 2023  \n",
       "1   7,6         Boa Execução Com Erros Pontuais  March 10, 2023  \n",
       "2  Oito             RESPONSÁVEL, PORÉM INSEGURO  April 18, 2023  \n",
       "3  Seis  trabalho em equipe precisa melhorar\"\"\"      15/04/2023  \n",
       "4   Dez      organizado, mas às vezes desatento        19.04.23  "
      ]
     },
     "execution_count": 51,
     "metadata": {},
     "output_type": "execute_result"
    }
   ],
   "source": [
    "df = pd.read_csv('Material Hackathon/Base Dados Candidatos.csv', sep=';', encoding='ISO-8859-1')\n",
    "df.head()"
   ]
  },
  {
   "cell_type": "code",
   "execution_count": null,
   "id": "987e97b7",
   "metadata": {},
   "outputs": [
    {
     "data": {
      "text/plain": [
       "ID                int64\n",
       "Nome             object\n",
       "Critério         object\n",
       "Tipo             object\n",
       "Nota             object\n",
       "Justificativa    object\n",
       "DataAvaliacao    object\n",
       "dtype: object"
      ]
     },
     "execution_count": 3,
     "metadata": {},
     "output_type": "execute_result"
    }
   ],
   "source": [
    "print(df.dtypes)"
   ]
  },
  {
   "cell_type": "code",
   "execution_count": 4,
   "id": "820e94a7",
   "metadata": {},
   "outputs": [
    {
     "data": {
      "text/plain": [
       "(1000, 7)"
      ]
     },
     "execution_count": 4,
     "metadata": {},
     "output_type": "execute_result"
    }
   ],
   "source": [
    "df.shape"
   ]
  },
  {
   "cell_type": "markdown",
   "id": "5c6611d4",
   "metadata": {},
   "source": [
    "1000 instâncias"
   ]
  },
  {
   "cell_type": "code",
   "execution_count": 5,
   "id": "91add6ee",
   "metadata": {},
   "outputs": [
    {
     "data": {
      "text/plain": [
       "ID               1000\n",
       "Nome              201\n",
       "Critério           36\n",
       "Tipo                6\n",
       "Nota               87\n",
       "Justificativa      80\n",
       "DataAvaliacao     294\n",
       "dtype: int64"
      ]
     },
     "execution_count": 5,
     "metadata": {},
     "output_type": "execute_result"
    }
   ],
   "source": [
    "df.nunique()"
   ]
  },
  {
   "cell_type": "code",
   "execution_count": 8,
   "id": "75889b1d",
   "metadata": {},
   "outputs": [
    {
     "data": {
      "text/plain": [
       "ID                 0\n",
       "Nome               0\n",
       "Critério           0\n",
       "Tipo               0\n",
       "Nota             247\n",
       "Justificativa      0\n",
       "DataAvaliacao      0\n",
       "dtype: int64"
      ]
     },
     "execution_count": 8,
     "metadata": {},
     "output_type": "execute_result"
    }
   ],
   "source": [
    "df.isna().sum()"
   ]
  },
  {
   "cell_type": "markdown",
   "id": "32b011c7",
   "metadata": {},
   "source": [
    "247 dados ausentes em coluna \"Nota\""
   ]
  },
  {
   "cell_type": "markdown",
   "id": "28eb0e25",
   "metadata": {},
   "source": [
    "### Tratamento de dados"
   ]
  },
  {
   "cell_type": "markdown",
   "id": "fb40d9fa",
   "metadata": {},
   "source": [
    "Trocando valores em nota:"
   ]
  },
  {
   "cell_type": "code",
   "execution_count": 10,
   "id": "42684d67",
   "metadata": {},
   "outputs": [
    {
     "data": {
      "text/plain": [
       "array([nan, '7,6', 'Oito', 'Seis', 'Dez', '9,5', '7.1', '6.2', '8.4',\n",
       "       'Sete', '6.5', 'Nove', '8,4', '9.7', '6.4', '6,1', '9,7', '9,3',\n",
       "       '9,1', '6.9', '6.7', '6.6', '7.6', '9.8', '7,4', '7,7', '6,2',\n",
       "       '6,6', '8.0', '9.0', '7.3', '8,6', '9.3', '8.9', '6.8', '8,9',\n",
       "       '7.9', '6,5', '9.6', '7,9', '8,1', '8,5', '8.5', '8,2', '9,6',\n",
       "       '9,9', '8,3', '7.5', '7.8', '8.2', '9,8', '7,2', '7.7', '7.0',\n",
       "       '9.4', '7,5', '9.1', '7,1', '10.0', '9,0', '6,4', '8.3', '8,8',\n",
       "       '8.8', '6,9', '7,0', '6.3', '9.2', '6,8', '9.9', '7.2', '9.5',\n",
       "       '7.4', '10,0', '9,2', '8,0', '6,7', '6.1', '8.7', '7,8', '6,0',\n",
       "       '8.1', '9,4', '8.6', '7,3', '6.0', '8,7', '6,3'], dtype=object)"
      ]
     },
     "execution_count": 10,
     "metadata": {},
     "output_type": "execute_result"
    }
   ],
   "source": [
    "df.Nota.unique()"
   ]
  },
  {
   "cell_type": "code",
   "execution_count": 52,
   "id": "82b2ce6e",
   "metadata": {},
   "outputs": [
    {
     "data": {
      "text/plain": [
       "0       NaN\n",
       "1       7.6\n",
       "2       8.0\n",
       "3       6.0\n",
       "4      10.0\n",
       "       ... \n",
       "995     NaN\n",
       "996     NaN\n",
       "997     6.0\n",
       "998     NaN\n",
       "999     NaN\n",
       "Name: Nota, Length: 1000, dtype: float64"
      ]
     },
     "execution_count": 52,
     "metadata": {},
     "output_type": "execute_result"
    }
   ],
   "source": [
    "# Substituições desejadas\n",
    "substituicoes = {\n",
    "    ',': '.',\n",
    "    'Oito': '8.0',\n",
    "    'Dez': '10.0',\n",
    "    'Seis': '6.0',\n",
    "    'Sete': '7.0',\n",
    "    'Nove': '9.0'\n",
    "}\n",
    "\n",
    "df.Nota = df.Nota.replace(substituicoes, regex=True).astype('float')\n",
    "df.Nota"
   ]
  },
  {
   "cell_type": "markdown",
   "id": "dfadd4b7",
   "metadata": {},
   "source": [
    "---\n",
    "Nome:"
   ]
  },
  {
   "cell_type": "code",
   "execution_count": 53,
   "id": "c13baf50",
   "metadata": {},
   "outputs": [
    {
     "name": "stdout",
     "output_type": "stream",
     "text": [
      "missing values: 31\n"
     ]
    },
    {
     "data": {
      "text/plain": [
       "array(['Pedro Henrique', 'Luiza Henrique', 'Mariana Costa', nan,\n",
       "       'Joana Silva', 'Ricardo Silva', 'Luiza Martins', 'Bruno Lima',\n",
       "       'João Lima', 'Ricardo Martins', 'Carolina Mendes', 'Sofia Martins',\n",
       "       'Ana Pereira', 'João Costa', 'Mariana Silva', 'Sofia Henrique',\n",
       "       'Juliana Henrique', 'Clara Oliveira', 'Rafael Silva',\n",
       "       'Ana Martins', 'Marcos Mendes', 'Carolina Henrique',\n",
       "       'Carolina Martins', 'Sofia Oliveira', 'Pedro Martins',\n",
       "       'Carolina Costa', 'Carlos Lima', 'Rafael Henrique', 'Maria Silva',\n",
       "       'Marcos Costa', 'Juliana Pereira', 'Ana Henrique',\n",
       "       'Fernanda Pereira', 'Sofia Costa', 'Eduardo Oliveira',\n",
       "       'Mariana Mendes', 'Rafael Souza', 'Maria Mendes', 'Marcos Lima',\n",
       "       'Bruno Henrique', 'Mateus Silva', 'Eduardo Ferreira',\n",
       "       'Clara Costa', 'Juliana Costa', 'Carolina Pereira',\n",
       "       'João Oliveira', 'Bruno Silva', 'Sofia Mendes', 'Rafael Martins',\n",
       "       'Ricardo Souza', 'Ricardo Mendes', 'Mateus Costa', 'Ana Oliveira',\n",
       "       'Rafael Costa', 'Luiza Silva', 'Joana Martins', 'Maria Martins',\n",
       "       'Joana Pereira', 'Pedro Mendes', 'Bruno Ferreira', 'Sofia Lima',\n",
       "       'Juliana Oliveira', 'Jorge Pereira', 'João Ferreira',\n",
       "       'Ana Ferreira', 'Joana Costa', 'Luiza Ferreira', 'Pedro Silva',\n",
       "       'Joana Mendes', 'Juliana Lima', 'Fernanda Martins', 'Joana Lima',\n",
       "       'Juliana Silva', 'João Pereira', 'Eduardo Mendes', 'Luiza Souza',\n",
       "       'Fernanda Silva', 'Mateus Mendes', 'Mariana Pereira',\n",
       "       'Clara Martins', 'Clara Lima', 'Jorge Silva', 'Clara Pereira',\n",
       "       'Bruno Oliveira', 'Carolina Oliveira', 'Carlos Martins',\n",
       "       'Fernanda Henrique', 'Rafael Oliveira', 'Juliana Martins',\n",
       "       'Clara Souza', 'Luiza Pereira', 'Marcos Souza', 'Maria Costa',\n",
       "       'Maria Ferreira', 'Rafael Lima', 'Joana Oliveira', 'Luiza Costa',\n",
       "       'Fernanda Oliveira', 'Luiza Oliveira', 'Clara Henrique',\n",
       "       'Ana Souza', 'Maria Souza', 'Carlos Henrique', 'Bruno Pereira',\n",
       "       'Eduardo Pereira', 'Ricardo Henrique', 'Eduardo Martins',\n",
       "       'Sofia Souza', 'Bruno Mendes', 'Ana Silva', 'Maria Henrique',\n",
       "       'Pedro Lima', 'Eduardo Souza', 'Jorge Souza', 'Maria Lima',\n",
       "       'Juliana Mendes', 'Ricardo Ferreira', 'Pedro Costa',\n",
       "       'Carlos Ferreira', 'Mateus Souza', 'Luiza Lima', 'Luiza Mendes',\n",
       "       'Rafael Mendes', 'Pedro Pereira', 'Carlos Pereira', 'Mariana Lima',\n",
       "       'João Silva', 'Mateus Ferreira', 'Mariana Martins', 'Bruno Costa',\n",
       "       'Ricardo Lima', 'Pedro Oliveira', 'Jorge Henrique',\n",
       "       'Mariana Souza', 'Fernanda Costa', 'Mateus Martins',\n",
       "       'João Henrique', 'Joana Souza', 'João Martins', 'Carlos Silva',\n",
       "       'Ricardo Pereira', 'Jorge Oliveira', 'Marcos Ferreira',\n",
       "       'Mateus Pereira', 'Carlos Souza', 'Sofia Pereira', 'Bruno Martins',\n",
       "       'Carlos Mendes', 'Ana Mendes', 'Jorge Martins', 'Carolina Silva',\n",
       "       'Eduardo Henrique', 'Eduardo Silva', 'Ricardo Costa',\n",
       "       'Joana Henrique', 'Sofia Ferreira', 'Jorge Mendes', 'Sofia Silva',\n",
       "       'Marcos Henrique', 'Marcos Pereira', 'Fernanda Mendes',\n",
       "       'Eduardo Lima', 'Maria Oliveira', 'Marcos Martins',\n",
       "       'Carolina Souza', 'Ana Costa', 'Mariana Oliveira', 'Clara Silva',\n",
       "       'Carolina Ferreira', 'Ana Lima', 'Mariana Ferreira',\n",
       "       'Mateus Henrique', 'Fernanda Lima', 'Jorge Lima', 'João Souza',\n",
       "       'Fernanda Souza', 'Bruno Souza', 'Marcos Oliveira',\n",
       "       'Fernanda Ferreira', 'Joana Ferreira', 'Rafael Ferreira',\n",
       "       'Mateus Oliveira', 'Carolina Lima', 'Juliana Ferreira',\n",
       "       'Jorge Costa', 'João Mendes', 'Carlos Oliveira', 'Pedro Ferreira',\n",
       "       'Clara Ferreira', 'Juliana Souza', 'Eduardo Costa', 'Marcos Silva',\n",
       "       'Maria Pereira', 'Carlos Costa', 'Mateus Lima', 'Clara Mendes',\n",
       "       'Pedro Souza', 'Rafael Pereira', 'Jorge Ferreira',\n",
       "       'Mariana Henrique', 'Ricardo Oliveira'], dtype=object)"
      ]
     },
     "execution_count": 53,
     "metadata": {},
     "output_type": "execute_result"
    }
   ],
   "source": [
    "#df.Nome = df.Nome.replace({' ': ''}, regex=True)\n",
    "df.Nome = df.Nome.apply(lambda x: x.replace(' ', '').replace('.', ' ').title())\n",
    "df.Nome = df.Nome.replace({'': np.NAN})\n",
    "print('missing values:', df.Nome.isna().sum())\n",
    "df.Nome.unique()"
   ]
  },
  {
   "cell_type": "markdown",
   "id": "a7b770fe",
   "metadata": {},
   "source": [
    "---\n",
    "ID:"
   ]
  },
  {
   "cell_type": "code",
   "execution_count": 54,
   "id": "a7080cba",
   "metadata": {},
   "outputs": [],
   "source": [
    "df['ID'] = df['ID'].astype('int')\n"
   ]
  },
  {
   "cell_type": "code",
   "execution_count": 55,
   "id": "3a16bf8f",
   "metadata": {},
   "outputs": [
    {
     "data": {
      "application/vnd.microsoft.datawrangler.viewer.v0+json": {
       "columns": [
        {
         "name": "index",
         "rawType": "int64",
         "type": "integer"
        },
        {
         "name": "ID",
         "rawType": "int32",
         "type": "integer"
        },
        {
         "name": "Nome",
         "rawType": "object",
         "type": "string"
        },
        {
         "name": "Critério",
         "rawType": "object",
         "type": "string"
        },
        {
         "name": "Tipo",
         "rawType": "object",
         "type": "string"
        },
        {
         "name": "Nota",
         "rawType": "float64",
         "type": "float"
        },
        {
         "name": "Justificativa",
         "rawType": "object",
         "type": "string"
        },
        {
         "name": "DataAvaliacao",
         "rawType": "object",
         "type": "string"
        }
       ],
       "conversionMethod": "pd.DataFrame",
       "ref": "5ce4cea2-09e5-47ba-9113-e742977b7f83",
       "rows": [
        [
         "43",
         "3043",
         "Marcos Lima",
         "Resiliencia nas adversidades",
         " COMPORTAMENTAL",
         null,
         "Reativo, falta proatividade",
         "12.04.2023"
        ],
        [
         "49",
         "3049",
         "Marcos Lima",
         "resiliencia nas adversidades",
         " Comportamental",
         null,
         "cumpre prazos, mas sem iniciativa",
         "03/may/23"
        ],
        [
         "203",
         "3203",
         "Marcos Lima",
         "Entregar Com Qualidade",
         " execução",
         "6.4",
         "TRABALHO EM EQUIPE PRECISA MELHORAR",
         "07.05.23"
        ],
        [
         "224",
         "3224",
         "Marcos Lima",
         "SER \"TEAM PLAYER\"",
         " Execução",
         "10.0",
         "Cumpre prazos, mas sem iniciativa\"\"\"",
         "03.05.2023"
        ],
        [
         "236",
         "3236",
         "Marcos Lima",
         "fazer mais com menos",
         " Comportamental",
         null,
         "Boa execução com erros pontuais",
         "15.03.2023"
        ],
        [
         "382",
         "3382",
         "Marcos Lima",
         "atender aos prazos",
         " Comportamental",
         null,
         "REATIVO, FALTA PROATIVIDADE",
         "May 04, 2023"
        ],
        [
         "632",
         "3632",
         "Marcos Lima",
         "Capacidade De Aprender",
         " Execução",
         "8.2",
         "Responsável, porém inseguro",
         "11.04.2023"
        ],
        [
         "635",
         "3635",
         "Marcos Lima",
         "ATENDER AOS PRAZOS",
         " Comportamental",
         "8.5",
         "INOVADOR, MAS CONFUSO",
         "30.04.23"
        ],
        [
         "738",
         "3738",
         "Marcos Lima",
         "organização no trabalho",
         " COMPORTAMENTAL",
         "7.4",
         "cumpre prazos, mas sem iniciativa\"\"\"",
         "15/04/2023"
        ],
        [
         "998",
         "3998",
         "Marcos Lima",
         "RESILIENCIA NAS ADVERSIDADES",
         " Execução",
         null,
         "Organizado, mas às vezes desatento\"\"\"",
         "15/apr/23"
        ]
       ],
       "shape": {
        "columns": 7,
        "rows": 10
       }
      },
      "text/html": [
       "<div>\n",
       "<style scoped>\n",
       "    .dataframe tbody tr th:only-of-type {\n",
       "        vertical-align: middle;\n",
       "    }\n",
       "\n",
       "    .dataframe tbody tr th {\n",
       "        vertical-align: top;\n",
       "    }\n",
       "\n",
       "    .dataframe thead th {\n",
       "        text-align: right;\n",
       "    }\n",
       "</style>\n",
       "<table border=\"1\" class=\"dataframe\">\n",
       "  <thead>\n",
       "    <tr style=\"text-align: right;\">\n",
       "      <th></th>\n",
       "      <th>ID</th>\n",
       "      <th>Nome</th>\n",
       "      <th>Critério</th>\n",
       "      <th>Tipo</th>\n",
       "      <th>Nota</th>\n",
       "      <th>Justificativa</th>\n",
       "      <th>DataAvaliacao</th>\n",
       "    </tr>\n",
       "  </thead>\n",
       "  <tbody>\n",
       "    <tr>\n",
       "      <th>43</th>\n",
       "      <td>3043</td>\n",
       "      <td>Marcos Lima</td>\n",
       "      <td>Resiliencia nas adversidades</td>\n",
       "      <td>COMPORTAMENTAL</td>\n",
       "      <td>NaN</td>\n",
       "      <td>Reativo, falta proatividade</td>\n",
       "      <td>12.04.2023</td>\n",
       "    </tr>\n",
       "    <tr>\n",
       "      <th>49</th>\n",
       "      <td>3049</td>\n",
       "      <td>Marcos Lima</td>\n",
       "      <td>resiliencia nas adversidades</td>\n",
       "      <td>Comportamental</td>\n",
       "      <td>NaN</td>\n",
       "      <td>cumpre prazos, mas sem iniciativa</td>\n",
       "      <td>03/may/23</td>\n",
       "    </tr>\n",
       "    <tr>\n",
       "      <th>203</th>\n",
       "      <td>3203</td>\n",
       "      <td>Marcos Lima</td>\n",
       "      <td>Entregar Com Qualidade</td>\n",
       "      <td>execução</td>\n",
       "      <td>6.4</td>\n",
       "      <td>TRABALHO EM EQUIPE PRECISA MELHORAR</td>\n",
       "      <td>07.05.23</td>\n",
       "    </tr>\n",
       "    <tr>\n",
       "      <th>224</th>\n",
       "      <td>3224</td>\n",
       "      <td>Marcos Lima</td>\n",
       "      <td>SER \"TEAM PLAYER\"</td>\n",
       "      <td>Execução</td>\n",
       "      <td>10.0</td>\n",
       "      <td>Cumpre prazos, mas sem iniciativa\"\"\"</td>\n",
       "      <td>03.05.2023</td>\n",
       "    </tr>\n",
       "    <tr>\n",
       "      <th>236</th>\n",
       "      <td>3236</td>\n",
       "      <td>Marcos Lima</td>\n",
       "      <td>fazer mais com menos</td>\n",
       "      <td>Comportamental</td>\n",
       "      <td>NaN</td>\n",
       "      <td>Boa execução com erros pontuais</td>\n",
       "      <td>15.03.2023</td>\n",
       "    </tr>\n",
       "    <tr>\n",
       "      <th>382</th>\n",
       "      <td>3382</td>\n",
       "      <td>Marcos Lima</td>\n",
       "      <td>atender aos prazos</td>\n",
       "      <td>Comportamental</td>\n",
       "      <td>NaN</td>\n",
       "      <td>REATIVO, FALTA PROATIVIDADE</td>\n",
       "      <td>May 04, 2023</td>\n",
       "    </tr>\n",
       "    <tr>\n",
       "      <th>632</th>\n",
       "      <td>3632</td>\n",
       "      <td>Marcos Lima</td>\n",
       "      <td>Capacidade De Aprender</td>\n",
       "      <td>Execução</td>\n",
       "      <td>8.2</td>\n",
       "      <td>Responsável, porém inseguro</td>\n",
       "      <td>11.04.2023</td>\n",
       "    </tr>\n",
       "    <tr>\n",
       "      <th>635</th>\n",
       "      <td>3635</td>\n",
       "      <td>Marcos Lima</td>\n",
       "      <td>ATENDER AOS PRAZOS</td>\n",
       "      <td>Comportamental</td>\n",
       "      <td>8.5</td>\n",
       "      <td>INOVADOR, MAS CONFUSO</td>\n",
       "      <td>30.04.23</td>\n",
       "    </tr>\n",
       "    <tr>\n",
       "      <th>738</th>\n",
       "      <td>3738</td>\n",
       "      <td>Marcos Lima</td>\n",
       "      <td>organização no trabalho</td>\n",
       "      <td>COMPORTAMENTAL</td>\n",
       "      <td>7.4</td>\n",
       "      <td>cumpre prazos, mas sem iniciativa\"\"\"</td>\n",
       "      <td>15/04/2023</td>\n",
       "    </tr>\n",
       "    <tr>\n",
       "      <th>998</th>\n",
       "      <td>3998</td>\n",
       "      <td>Marcos Lima</td>\n",
       "      <td>RESILIENCIA NAS ADVERSIDADES</td>\n",
       "      <td>Execução</td>\n",
       "      <td>NaN</td>\n",
       "      <td>Organizado, mas às vezes desatento\"\"\"</td>\n",
       "      <td>15/apr/23</td>\n",
       "    </tr>\n",
       "  </tbody>\n",
       "</table>\n",
       "</div>"
      ],
      "text/plain": [
       "       ID         Nome                      Critério             Tipo  Nota  \\\n",
       "43   3043  Marcos Lima  Resiliencia nas adversidades   COMPORTAMENTAL   NaN   \n",
       "49   3049  Marcos Lima  resiliencia nas adversidades   Comportamental   NaN   \n",
       "203  3203  Marcos Lima        Entregar Com Qualidade         execução   6.4   \n",
       "224  3224  Marcos Lima             SER \"TEAM PLAYER\"         Execução  10.0   \n",
       "236  3236  Marcos Lima          fazer mais com menos   Comportamental   NaN   \n",
       "382  3382  Marcos Lima            atender aos prazos   Comportamental   NaN   \n",
       "632  3632  Marcos Lima        Capacidade De Aprender         Execução   8.2   \n",
       "635  3635  Marcos Lima            ATENDER AOS PRAZOS   Comportamental   8.5   \n",
       "738  3738  Marcos Lima       organização no trabalho   COMPORTAMENTAL   7.4   \n",
       "998  3998  Marcos Lima  RESILIENCIA NAS ADVERSIDADES         Execução   NaN   \n",
       "\n",
       "                             Justificativa DataAvaliacao  \n",
       "43             Reativo, falta proatividade    12.04.2023  \n",
       "49       cumpre prazos, mas sem iniciativa     03/may/23  \n",
       "203    TRABALHO EM EQUIPE PRECISA MELHORAR      07.05.23  \n",
       "224   Cumpre prazos, mas sem iniciativa\"\"\"    03.05.2023  \n",
       "236        Boa execução com erros pontuais    15.03.2023  \n",
       "382            REATIVO, FALTA PROATIVIDADE  May 04, 2023  \n",
       "632            Responsável, porém inseguro    11.04.2023  \n",
       "635                  INOVADOR, MAS CONFUSO      30.04.23  \n",
       "738   cumpre prazos, mas sem iniciativa\"\"\"    15/04/2023  \n",
       "998  Organizado, mas às vezes desatento\"\"\"     15/apr/23  "
      ]
     },
     "execution_count": 55,
     "metadata": {},
     "output_type": "execute_result"
    }
   ],
   "source": [
    "df[df.Nome=='Marcos Lima']"
   ]
  },
  {
   "cell_type": "code",
   "execution_count": 56,
   "id": "317eb305",
   "metadata": {},
   "outputs": [
    {
     "data": {
      "text/plain": [
       "Nome\n",
       "Marcos Lima          10\n",
       "Bruno Oliveira       10\n",
       "Jorge Oliveira        9\n",
       "Carolina Henrique     9\n",
       "Carlos Henrique       9\n",
       "                     ..\n",
       "Joana Martins         1\n",
       "Bruno Souza           1\n",
       "Pedro Souza           1\n",
       "Rafael Pereira        1\n",
       "João Souza            1\n",
       "Name: count, Length: 200, dtype: int64"
      ]
     },
     "execution_count": 56,
     "metadata": {},
     "output_type": "execute_result"
    }
   ],
   "source": [
    "df.Nome.value_counts()"
   ]
  },
  {
   "cell_type": "markdown",
   "id": "58c584cf",
   "metadata": {},
   "source": [
    "---\n",
    "DataAvaliacao:"
   ]
  },
  {
   "cell_type": "code",
   "execution_count": 57,
   "id": "e595b7ca",
   "metadata": {},
   "outputs": [
    {
     "data": {
      "text/plain": [
       "array(['April 02, 2023', 'March 10, 2023', 'April 18, 2023', '15/04/2023',\n",
       "       '19.04.23', '15/apr/23', '01.04.23', '31.03.2023', '10.04.23',\n",
       "       '15.04.23', '13/apr/23', '04/may/23', '23.03.23', 'April 15, 2023',\n",
       "       '08/04/2023', '21/04/2023', '28/mar/23', '01/apr/23', '13/03/2023',\n",
       "       '16/03/2023', 'April 24, 2023', '16/04/2023', '08.04.23',\n",
       "       '02.05.23', '30/mar/23', '03/04/2023', '07.05.23', '30.03.2023',\n",
       "       'April 20, 2023', '16/apr/23', '03.04.2023', '22/apr/23',\n",
       "       '01/04/2023', '21.03.2023', '01.05.2023', 'March 30, 2023',\n",
       "       '23.04.2023', '24/apr/23', '29.03.23', '12.04.2023', '26/03/2023',\n",
       "       '21.04.23', '07.04.23', '12.04.23', '03/may/23', '25.04.23',\n",
       "       '27.04.23', '30.04.2023', '20/apr/23', '07.04.2023', '08/apr/23',\n",
       "       '23/mar/23', '14.04.23', '28.03.23', 'April 28, 2023',\n",
       "       '11.04.2023', '22.04.2023', '22.03.23', '29.04.23', '24.03.2023',\n",
       "       'April 26, 2023', 'April 25, 2023', 'April 11, 2023', '19.03.23',\n",
       "       '21/03/2023', '09/apr/23', 'April 13, 2023', '12/mar/23',\n",
       "       '17/apr/23', '01.04.2023', '14/04/2023', '12.03.2023', '07/may/23',\n",
       "       '17.03.2023', '10.03.2023', '24/03/2023', 'April 06, 2023',\n",
       "       '19.04.2023', '07/04/2023', '30/03/2023', '09/05/2023',\n",
       "       '13.04.2023', 'March 31, 2023', '11/04/2023', '11.03.23',\n",
       "       '26.04.2023', '02.04.23', '12/apr/23', '14.03.2023', '04/04/2023',\n",
       "       '05/may/23', '04.05.2023', 'March 19, 2023', '09/may/23',\n",
       "       '16.04.2023', '28/03/2023', 'April 22, 2023', '28.04.23',\n",
       "       '18.03.2023', '18.03.23', '06.05.2023', '08/05/2023', '26.03.23',\n",
       "       '17.04.2023', '25/03/2023', 'March 29, 2023', 'March 16, 2023',\n",
       "       '30/04/2023', 'April 23, 2023', '19/mar/23', 'March 18, 2023',\n",
       "       'April 14, 2023', '03.05.2023', '31/mar/23', 'March 28, 2023',\n",
       "       '29/03/2023', '17.03.23', '04.04.2023', '22/04/2023',\n",
       "       'April 03, 2023', '11/mar/23', '06/may/23', '11.03.2023',\n",
       "       '20.03.2023', '09.04.2023', '12/04/2023', '28.04.2023',\n",
       "       '10/03/2023', 'March 11, 2023', '05/04/2023', '05.04.2023',\n",
       "       'March 26, 2023', 'May 01, 2023', '14/apr/23', '20.04.2023',\n",
       "       'May 06, 2023', '29/apr/23', '01.05.23', '03/05/2023', '30.03.23',\n",
       "       '03/apr/23', '22/mar/23', '28.03.2023', '28/apr/23', '27.04.2023',\n",
       "       '20/04/2023', '05/05/2023', '06.04.2023', 'March 24, 2023',\n",
       "       'May 02, 2023', '24.04.2023', '25.04.2023', '16.04.23',\n",
       "       '06/apr/23', '18/04/2023', '20/03/2023', '21.04.2023',\n",
       "       'April 21, 2023', '15/03/2023', '24.03.23', '19/04/2023',\n",
       "       '05/apr/23', '15.03.2023', 'March 22, 2023', 'March 20, 2023',\n",
       "       '22.03.2023', 'May 04, 2023', '06.05.23', 'April 09, 2023',\n",
       "       '02.04.2023', 'May 05, 2023', '07.05.2023', 'March 17, 2023',\n",
       "       '26.04.23', '27/04/2023', '18/03/2023', 'April 08, 2023',\n",
       "       '17.04.23', '15.03.23', 'April 01, 2023', '04/05/2023', '30.04.23',\n",
       "       '25/mar/23', '22.04.23', '25.03.23', '14.03.23', '20/mar/23',\n",
       "       '07/05/2023', '21/mar/23', '10/04/2023', 'April 07, 2023',\n",
       "       '18.04.2023', '08.05.23', '06.04.23', 'April 27, 2023',\n",
       "       '23/03/2023', '01/may/23', '26.03.2023', '16.03.2023',\n",
       "       '01/05/2023', '14.04.2023', '02/05/2023', '09.05.23', '10/apr/23',\n",
       "       '09.05.2023', '26/apr/23', '29/mar/23', '27/apr/23', '06/05/2023',\n",
       "       '11/03/2023', '19/apr/23', 'March 27, 2023', 'March 15, 2023',\n",
       "       'March 23, 2023', '19/03/2023', '19.03.2023', 'April 17, 2023',\n",
       "       '11/apr/23', '02.05.2023', '16.03.23', '21.03.23', '28/04/2023',\n",
       "       '09.04.23', '14/mar/23', '18.04.23', '15.04.2023', '22/03/2023',\n",
       "       '27.03.2023', '08/may/23', '26/mar/23', '20.04.23', '26/04/2023',\n",
       "       '29/04/2023', '24/04/2023', '13.03.23', '10.04.2023', '09/04/2023',\n",
       "       '17/03/2023', '23/apr/23', 'April 12, 2023', '31/03/2023',\n",
       "       '02/may/23', 'May 09, 2023', 'April 30, 2023', '21/apr/23',\n",
       "       'March 13, 2023', '25/04/2023', '05.05.2023', '20.03.23',\n",
       "       '14/03/2023', '29.04.2023', '18/apr/23', '27/mar/23', '06/04/2023',\n",
       "       'April 29, 2023', 'May 03, 2023', '31.03.23', 'April 05, 2023',\n",
       "       '15/mar/23', '02/apr/23', '23.03.2023', '27.03.23',\n",
       "       'April 16, 2023', '30/apr/23', '08.04.2023', '03.05.23',\n",
       "       '03.04.23', '24.04.23', '04.05.23', '10/mar/23', '04.04.23',\n",
       "       '12/03/2023', '25/apr/23', 'March 12, 2023', 'March 14, 2023',\n",
       "       '13/mar/23', '27/03/2023', '29.03.2023', '17/mar/23',\n",
       "       'May 08, 2023', '08.05.2023', '13.03.2023', '07/apr/23',\n",
       "       'April 10, 2023', 'March 25, 2023', '18/mar/23', '12.03.23',\n",
       "       'May 07, 2023', '24/mar/23', '13.04.23', '05.04.23', '16/mar/23',\n",
       "       '23.04.23', '05.05.23'], dtype=object)"
      ]
     },
     "execution_count": 57,
     "metadata": {},
     "output_type": "execute_result"
    }
   ],
   "source": [
    "df['DataAvaliacao'].unique()"
   ]
  },
  {
   "cell_type": "code",
   "execution_count": 58,
   "id": "78388328",
   "metadata": {},
   "outputs": [],
   "source": [
    "# Função para converter para datetime e formatar para dd/mm/aaaa\n",
    "def parse_date(data_str):\n",
    "    try:\n",
    "        dt = parser.parse(data_str, dayfirst=True)\n",
    "        return dt.strftime('%d/%m/%Y')\n",
    "    except:\n",
    "        return np.NAN\n",
    "\n",
    "# Supondo que sua coluna seja df['data']\n",
    "df['data_formatada'] = df['DataAvaliacao'].apply(parse_date)"
   ]
  },
  {
   "cell_type": "code",
   "execution_count": 59,
   "id": "95403e58",
   "metadata": {},
   "outputs": [
    {
     "data": {
      "text/plain": [
       "DataAvaliacao     0\n",
       "data_formatada    0\n",
       "dtype: int64"
      ]
     },
     "execution_count": 59,
     "metadata": {},
     "output_type": "execute_result"
    }
   ],
   "source": [
    "df[['DataAvaliacao','data_formatada']].isna().sum()"
   ]
  },
  {
   "cell_type": "code",
   "execution_count": 62,
   "id": "c05452a5",
   "metadata": {},
   "outputs": [],
   "source": [
    "df['DataAvaliacao'] = pd.to_datetime(df['data_formatada'], dayfirst=True)\n",
    "df = df.drop(columns=['data_formatada'])"
   ]
  },
  {
   "cell_type": "code",
   "execution_count": 63,
   "id": "220d5454",
   "metadata": {},
   "outputs": [
    {
     "data": {
      "application/vnd.microsoft.datawrangler.viewer.v0+json": {
       "columns": [
        {
         "name": "index",
         "rawType": "int64",
         "type": "integer"
        },
        {
         "name": "ID",
         "rawType": "int32",
         "type": "integer"
        },
        {
         "name": "Nome",
         "rawType": "object",
         "type": "unknown"
        },
        {
         "name": "Critério",
         "rawType": "object",
         "type": "string"
        },
        {
         "name": "Tipo",
         "rawType": "object",
         "type": "string"
        },
        {
         "name": "Nota",
         "rawType": "float64",
         "type": "float"
        },
        {
         "name": "Justificativa",
         "rawType": "object",
         "type": "string"
        },
        {
         "name": "DataAvaliacao",
         "rawType": "datetime64[ns]",
         "type": "datetime"
        }
       ],
       "conversionMethod": "pd.DataFrame",
       "ref": "b78fa9e4-7ff0-416b-93c8-48c0369435f2",
       "rows": [
        [
         "0",
         "3000",
         "Pedro Henrique",
         "Ser \"team player\"",
         " Execução",
         null,
         "inovador, mas confuso",
         "2023-04-02 00:00:00"
        ],
        [
         "1",
         "3001",
         "Luiza Henrique",
         "Atender Aos Prazos",
         " EXECUÇÃO",
         "7.6",
         "Boa Execução Com Erros Pontuais",
         "2023-03-10 00:00:00"
        ],
        [
         "2",
         "3002",
         "Mariana Costa",
         "Fazer Mais Com Menos",
         " execução",
         "8.0",
         "RESPONSÁVEL, PORÉM INSEGURO",
         "2023-04-18 00:00:00"
        ],
        [
         "3",
         "3003",
         null,
         "PENSAR FORA DA CAIXA",
         " COMPORTAMENTAL",
         "6.0",
         "trabalho em equipe precisa melhorar\"\"\"",
         "2023-04-15 00:00:00"
        ],
        [
         "4",
         "3004",
         "Joana Silva",
         "Resiliencia Nas Adversidades",
         " Execução",
         "10.0",
         "organizado, mas às vezes desatento",
         "2023-04-19 00:00:00"
        ],
        [
         "5",
         "3005",
         "Ricardo Silva",
         "RESILIENCIA NAS ADVERSIDADES",
         " Execução",
         "8.0",
         "reativo, falta proatividade",
         "2023-04-15 00:00:00"
        ],
        [
         "6",
         "3006",
         "Luiza Martins",
         "Entregar com qualidade",
         " Comportamental",
         "10.0",
         "ENTREGA CONSISTENTE, MAS FALTA COMUNICAÇÃO",
         "2023-04-01 00:00:00"
        ],
        [
         "7",
         "3007",
         "Bruno Lima",
         "RESILIENCIA NAS ADVERSIDADES",
         " COMPORTAMENTAL",
         "9.5",
         "Criativo, porém pouco claro",
         "2023-03-31 00:00:00"
        ],
        [
         "8",
         "3008",
         "João Lima",
         "Capacidade De Aprender",
         " Comportamental",
         "8.0",
         "Inovador, mas confuso",
         "2023-04-10 00:00:00"
        ],
        [
         "9",
         "3009",
         "Ricardo Martins",
         "Sentimento De Dono",
         " COMPORTAMENTAL",
         null,
         "reativo, falta proatividade\"\"\"",
         "2023-04-15 00:00:00"
        ],
        [
         "10",
         "3010",
         "Carolina Mendes",
         "ATENDER AOS PRAZOS",
         " Execução",
         null,
         "Aprende rápido, mas esquece feedbacks",
         "2023-04-13 00:00:00"
        ],
        [
         "11",
         "3011",
         null,
         "Organização no trabalho",
         " Comportamental",
         "8.0",
         "Cumpre Prazos, Mas Sem Iniciativa",
         "2023-05-04 00:00:00"
        ],
        [
         "12",
         "3012",
         "Sofia Martins",
         "SENTIMENTO DE DONO",
         " Comportamental",
         "7.1",
         "Criativo, Porém Pouco Claro",
         "2023-03-23 00:00:00"
        ],
        [
         "13",
         "3013",
         "Ana Pereira",
         "RESILIENCIA NAS ADVERSIDADES",
         " EXECUÇÃO",
         "6.2",
         "Inovador, mas confuso",
         "2023-04-15 00:00:00"
        ],
        [
         "14",
         "3014",
         "João Costa",
         "Atender aos prazos",
         " COMPORTAMENTAL",
         null,
         "Criativo, porém pouco claro",
         "2023-04-08 00:00:00"
        ],
        [
         "15",
         "3015",
         "Mariana Silva",
         "organização no trabalho",
         " execução",
         "8.4",
         "TRABALHO EM EQUIPE PRECISA MELHORAR",
         "2023-04-21 00:00:00"
        ],
        [
         "16",
         "3016",
         "Sofia Henrique",
         "Ser \"team player\"",
         " EXECUÇÃO",
         null,
         "Aprende Rápido, Mas Esquece Feedbacks\"\"\"",
         "2023-03-28 00:00:00"
        ],
        [
         "17",
         "3017",
         "Juliana Henrique",
         "fazer mais com menos",
         " comportamental",
         null,
         "Organizado, mas às vezes desatento\"\"\"",
         "2023-04-01 00:00:00"
        ],
        [
         "18",
         "3018",
         "Clara Oliveira",
         "Fazer mais com menos",
         " comportamental",
         "7.0",
         "Entrega consistente, mas falta comunicação\"\"\"",
         "2023-03-13 00:00:00"
        ],
        [
         "19",
         "3019",
         "Rafael Silva",
         "Ser \"Team Player\"",
         " Execução",
         "6.5",
         "boa execução com erros pontuais\"\"\"",
         "2023-03-16 00:00:00"
        ],
        [
         "20",
         "3020",
         "Ana Martins",
         "ENTREGAR COM QUALIDADE",
         " EXECUÇÃO",
         "6.5",
         "Criativo, Porém Pouco Claro\"\"\"",
         "2023-04-24 00:00:00"
        ],
        [
         "21",
         "3021",
         "Marcos Mendes",
         "Resiliencia nas adversidades",
         " execução",
         "10.0",
         "Trabalho Em Equipe Precisa Melhorar\"\"\"",
         "2023-04-16 00:00:00"
        ],
        [
         "22",
         "3022",
         "Carolina Henrique",
         "Fazer Mais Com Menos",
         " execução",
         "9.0",
         "Aprende rápido, mas esquece feedbacks\"\"\"",
         "2023-04-08 00:00:00"
        ],
        [
         "23",
         "3023",
         "Carolina Martins",
         "resiliencia nas adversidades",
         " EXECUÇÃO",
         null,
         "Trabalho Em Equipe Precisa Melhorar\"\"\"",
         "2023-05-02 00:00:00"
        ],
        [
         "24",
         "3024",
         "Sofia Oliveira",
         "Organização No Trabalho",
         " Execução",
         "8.4",
         "Entrega consistente, mas falta comunicação",
         "2023-03-30 00:00:00"
        ],
        [
         "25",
         "3025",
         "Pedro Martins",
         "Resiliencia Nas Adversidades",
         " Execução",
         "9.7",
         "Boa execução com erros pontuais\"\"\"",
         "2023-04-03 00:00:00"
        ],
        [
         "26",
         "3026",
         "Marcos Mendes",
         "Resiliencia nas adversidades",
         " Comportamental",
         null,
         "Trabalho Em Equipe Precisa Melhorar",
         "2023-05-07 00:00:00"
        ],
        [
         "27",
         "3027",
         "Carolina Costa",
         "Atender Aos Prazos",
         " Execução",
         null,
         "Cumpre prazos, mas sem iniciativa",
         "2023-03-30 00:00:00"
        ],
        [
         "28",
         "3028",
         "Carlos Lima",
         "ENTREGAR COM QUALIDADE",
         " Comportamental",
         null,
         "Entrega consistente, mas falta comunicação",
         "2023-04-20 00:00:00"
        ],
        [
         "29",
         "3029",
         null,
         "RESILIENCIA NAS ADVERSIDADES",
         " Execução",
         "10.0",
         "Reativo, Falta Proatividade\"\"\"",
         "2023-04-16 00:00:00"
        ],
        [
         "30",
         "3030",
         "Rafael Henrique",
         "Fazer mais com menos",
         " execução",
         "6.4",
         "Boa execução com erros pontuais",
         "2023-04-03 00:00:00"
        ],
        [
         "31",
         "3031",
         "Maria Silva",
         "RESILIENCIA NAS ADVERSIDADES",
         " Execução",
         "6.1",
         "Criativo, porém pouco claro",
         "2023-04-22 00:00:00"
        ],
        [
         "32",
         "3032",
         "Marcos Costa",
         "ORGANIZAÇÃO NO TRABALHO",
         " Execução",
         null,
         "Aprende rápido, mas esquece feedbacks",
         "2023-04-01 00:00:00"
        ],
        [
         "33",
         "3033",
         "Juliana Pereira",
         "SER \"TEAM PLAYER\"",
         " COMPORTAMENTAL",
         "7.0",
         "Reativo, Falta Proatividade",
         "2023-03-21 00:00:00"
        ],
        [
         "34",
         "3034",
         "Ana Henrique",
         "organização no trabalho",
         " execução",
         "9.7",
         "Entrega consistente, mas falta comunicação",
         "2023-04-21 00:00:00"
        ],
        [
         "35",
         "3035",
         "Fernanda Pereira",
         "Ser \"Team Player\"",
         " comportamental",
         null,
         "ENTREGA CONSISTENTE, MAS FALTA COMUNICAÇÃO\"\"\"",
         "2023-05-01 00:00:00"
        ],
        [
         "36",
         "3036",
         "Sofia Costa",
         "Resiliencia nas adversidades",
         " comportamental",
         null,
         "TRABALHO EM EQUIPE PRECISA MELHORAR",
         "2023-03-30 00:00:00"
        ],
        [
         "37",
         "3037",
         "Eduardo Oliveira",
         "Sentimento de dono",
         " Execução",
         null,
         "REATIVO, FALTA PROATIVIDADE",
         "2023-04-23 00:00:00"
        ],
        [
         "38",
         "3038",
         "Mariana Mendes",
         "resiliencia nas adversidades",
         " COMPORTAMENTAL",
         "9.3",
         "Responsável, porém inseguro",
         "2023-04-24 00:00:00"
        ],
        [
         "39",
         "3039",
         "Carolina Martins",
         "Pensar fora da caixa",
         " execução",
         "9.1",
         "Boa execução com erros pontuais\"\"\"",
         "2023-05-07 00:00:00"
        ],
        [
         "40",
         "3040",
         "Rafael Souza",
         "fazer mais com menos",
         " Execução",
         "6.9",
         "Trabalho em equipe precisa melhorar",
         "2023-05-04 00:00:00"
        ],
        [
         "41",
         "3041",
         "Sofia Oliveira",
         "Ser \"team player\"",
         " Comportamental",
         "6.9",
         "RESPONSÁVEL, PORÉM INSEGURO\"\"\"",
         "2023-03-29 00:00:00"
        ],
        [
         "42",
         "3042",
         "Maria Mendes",
         "Resiliencia nas adversidades",
         " EXECUÇÃO",
         "6.7",
         "INOVADOR, MAS CONFUSO",
         "2023-03-16 00:00:00"
        ],
        [
         "43",
         "3043",
         "Marcos Lima",
         "Resiliencia nas adversidades",
         " COMPORTAMENTAL",
         null,
         "Reativo, falta proatividade",
         "2023-04-12 00:00:00"
        ],
        [
         "44",
         "3044",
         "Bruno Henrique",
         "ATENDER AOS PRAZOS",
         " Comportamental",
         "6.6",
         "CRIATIVO, PORÉM POUCO CLARO",
         "2023-03-26 00:00:00"
        ],
        [
         "45",
         "3045",
         "Mateus Silva",
         "Fazer Mais Com Menos",
         " Execução",
         "7.6",
         "Trabalho Em Equipe Precisa Melhorar\"\"\"",
         "2023-05-01 00:00:00"
        ],
        [
         "46",
         "3046",
         "João Costa",
         "ATENDER AOS PRAZOS",
         " Execução",
         "9.8",
         "Organizado, Mas Às Vezes Desatento",
         "2023-04-21 00:00:00"
        ],
        [
         "47",
         "3047",
         "Luiza Martins",
         "Sentimento de dono",
         " Comportamental",
         "9.7",
         "INOVADOR, MAS CONFUSO",
         "2023-04-07 00:00:00"
        ],
        [
         "48",
         "3048",
         "Eduardo Ferreira",
         "PENSAR FORA DA CAIXA",
         " execução",
         "9.0",
         "cumpre prazos, mas sem iniciativa\"\"\"",
         "2023-04-12 00:00:00"
        ],
        [
         "49",
         "3049",
         "Marcos Lima",
         "resiliencia nas adversidades",
         " Comportamental",
         null,
         "cumpre prazos, mas sem iniciativa",
         "2023-05-03 00:00:00"
        ]
       ],
       "shape": {
        "columns": 7,
        "rows": 1000
       }
      },
      "text/html": [
       "<div>\n",
       "<style scoped>\n",
       "    .dataframe tbody tr th:only-of-type {\n",
       "        vertical-align: middle;\n",
       "    }\n",
       "\n",
       "    .dataframe tbody tr th {\n",
       "        vertical-align: top;\n",
       "    }\n",
       "\n",
       "    .dataframe thead th {\n",
       "        text-align: right;\n",
       "    }\n",
       "</style>\n",
       "<table border=\"1\" class=\"dataframe\">\n",
       "  <thead>\n",
       "    <tr style=\"text-align: right;\">\n",
       "      <th></th>\n",
       "      <th>ID</th>\n",
       "      <th>Nome</th>\n",
       "      <th>Critério</th>\n",
       "      <th>Tipo</th>\n",
       "      <th>Nota</th>\n",
       "      <th>Justificativa</th>\n",
       "      <th>DataAvaliacao</th>\n",
       "    </tr>\n",
       "  </thead>\n",
       "  <tbody>\n",
       "    <tr>\n",
       "      <th>0</th>\n",
       "      <td>3000</td>\n",
       "      <td>Pedro Henrique</td>\n",
       "      <td>Ser \"team player\"</td>\n",
       "      <td>Execução</td>\n",
       "      <td>NaN</td>\n",
       "      <td>inovador, mas confuso</td>\n",
       "      <td>2023-04-02</td>\n",
       "    </tr>\n",
       "    <tr>\n",
       "      <th>1</th>\n",
       "      <td>3001</td>\n",
       "      <td>Luiza Henrique</td>\n",
       "      <td>Atender Aos Prazos</td>\n",
       "      <td>EXECUÇÃO</td>\n",
       "      <td>7.6</td>\n",
       "      <td>Boa Execução Com Erros Pontuais</td>\n",
       "      <td>2023-03-10</td>\n",
       "    </tr>\n",
       "    <tr>\n",
       "      <th>2</th>\n",
       "      <td>3002</td>\n",
       "      <td>Mariana Costa</td>\n",
       "      <td>Fazer Mais Com Menos</td>\n",
       "      <td>execução</td>\n",
       "      <td>8.0</td>\n",
       "      <td>RESPONSÁVEL, PORÉM INSEGURO</td>\n",
       "      <td>2023-04-18</td>\n",
       "    </tr>\n",
       "    <tr>\n",
       "      <th>3</th>\n",
       "      <td>3003</td>\n",
       "      <td>NaN</td>\n",
       "      <td>PENSAR FORA DA CAIXA</td>\n",
       "      <td>COMPORTAMENTAL</td>\n",
       "      <td>6.0</td>\n",
       "      <td>trabalho em equipe precisa melhorar\"\"\"</td>\n",
       "      <td>2023-04-15</td>\n",
       "    </tr>\n",
       "    <tr>\n",
       "      <th>4</th>\n",
       "      <td>3004</td>\n",
       "      <td>Joana Silva</td>\n",
       "      <td>Resiliencia Nas Adversidades</td>\n",
       "      <td>Execução</td>\n",
       "      <td>10.0</td>\n",
       "      <td>organizado, mas às vezes desatento</td>\n",
       "      <td>2023-04-19</td>\n",
       "    </tr>\n",
       "    <tr>\n",
       "      <th>...</th>\n",
       "      <td>...</td>\n",
       "      <td>...</td>\n",
       "      <td>...</td>\n",
       "      <td>...</td>\n",
       "      <td>...</td>\n",
       "      <td>...</td>\n",
       "      <td>...</td>\n",
       "    </tr>\n",
       "    <tr>\n",
       "      <th>995</th>\n",
       "      <td>3995</td>\n",
       "      <td>Pedro Pereira</td>\n",
       "      <td>Resiliencia nas adversidades</td>\n",
       "      <td>Execução</td>\n",
       "      <td>NaN</td>\n",
       "      <td>Organizado, mas às vezes desatento</td>\n",
       "      <td>2023-03-19</td>\n",
       "    </tr>\n",
       "    <tr>\n",
       "      <th>996</th>\n",
       "      <td>3996</td>\n",
       "      <td>Rafael Lima</td>\n",
       "      <td>Ser \"team player\"</td>\n",
       "      <td>Comportamental</td>\n",
       "      <td>NaN</td>\n",
       "      <td>BOA EXECUÇÃO COM ERROS PONTUAIS\"\"\"</td>\n",
       "      <td>2023-04-30</td>\n",
       "    </tr>\n",
       "    <tr>\n",
       "      <th>997</th>\n",
       "      <td>3997</td>\n",
       "      <td>NaN</td>\n",
       "      <td>Sentimento De Dono</td>\n",
       "      <td>COMPORTAMENTAL</td>\n",
       "      <td>6.0</td>\n",
       "      <td>Responsável, porém inseguro</td>\n",
       "      <td>2023-03-16</td>\n",
       "    </tr>\n",
       "    <tr>\n",
       "      <th>998</th>\n",
       "      <td>3998</td>\n",
       "      <td>Marcos Lima</td>\n",
       "      <td>RESILIENCIA NAS ADVERSIDADES</td>\n",
       "      <td>Execução</td>\n",
       "      <td>NaN</td>\n",
       "      <td>Organizado, mas às vezes desatento\"\"\"</td>\n",
       "      <td>2023-04-15</td>\n",
       "    </tr>\n",
       "    <tr>\n",
       "      <th>999</th>\n",
       "      <td>3999</td>\n",
       "      <td>Jorge Pereira</td>\n",
       "      <td>Fazer Mais Com Menos</td>\n",
       "      <td>Execução</td>\n",
       "      <td>NaN</td>\n",
       "      <td>aprende rápido, mas esquece feedbacks\"\"\"</td>\n",
       "      <td>2023-04-06</td>\n",
       "    </tr>\n",
       "  </tbody>\n",
       "</table>\n",
       "<p>1000 rows × 7 columns</p>\n",
       "</div>"
      ],
      "text/plain": [
       "       ID            Nome                      Critério             Tipo  \\\n",
       "0    3000  Pedro Henrique             Ser \"team player\"         Execução   \n",
       "1    3001  Luiza Henrique            Atender Aos Prazos         EXECUÇÃO   \n",
       "2    3002   Mariana Costa          Fazer Mais Com Menos         execução   \n",
       "3    3003             NaN          PENSAR FORA DA CAIXA   COMPORTAMENTAL   \n",
       "4    3004     Joana Silva  Resiliencia Nas Adversidades         Execução   \n",
       "..    ...             ...                           ...              ...   \n",
       "995  3995   Pedro Pereira  Resiliencia nas adversidades         Execução   \n",
       "996  3996     Rafael Lima             Ser \"team player\"   Comportamental   \n",
       "997  3997             NaN            Sentimento De Dono   COMPORTAMENTAL   \n",
       "998  3998     Marcos Lima  RESILIENCIA NAS ADVERSIDADES         Execução   \n",
       "999  3999   Jorge Pereira          Fazer Mais Com Menos         Execução   \n",
       "\n",
       "     Nota                             Justificativa DataAvaliacao  \n",
       "0     NaN                     inovador, mas confuso    2023-04-02  \n",
       "1     7.6           Boa Execução Com Erros Pontuais    2023-03-10  \n",
       "2     8.0               RESPONSÁVEL, PORÉM INSEGURO    2023-04-18  \n",
       "3     6.0    trabalho em equipe precisa melhorar\"\"\"    2023-04-15  \n",
       "4    10.0        organizado, mas às vezes desatento    2023-04-19  \n",
       "..    ...                                       ...           ...  \n",
       "995   NaN        Organizado, mas às vezes desatento    2023-03-19  \n",
       "996   NaN        BOA EXECUÇÃO COM ERROS PONTUAIS\"\"\"    2023-04-30  \n",
       "997   6.0               Responsável, porém inseguro    2023-03-16  \n",
       "998   NaN     Organizado, mas às vezes desatento\"\"\"    2023-04-15  \n",
       "999   NaN  aprende rápido, mas esquece feedbacks\"\"\"    2023-04-06  \n",
       "\n",
       "[1000 rows x 7 columns]"
      ]
     },
     "execution_count": 63,
     "metadata": {},
     "output_type": "execute_result"
    }
   ],
   "source": [
    "df"
   ]
  },
  {
   "cell_type": "markdown",
   "id": "3f43fec6",
   "metadata": {},
   "source": [
    "---\n",
    "Tipo:"
   ]
  },
  {
   "cell_type": "code",
   "execution_count": 67,
   "id": "1c6268c7",
   "metadata": {},
   "outputs": [
    {
     "data": {
      "text/plain": [
       "array([' Execução', ' EXECUÇÃO', ' execução', ' COMPORTAMENTAL',\n",
       "       ' Comportamental', ' comportamental'], dtype=object)"
      ]
     },
     "execution_count": 67,
     "metadata": {},
     "output_type": "execute_result"
    }
   ],
   "source": [
    "df['Tipo'].unique()"
   ]
  },
  {
   "cell_type": "code",
   "execution_count": 70,
   "id": "ee256546",
   "metadata": {},
   "outputs": [
    {
     "data": {
      "text/plain": [
       "0            Execução\n",
       "1            Execução\n",
       "2            Execução\n",
       "3      Comportamental\n",
       "4            Execução\n",
       "            ...      \n",
       "995          Execução\n",
       "996    Comportamental\n",
       "997    Comportamental\n",
       "998          Execução\n",
       "999          Execução\n",
       "Name: Tipo, Length: 1000, dtype: object"
      ]
     },
     "execution_count": 70,
     "metadata": {},
     "output_type": "execute_result"
    }
   ],
   "source": [
    "df['Tipo'] = df['Tipo'].apply(lambda x: x.replace(' ', '').title())\n",
    "df['Tipo']"
   ]
  },
  {
   "cell_type": "code",
   "execution_count": 71,
   "id": "ec9c2f54",
   "metadata": {},
   "outputs": [
    {
     "data": {
      "text/plain": [
       "array(['Execução', 'Comportamental'], dtype=object)"
      ]
     },
     "execution_count": 71,
     "metadata": {},
     "output_type": "execute_result"
    }
   ],
   "source": [
    "df['Tipo'].unique()"
   ]
  },
  {
   "cell_type": "markdown",
   "id": "4fd25f49",
   "metadata": {},
   "source": [
    "---\n",
    "Critério:"
   ]
  },
  {
   "cell_type": "code",
   "execution_count": 72,
   "id": "cd1cc27d",
   "metadata": {},
   "outputs": [
    {
     "data": {
      "text/plain": [
       "array(['Ser \"team player\"', 'Atender Aos Prazos', 'Fazer Mais Com Menos',\n",
       "       'PENSAR FORA DA CAIXA', 'Resiliencia Nas Adversidades',\n",
       "       'RESILIENCIA NAS ADVERSIDADES', 'Entregar com qualidade',\n",
       "       'Capacidade De Aprender', 'Sentimento De Dono',\n",
       "       'ATENDER AOS PRAZOS', 'Organização no trabalho',\n",
       "       'SENTIMENTO DE DONO', 'Atender aos prazos',\n",
       "       'organização no trabalho', 'fazer mais com menos',\n",
       "       'Fazer mais com menos', 'Ser \"Team Player\"',\n",
       "       'ENTREGAR COM QUALIDADE', 'Resiliencia nas adversidades',\n",
       "       'resiliencia nas adversidades', 'Organização No Trabalho',\n",
       "       'ORGANIZAÇÃO NO TRABALHO', 'SER \"TEAM PLAYER\"',\n",
       "       'Sentimento de dono', 'Pensar fora da caixa',\n",
       "       'Pensar Fora Da Caixa', 'entregar com qualidade',\n",
       "       'Entregar Com Qualidade', 'capacidade de aprender',\n",
       "       'FAZER MAIS COM MENOS', 'Capacidade de aprender',\n",
       "       'CAPACIDADE DE APRENDER', 'atender aos prazos',\n",
       "       'pensar fora da caixa', 'sentimento de dono', 'ser \"team player\"'],\n",
       "      dtype=object)"
      ]
     },
     "execution_count": 72,
     "metadata": {},
     "output_type": "execute_result"
    }
   ],
   "source": [
    "df['Critério'].unique()"
   ]
  },
  {
   "cell_type": "code",
   "execution_count": 75,
   "id": "962ba58a",
   "metadata": {},
   "outputs": [
    {
     "data": {
      "text/plain": [
       "array(['Ser team player', 'Atender aos prazos', 'Fazer mais com menos',\n",
       "       'Pensar fora da caixa', 'Resiliencia nas adversidades',\n",
       "       'Entregar com qualidade', 'Capacidade de aprender',\n",
       "       'Sentimento de dono', 'Organização no trabalho'], dtype=object)"
      ]
     },
     "execution_count": 75,
     "metadata": {},
     "output_type": "execute_result"
    }
   ],
   "source": [
    "df['Critério'] = df['Critério'].apply(lambda x: x.replace('\"', '').capitalize())\n",
    "df['Critério'].unique()"
   ]
  },
  {
   "cell_type": "code",
   "execution_count": 76,
   "id": "640e92c1",
   "metadata": {},
   "outputs": [
    {
     "data": {
      "application/vnd.microsoft.datawrangler.viewer.v0+json": {
       "columns": [
        {
         "name": "index",
         "rawType": "int64",
         "type": "integer"
        },
        {
         "name": "ID",
         "rawType": "int32",
         "type": "integer"
        },
        {
         "name": "Nome",
         "rawType": "object",
         "type": "unknown"
        },
        {
         "name": "Critério",
         "rawType": "object",
         "type": "string"
        },
        {
         "name": "Tipo",
         "rawType": "object",
         "type": "string"
        },
        {
         "name": "Nota",
         "rawType": "float64",
         "type": "float"
        },
        {
         "name": "Justificativa",
         "rawType": "object",
         "type": "string"
        },
        {
         "name": "DataAvaliacao",
         "rawType": "datetime64[ns]",
         "type": "datetime"
        }
       ],
       "conversionMethod": "pd.DataFrame",
       "ref": "1e6250c0-9c06-4a83-9e5e-f723ef0896d4",
       "rows": [
        [
         "0",
         "3000",
         "Pedro Henrique",
         "Ser team player",
         "Execução",
         null,
         "inovador, mas confuso",
         "2023-04-02 00:00:00"
        ],
        [
         "1",
         "3001",
         "Luiza Henrique",
         "Atender aos prazos",
         "Execução",
         "7.6",
         "Boa Execução Com Erros Pontuais",
         "2023-03-10 00:00:00"
        ],
        [
         "2",
         "3002",
         "Mariana Costa",
         "Fazer mais com menos",
         "Execução",
         "8.0",
         "RESPONSÁVEL, PORÉM INSEGURO",
         "2023-04-18 00:00:00"
        ],
        [
         "3",
         "3003",
         null,
         "Pensar fora da caixa",
         "Comportamental",
         "6.0",
         "trabalho em equipe precisa melhorar\"\"\"",
         "2023-04-15 00:00:00"
        ],
        [
         "4",
         "3004",
         "Joana Silva",
         "Resiliencia nas adversidades",
         "Execução",
         "10.0",
         "organizado, mas às vezes desatento",
         "2023-04-19 00:00:00"
        ],
        [
         "5",
         "3005",
         "Ricardo Silva",
         "Resiliencia nas adversidades",
         "Execução",
         "8.0",
         "reativo, falta proatividade",
         "2023-04-15 00:00:00"
        ],
        [
         "6",
         "3006",
         "Luiza Martins",
         "Entregar com qualidade",
         "Comportamental",
         "10.0",
         "ENTREGA CONSISTENTE, MAS FALTA COMUNICAÇÃO",
         "2023-04-01 00:00:00"
        ],
        [
         "7",
         "3007",
         "Bruno Lima",
         "Resiliencia nas adversidades",
         "Comportamental",
         "9.5",
         "Criativo, porém pouco claro",
         "2023-03-31 00:00:00"
        ],
        [
         "8",
         "3008",
         "João Lima",
         "Capacidade de aprender",
         "Comportamental",
         "8.0",
         "Inovador, mas confuso",
         "2023-04-10 00:00:00"
        ],
        [
         "9",
         "3009",
         "Ricardo Martins",
         "Sentimento de dono",
         "Comportamental",
         null,
         "reativo, falta proatividade\"\"\"",
         "2023-04-15 00:00:00"
        ],
        [
         "10",
         "3010",
         "Carolina Mendes",
         "Atender aos prazos",
         "Execução",
         null,
         "Aprende rápido, mas esquece feedbacks",
         "2023-04-13 00:00:00"
        ],
        [
         "11",
         "3011",
         null,
         "Organização no trabalho",
         "Comportamental",
         "8.0",
         "Cumpre Prazos, Mas Sem Iniciativa",
         "2023-05-04 00:00:00"
        ],
        [
         "12",
         "3012",
         "Sofia Martins",
         "Sentimento de dono",
         "Comportamental",
         "7.1",
         "Criativo, Porém Pouco Claro",
         "2023-03-23 00:00:00"
        ],
        [
         "13",
         "3013",
         "Ana Pereira",
         "Resiliencia nas adversidades",
         "Execução",
         "6.2",
         "Inovador, mas confuso",
         "2023-04-15 00:00:00"
        ],
        [
         "14",
         "3014",
         "João Costa",
         "Atender aos prazos",
         "Comportamental",
         null,
         "Criativo, porém pouco claro",
         "2023-04-08 00:00:00"
        ],
        [
         "15",
         "3015",
         "Mariana Silva",
         "Organização no trabalho",
         "Execução",
         "8.4",
         "TRABALHO EM EQUIPE PRECISA MELHORAR",
         "2023-04-21 00:00:00"
        ],
        [
         "16",
         "3016",
         "Sofia Henrique",
         "Ser team player",
         "Execução",
         null,
         "Aprende Rápido, Mas Esquece Feedbacks\"\"\"",
         "2023-03-28 00:00:00"
        ],
        [
         "17",
         "3017",
         "Juliana Henrique",
         "Fazer mais com menos",
         "Comportamental",
         null,
         "Organizado, mas às vezes desatento\"\"\"",
         "2023-04-01 00:00:00"
        ],
        [
         "18",
         "3018",
         "Clara Oliveira",
         "Fazer mais com menos",
         "Comportamental",
         "7.0",
         "Entrega consistente, mas falta comunicação\"\"\"",
         "2023-03-13 00:00:00"
        ],
        [
         "19",
         "3019",
         "Rafael Silva",
         "Ser team player",
         "Execução",
         "6.5",
         "boa execução com erros pontuais\"\"\"",
         "2023-03-16 00:00:00"
        ],
        [
         "20",
         "3020",
         "Ana Martins",
         "Entregar com qualidade",
         "Execução",
         "6.5",
         "Criativo, Porém Pouco Claro\"\"\"",
         "2023-04-24 00:00:00"
        ],
        [
         "21",
         "3021",
         "Marcos Mendes",
         "Resiliencia nas adversidades",
         "Execução",
         "10.0",
         "Trabalho Em Equipe Precisa Melhorar\"\"\"",
         "2023-04-16 00:00:00"
        ],
        [
         "22",
         "3022",
         "Carolina Henrique",
         "Fazer mais com menos",
         "Execução",
         "9.0",
         "Aprende rápido, mas esquece feedbacks\"\"\"",
         "2023-04-08 00:00:00"
        ],
        [
         "23",
         "3023",
         "Carolina Martins",
         "Resiliencia nas adversidades",
         "Execução",
         null,
         "Trabalho Em Equipe Precisa Melhorar\"\"\"",
         "2023-05-02 00:00:00"
        ],
        [
         "24",
         "3024",
         "Sofia Oliveira",
         "Organização no trabalho",
         "Execução",
         "8.4",
         "Entrega consistente, mas falta comunicação",
         "2023-03-30 00:00:00"
        ],
        [
         "25",
         "3025",
         "Pedro Martins",
         "Resiliencia nas adversidades",
         "Execução",
         "9.7",
         "Boa execução com erros pontuais\"\"\"",
         "2023-04-03 00:00:00"
        ],
        [
         "26",
         "3026",
         "Marcos Mendes",
         "Resiliencia nas adversidades",
         "Comportamental",
         null,
         "Trabalho Em Equipe Precisa Melhorar",
         "2023-05-07 00:00:00"
        ],
        [
         "27",
         "3027",
         "Carolina Costa",
         "Atender aos prazos",
         "Execução",
         null,
         "Cumpre prazos, mas sem iniciativa",
         "2023-03-30 00:00:00"
        ],
        [
         "28",
         "3028",
         "Carlos Lima",
         "Entregar com qualidade",
         "Comportamental",
         null,
         "Entrega consistente, mas falta comunicação",
         "2023-04-20 00:00:00"
        ],
        [
         "29",
         "3029",
         null,
         "Resiliencia nas adversidades",
         "Execução",
         "10.0",
         "Reativo, Falta Proatividade\"\"\"",
         "2023-04-16 00:00:00"
        ],
        [
         "30",
         "3030",
         "Rafael Henrique",
         "Fazer mais com menos",
         "Execução",
         "6.4",
         "Boa execução com erros pontuais",
         "2023-04-03 00:00:00"
        ],
        [
         "31",
         "3031",
         "Maria Silva",
         "Resiliencia nas adversidades",
         "Execução",
         "6.1",
         "Criativo, porém pouco claro",
         "2023-04-22 00:00:00"
        ],
        [
         "32",
         "3032",
         "Marcos Costa",
         "Organização no trabalho",
         "Execução",
         null,
         "Aprende rápido, mas esquece feedbacks",
         "2023-04-01 00:00:00"
        ],
        [
         "33",
         "3033",
         "Juliana Pereira",
         "Ser team player",
         "Comportamental",
         "7.0",
         "Reativo, Falta Proatividade",
         "2023-03-21 00:00:00"
        ],
        [
         "34",
         "3034",
         "Ana Henrique",
         "Organização no trabalho",
         "Execução",
         "9.7",
         "Entrega consistente, mas falta comunicação",
         "2023-04-21 00:00:00"
        ],
        [
         "35",
         "3035",
         "Fernanda Pereira",
         "Ser team player",
         "Comportamental",
         null,
         "ENTREGA CONSISTENTE, MAS FALTA COMUNICAÇÃO\"\"\"",
         "2023-05-01 00:00:00"
        ],
        [
         "36",
         "3036",
         "Sofia Costa",
         "Resiliencia nas adversidades",
         "Comportamental",
         null,
         "TRABALHO EM EQUIPE PRECISA MELHORAR",
         "2023-03-30 00:00:00"
        ],
        [
         "37",
         "3037",
         "Eduardo Oliveira",
         "Sentimento de dono",
         "Execução",
         null,
         "REATIVO, FALTA PROATIVIDADE",
         "2023-04-23 00:00:00"
        ],
        [
         "38",
         "3038",
         "Mariana Mendes",
         "Resiliencia nas adversidades",
         "Comportamental",
         "9.3",
         "Responsável, porém inseguro",
         "2023-04-24 00:00:00"
        ],
        [
         "39",
         "3039",
         "Carolina Martins",
         "Pensar fora da caixa",
         "Execução",
         "9.1",
         "Boa execução com erros pontuais\"\"\"",
         "2023-05-07 00:00:00"
        ],
        [
         "40",
         "3040",
         "Rafael Souza",
         "Fazer mais com menos",
         "Execução",
         "6.9",
         "Trabalho em equipe precisa melhorar",
         "2023-05-04 00:00:00"
        ],
        [
         "41",
         "3041",
         "Sofia Oliveira",
         "Ser team player",
         "Comportamental",
         "6.9",
         "RESPONSÁVEL, PORÉM INSEGURO\"\"\"",
         "2023-03-29 00:00:00"
        ],
        [
         "42",
         "3042",
         "Maria Mendes",
         "Resiliencia nas adversidades",
         "Execução",
         "6.7",
         "INOVADOR, MAS CONFUSO",
         "2023-03-16 00:00:00"
        ],
        [
         "43",
         "3043",
         "Marcos Lima",
         "Resiliencia nas adversidades",
         "Comportamental",
         null,
         "Reativo, falta proatividade",
         "2023-04-12 00:00:00"
        ],
        [
         "44",
         "3044",
         "Bruno Henrique",
         "Atender aos prazos",
         "Comportamental",
         "6.6",
         "CRIATIVO, PORÉM POUCO CLARO",
         "2023-03-26 00:00:00"
        ],
        [
         "45",
         "3045",
         "Mateus Silva",
         "Fazer mais com menos",
         "Execução",
         "7.6",
         "Trabalho Em Equipe Precisa Melhorar\"\"\"",
         "2023-05-01 00:00:00"
        ],
        [
         "46",
         "3046",
         "João Costa",
         "Atender aos prazos",
         "Execução",
         "9.8",
         "Organizado, Mas Às Vezes Desatento",
         "2023-04-21 00:00:00"
        ],
        [
         "47",
         "3047",
         "Luiza Martins",
         "Sentimento de dono",
         "Comportamental",
         "9.7",
         "INOVADOR, MAS CONFUSO",
         "2023-04-07 00:00:00"
        ],
        [
         "48",
         "3048",
         "Eduardo Ferreira",
         "Pensar fora da caixa",
         "Execução",
         "9.0",
         "cumpre prazos, mas sem iniciativa\"\"\"",
         "2023-04-12 00:00:00"
        ],
        [
         "49",
         "3049",
         "Marcos Lima",
         "Resiliencia nas adversidades",
         "Comportamental",
         null,
         "cumpre prazos, mas sem iniciativa",
         "2023-05-03 00:00:00"
        ]
       ],
       "shape": {
        "columns": 7,
        "rows": 1000
       }
      },
      "text/html": [
       "<div>\n",
       "<style scoped>\n",
       "    .dataframe tbody tr th:only-of-type {\n",
       "        vertical-align: middle;\n",
       "    }\n",
       "\n",
       "    .dataframe tbody tr th {\n",
       "        vertical-align: top;\n",
       "    }\n",
       "\n",
       "    .dataframe thead th {\n",
       "        text-align: right;\n",
       "    }\n",
       "</style>\n",
       "<table border=\"1\" class=\"dataframe\">\n",
       "  <thead>\n",
       "    <tr style=\"text-align: right;\">\n",
       "      <th></th>\n",
       "      <th>ID</th>\n",
       "      <th>Nome</th>\n",
       "      <th>Critério</th>\n",
       "      <th>Tipo</th>\n",
       "      <th>Nota</th>\n",
       "      <th>Justificativa</th>\n",
       "      <th>DataAvaliacao</th>\n",
       "    </tr>\n",
       "  </thead>\n",
       "  <tbody>\n",
       "    <tr>\n",
       "      <th>0</th>\n",
       "      <td>3000</td>\n",
       "      <td>Pedro Henrique</td>\n",
       "      <td>Ser team player</td>\n",
       "      <td>Execução</td>\n",
       "      <td>NaN</td>\n",
       "      <td>inovador, mas confuso</td>\n",
       "      <td>2023-04-02</td>\n",
       "    </tr>\n",
       "    <tr>\n",
       "      <th>1</th>\n",
       "      <td>3001</td>\n",
       "      <td>Luiza Henrique</td>\n",
       "      <td>Atender aos prazos</td>\n",
       "      <td>Execução</td>\n",
       "      <td>7.6</td>\n",
       "      <td>Boa Execução Com Erros Pontuais</td>\n",
       "      <td>2023-03-10</td>\n",
       "    </tr>\n",
       "    <tr>\n",
       "      <th>2</th>\n",
       "      <td>3002</td>\n",
       "      <td>Mariana Costa</td>\n",
       "      <td>Fazer mais com menos</td>\n",
       "      <td>Execução</td>\n",
       "      <td>8.0</td>\n",
       "      <td>RESPONSÁVEL, PORÉM INSEGURO</td>\n",
       "      <td>2023-04-18</td>\n",
       "    </tr>\n",
       "    <tr>\n",
       "      <th>3</th>\n",
       "      <td>3003</td>\n",
       "      <td>NaN</td>\n",
       "      <td>Pensar fora da caixa</td>\n",
       "      <td>Comportamental</td>\n",
       "      <td>6.0</td>\n",
       "      <td>trabalho em equipe precisa melhorar\"\"\"</td>\n",
       "      <td>2023-04-15</td>\n",
       "    </tr>\n",
       "    <tr>\n",
       "      <th>4</th>\n",
       "      <td>3004</td>\n",
       "      <td>Joana Silva</td>\n",
       "      <td>Resiliencia nas adversidades</td>\n",
       "      <td>Execução</td>\n",
       "      <td>10.0</td>\n",
       "      <td>organizado, mas às vezes desatento</td>\n",
       "      <td>2023-04-19</td>\n",
       "    </tr>\n",
       "    <tr>\n",
       "      <th>...</th>\n",
       "      <td>...</td>\n",
       "      <td>...</td>\n",
       "      <td>...</td>\n",
       "      <td>...</td>\n",
       "      <td>...</td>\n",
       "      <td>...</td>\n",
       "      <td>...</td>\n",
       "    </tr>\n",
       "    <tr>\n",
       "      <th>995</th>\n",
       "      <td>3995</td>\n",
       "      <td>Pedro Pereira</td>\n",
       "      <td>Resiliencia nas adversidades</td>\n",
       "      <td>Execução</td>\n",
       "      <td>NaN</td>\n",
       "      <td>Organizado, mas às vezes desatento</td>\n",
       "      <td>2023-03-19</td>\n",
       "    </tr>\n",
       "    <tr>\n",
       "      <th>996</th>\n",
       "      <td>3996</td>\n",
       "      <td>Rafael Lima</td>\n",
       "      <td>Ser team player</td>\n",
       "      <td>Comportamental</td>\n",
       "      <td>NaN</td>\n",
       "      <td>BOA EXECUÇÃO COM ERROS PONTUAIS\"\"\"</td>\n",
       "      <td>2023-04-30</td>\n",
       "    </tr>\n",
       "    <tr>\n",
       "      <th>997</th>\n",
       "      <td>3997</td>\n",
       "      <td>NaN</td>\n",
       "      <td>Sentimento de dono</td>\n",
       "      <td>Comportamental</td>\n",
       "      <td>6.0</td>\n",
       "      <td>Responsável, porém inseguro</td>\n",
       "      <td>2023-03-16</td>\n",
       "    </tr>\n",
       "    <tr>\n",
       "      <th>998</th>\n",
       "      <td>3998</td>\n",
       "      <td>Marcos Lima</td>\n",
       "      <td>Resiliencia nas adversidades</td>\n",
       "      <td>Execução</td>\n",
       "      <td>NaN</td>\n",
       "      <td>Organizado, mas às vezes desatento\"\"\"</td>\n",
       "      <td>2023-04-15</td>\n",
       "    </tr>\n",
       "    <tr>\n",
       "      <th>999</th>\n",
       "      <td>3999</td>\n",
       "      <td>Jorge Pereira</td>\n",
       "      <td>Fazer mais com menos</td>\n",
       "      <td>Execução</td>\n",
       "      <td>NaN</td>\n",
       "      <td>aprende rápido, mas esquece feedbacks\"\"\"</td>\n",
       "      <td>2023-04-06</td>\n",
       "    </tr>\n",
       "  </tbody>\n",
       "</table>\n",
       "<p>1000 rows × 7 columns</p>\n",
       "</div>"
      ],
      "text/plain": [
       "       ID            Nome                      Critério            Tipo  Nota  \\\n",
       "0    3000  Pedro Henrique               Ser team player        Execução   NaN   \n",
       "1    3001  Luiza Henrique            Atender aos prazos        Execução   7.6   \n",
       "2    3002   Mariana Costa          Fazer mais com menos        Execução   8.0   \n",
       "3    3003             NaN          Pensar fora da caixa  Comportamental   6.0   \n",
       "4    3004     Joana Silva  Resiliencia nas adversidades        Execução  10.0   \n",
       "..    ...             ...                           ...             ...   ...   \n",
       "995  3995   Pedro Pereira  Resiliencia nas adversidades        Execução   NaN   \n",
       "996  3996     Rafael Lima               Ser team player  Comportamental   NaN   \n",
       "997  3997             NaN            Sentimento de dono  Comportamental   6.0   \n",
       "998  3998     Marcos Lima  Resiliencia nas adversidades        Execução   NaN   \n",
       "999  3999   Jorge Pereira          Fazer mais com menos        Execução   NaN   \n",
       "\n",
       "                                Justificativa DataAvaliacao  \n",
       "0                       inovador, mas confuso    2023-04-02  \n",
       "1             Boa Execução Com Erros Pontuais    2023-03-10  \n",
       "2                 RESPONSÁVEL, PORÉM INSEGURO    2023-04-18  \n",
       "3      trabalho em equipe precisa melhorar\"\"\"    2023-04-15  \n",
       "4          organizado, mas às vezes desatento    2023-04-19  \n",
       "..                                        ...           ...  \n",
       "995        Organizado, mas às vezes desatento    2023-03-19  \n",
       "996        BOA EXECUÇÃO COM ERROS PONTUAIS\"\"\"    2023-04-30  \n",
       "997               Responsável, porém inseguro    2023-03-16  \n",
       "998     Organizado, mas às vezes desatento\"\"\"    2023-04-15  \n",
       "999  aprende rápido, mas esquece feedbacks\"\"\"    2023-04-06  \n",
       "\n",
       "[1000 rows x 7 columns]"
      ]
     },
     "execution_count": 76,
     "metadata": {},
     "output_type": "execute_result"
    }
   ],
   "source": [
    "df"
   ]
  },
  {
   "cell_type": "markdown",
   "id": "12fadbc8",
   "metadata": {},
   "source": [
    "---\n",
    "Justificativa:"
   ]
  },
  {
   "cell_type": "code",
   "execution_count": 79,
   "id": "b97504bb",
   "metadata": {},
   "outputs": [
    {
     "data": {
      "text/plain": [
       "80"
      ]
     },
     "execution_count": 79,
     "metadata": {},
     "output_type": "execute_result"
    }
   ],
   "source": [
    "df['Justificativa'].nunique()"
   ]
  },
  {
   "cell_type": "code",
   "execution_count": 80,
   "id": "997d72be",
   "metadata": {},
   "outputs": [
    {
     "data": {
      "text/plain": [
       "array(['inovador, mas confuso', 'Boa Execução Com Erros Pontuais',\n",
       "       'RESPONSÁVEL, PORÉM INSEGURO',\n",
       "       'trabalho em equipe precisa melhorar\"\"\"',\n",
       "       'organizado, mas às vezes desatento',\n",
       "       'reativo, falta proatividade',\n",
       "       'ENTREGA CONSISTENTE, MAS FALTA COMUNICAÇÃO',\n",
       "       'Criativo, porém pouco claro', 'Inovador, mas confuso',\n",
       "       'reativo, falta proatividade\"\"\"',\n",
       "       'Aprende rápido, mas esquece feedbacks',\n",
       "       'Cumpre Prazos, Mas Sem Iniciativa', 'Criativo, Porém Pouco Claro',\n",
       "       'TRABALHO EM EQUIPE PRECISA MELHORAR',\n",
       "       'Aprende Rápido, Mas Esquece Feedbacks\"\"\"',\n",
       "       'Organizado, mas às vezes desatento\"\"\"',\n",
       "       'Entrega consistente, mas falta comunicação\"\"\"',\n",
       "       'boa execução com erros pontuais\"\"\"',\n",
       "       'Criativo, Porém Pouco Claro\"\"\"',\n",
       "       'Trabalho Em Equipe Precisa Melhorar\"\"\"',\n",
       "       'Aprende rápido, mas esquece feedbacks\"\"\"',\n",
       "       'Entrega consistente, mas falta comunicação',\n",
       "       'Boa execução com erros pontuais\"\"\"',\n",
       "       'Trabalho Em Equipe Precisa Melhorar',\n",
       "       'Cumpre prazos, mas sem iniciativa',\n",
       "       'Reativo, Falta Proatividade\"\"\"',\n",
       "       'Boa execução com erros pontuais', 'Reativo, Falta Proatividade',\n",
       "       'ENTREGA CONSISTENTE, MAS FALTA COMUNICAÇÃO\"\"\"',\n",
       "       'REATIVO, FALTA PROATIVIDADE', 'Responsável, porém inseguro',\n",
       "       'Trabalho em equipe precisa melhorar',\n",
       "       'RESPONSÁVEL, PORÉM INSEGURO\"\"\"', 'INOVADOR, MAS CONFUSO',\n",
       "       'Reativo, falta proatividade', 'CRIATIVO, PORÉM POUCO CLARO',\n",
       "       'Organizado, Mas Às Vezes Desatento',\n",
       "       'cumpre prazos, mas sem iniciativa\"\"\"',\n",
       "       'cumpre prazos, mas sem iniciativa',\n",
       "       'Entrega Consistente, Mas Falta Comunicação\"\"\"',\n",
       "       'Entrega Consistente, Mas Falta Comunicação',\n",
       "       'Responsável, Porém Inseguro', 'CRIATIVO, PORÉM POUCO CLARO\"\"\"',\n",
       "       'Cumpre Prazos, Mas Sem Iniciativa\"\"\"',\n",
       "       'Responsável, porém inseguro\"\"\"', 'Inovador, mas confuso\"\"\"',\n",
       "       'REATIVO, FALTA PROATIVIDADE\"\"\"',\n",
       "       'trabalho em equipe precisa melhorar',\n",
       "       'Organizado, mas às vezes desatento',\n",
       "       'aprende rápido, mas esquece feedbacks\"\"\"',\n",
       "       'ORGANIZADO, MAS ÀS VEZES DESATENTO',\n",
       "       'boa execução com erros pontuais',\n",
       "       'aprende rápido, mas esquece feedbacks',\n",
       "       'CUMPRE PRAZOS, MAS SEM INICIATIVA',\n",
       "       'BOA EXECUÇÃO COM ERROS PONTUAIS',\n",
       "       'entrega consistente, mas falta comunicação',\n",
       "       'APRENDE RÁPIDO, MAS ESQUECE FEEDBACKS',\n",
       "       'Aprende Rápido, Mas Esquece Feedbacks',\n",
       "       'Boa Execução Com Erros Pontuais\"\"\"', 'INOVADOR, MAS CONFUSO\"\"\"',\n",
       "       'criativo, porém pouco claro',\n",
       "       'entrega consistente, mas falta comunicação\"\"\"',\n",
       "       'Inovador, Mas Confuso', 'responsável, porém inseguro',\n",
       "       'TRABALHO EM EQUIPE PRECISA MELHORAR\"\"\"',\n",
       "       'criativo, porém pouco claro\"\"\"',\n",
       "       'Cumpre prazos, mas sem iniciativa\"\"\"',\n",
       "       'CUMPRE PRAZOS, MAS SEM INICIATIVA\"\"\"',\n",
       "       'Responsável, Porém Inseguro\"\"\"', 'Criativo, porém pouco claro\"\"\"',\n",
       "       'APRENDE RÁPIDO, MAS ESQUECE FEEDBACKS\"\"\"',\n",
       "       'Trabalho em equipe precisa melhorar\"\"\"',\n",
       "       'Inovador, Mas Confuso\"\"\"', 'inovador, mas confuso\"\"\"',\n",
       "       'ORGANIZADO, MAS ÀS VEZES DESATENTO\"\"\"',\n",
       "       'BOA EXECUÇÃO COM ERROS PONTUAIS\"\"\"',\n",
       "       'organizado, mas às vezes desatento\"\"\"',\n",
       "       'responsável, porém inseguro\"\"\"',\n",
       "       'Organizado, Mas Às Vezes Desatento\"\"\"',\n",
       "       'Reativo, falta proatividade\"\"\"'], dtype=object)"
      ]
     },
     "execution_count": 80,
     "metadata": {},
     "output_type": "execute_result"
    }
   ],
   "source": [
    "df['Justificativa'].unique()"
   ]
  },
  {
   "cell_type": "code",
   "execution_count": 83,
   "id": "0ef6d523",
   "metadata": {},
   "outputs": [
    {
     "data": {
      "text/plain": [
       "array(['Inovador, mas confuso', 'Boa execução com erros pontuais',\n",
       "       'Responsável, porém inseguro',\n",
       "       'Trabalho em equipe precisa melhorar',\n",
       "       'Organizado, mas às vezes desatento',\n",
       "       'Reativo, falta proatividade',\n",
       "       'Entrega consistente, mas falta comunicação',\n",
       "       'Criativo, porém pouco claro',\n",
       "       'Aprende rápido, mas esquece feedbacks',\n",
       "       'Cumpre prazos, mas sem iniciativa'], dtype=object)"
      ]
     },
     "execution_count": 83,
     "metadata": {},
     "output_type": "execute_result"
    }
   ],
   "source": [
    "df['Justificativa'] = df['Justificativa'].apply(lambda x: x.replace('\"', '').capitalize())\n",
    "df['Justificativa'].unique()"
   ]
  },
  {
   "cell_type": "code",
   "execution_count": 84,
   "id": "26348533",
   "metadata": {},
   "outputs": [
    {
     "data": {
      "application/vnd.microsoft.datawrangler.viewer.v0+json": {
       "columns": [
        {
         "name": "index",
         "rawType": "int64",
         "type": "integer"
        },
        {
         "name": "ID",
         "rawType": "int32",
         "type": "integer"
        },
        {
         "name": "Nome",
         "rawType": "object",
         "type": "unknown"
        },
        {
         "name": "Critério",
         "rawType": "object",
         "type": "string"
        },
        {
         "name": "Tipo",
         "rawType": "object",
         "type": "string"
        },
        {
         "name": "Nota",
         "rawType": "float64",
         "type": "float"
        },
        {
         "name": "Justificativa",
         "rawType": "object",
         "type": "string"
        },
        {
         "name": "DataAvaliacao",
         "rawType": "datetime64[ns]",
         "type": "datetime"
        }
       ],
       "conversionMethod": "pd.DataFrame",
       "ref": "322ecaf3-2a4b-46d8-95d1-0c0eb475f58a",
       "rows": [
        [
         "0",
         "3000",
         "Pedro Henrique",
         "Ser team player",
         "Execução",
         null,
         "Inovador, mas confuso",
         "2023-04-02 00:00:00"
        ],
        [
         "1",
         "3001",
         "Luiza Henrique",
         "Atender aos prazos",
         "Execução",
         "7.6",
         "Boa execução com erros pontuais",
         "2023-03-10 00:00:00"
        ],
        [
         "2",
         "3002",
         "Mariana Costa",
         "Fazer mais com menos",
         "Execução",
         "8.0",
         "Responsável, porém inseguro",
         "2023-04-18 00:00:00"
        ],
        [
         "3",
         "3003",
         null,
         "Pensar fora da caixa",
         "Comportamental",
         "6.0",
         "Trabalho em equipe precisa melhorar",
         "2023-04-15 00:00:00"
        ],
        [
         "4",
         "3004",
         "Joana Silva",
         "Resiliencia nas adversidades",
         "Execução",
         "10.0",
         "Organizado, mas às vezes desatento",
         "2023-04-19 00:00:00"
        ],
        [
         "5",
         "3005",
         "Ricardo Silva",
         "Resiliencia nas adversidades",
         "Execução",
         "8.0",
         "Reativo, falta proatividade",
         "2023-04-15 00:00:00"
        ],
        [
         "6",
         "3006",
         "Luiza Martins",
         "Entregar com qualidade",
         "Comportamental",
         "10.0",
         "Entrega consistente, mas falta comunicação",
         "2023-04-01 00:00:00"
        ],
        [
         "7",
         "3007",
         "Bruno Lima",
         "Resiliencia nas adversidades",
         "Comportamental",
         "9.5",
         "Criativo, porém pouco claro",
         "2023-03-31 00:00:00"
        ],
        [
         "8",
         "3008",
         "João Lima",
         "Capacidade de aprender",
         "Comportamental",
         "8.0",
         "Inovador, mas confuso",
         "2023-04-10 00:00:00"
        ],
        [
         "9",
         "3009",
         "Ricardo Martins",
         "Sentimento de dono",
         "Comportamental",
         null,
         "Reativo, falta proatividade",
         "2023-04-15 00:00:00"
        ],
        [
         "10",
         "3010",
         "Carolina Mendes",
         "Atender aos prazos",
         "Execução",
         null,
         "Aprende rápido, mas esquece feedbacks",
         "2023-04-13 00:00:00"
        ],
        [
         "11",
         "3011",
         null,
         "Organização no trabalho",
         "Comportamental",
         "8.0",
         "Cumpre prazos, mas sem iniciativa",
         "2023-05-04 00:00:00"
        ],
        [
         "12",
         "3012",
         "Sofia Martins",
         "Sentimento de dono",
         "Comportamental",
         "7.1",
         "Criativo, porém pouco claro",
         "2023-03-23 00:00:00"
        ],
        [
         "13",
         "3013",
         "Ana Pereira",
         "Resiliencia nas adversidades",
         "Execução",
         "6.2",
         "Inovador, mas confuso",
         "2023-04-15 00:00:00"
        ],
        [
         "14",
         "3014",
         "João Costa",
         "Atender aos prazos",
         "Comportamental",
         null,
         "Criativo, porém pouco claro",
         "2023-04-08 00:00:00"
        ],
        [
         "15",
         "3015",
         "Mariana Silva",
         "Organização no trabalho",
         "Execução",
         "8.4",
         "Trabalho em equipe precisa melhorar",
         "2023-04-21 00:00:00"
        ],
        [
         "16",
         "3016",
         "Sofia Henrique",
         "Ser team player",
         "Execução",
         null,
         "Aprende rápido, mas esquece feedbacks",
         "2023-03-28 00:00:00"
        ],
        [
         "17",
         "3017",
         "Juliana Henrique",
         "Fazer mais com menos",
         "Comportamental",
         null,
         "Organizado, mas às vezes desatento",
         "2023-04-01 00:00:00"
        ],
        [
         "18",
         "3018",
         "Clara Oliveira",
         "Fazer mais com menos",
         "Comportamental",
         "7.0",
         "Entrega consistente, mas falta comunicação",
         "2023-03-13 00:00:00"
        ],
        [
         "19",
         "3019",
         "Rafael Silva",
         "Ser team player",
         "Execução",
         "6.5",
         "Boa execução com erros pontuais",
         "2023-03-16 00:00:00"
        ],
        [
         "20",
         "3020",
         "Ana Martins",
         "Entregar com qualidade",
         "Execução",
         "6.5",
         "Criativo, porém pouco claro",
         "2023-04-24 00:00:00"
        ],
        [
         "21",
         "3021",
         "Marcos Mendes",
         "Resiliencia nas adversidades",
         "Execução",
         "10.0",
         "Trabalho em equipe precisa melhorar",
         "2023-04-16 00:00:00"
        ],
        [
         "22",
         "3022",
         "Carolina Henrique",
         "Fazer mais com menos",
         "Execução",
         "9.0",
         "Aprende rápido, mas esquece feedbacks",
         "2023-04-08 00:00:00"
        ],
        [
         "23",
         "3023",
         "Carolina Martins",
         "Resiliencia nas adversidades",
         "Execução",
         null,
         "Trabalho em equipe precisa melhorar",
         "2023-05-02 00:00:00"
        ],
        [
         "24",
         "3024",
         "Sofia Oliveira",
         "Organização no trabalho",
         "Execução",
         "8.4",
         "Entrega consistente, mas falta comunicação",
         "2023-03-30 00:00:00"
        ],
        [
         "25",
         "3025",
         "Pedro Martins",
         "Resiliencia nas adversidades",
         "Execução",
         "9.7",
         "Boa execução com erros pontuais",
         "2023-04-03 00:00:00"
        ],
        [
         "26",
         "3026",
         "Marcos Mendes",
         "Resiliencia nas adversidades",
         "Comportamental",
         null,
         "Trabalho em equipe precisa melhorar",
         "2023-05-07 00:00:00"
        ],
        [
         "27",
         "3027",
         "Carolina Costa",
         "Atender aos prazos",
         "Execução",
         null,
         "Cumpre prazos, mas sem iniciativa",
         "2023-03-30 00:00:00"
        ],
        [
         "28",
         "3028",
         "Carlos Lima",
         "Entregar com qualidade",
         "Comportamental",
         null,
         "Entrega consistente, mas falta comunicação",
         "2023-04-20 00:00:00"
        ],
        [
         "29",
         "3029",
         null,
         "Resiliencia nas adversidades",
         "Execução",
         "10.0",
         "Reativo, falta proatividade",
         "2023-04-16 00:00:00"
        ],
        [
         "30",
         "3030",
         "Rafael Henrique",
         "Fazer mais com menos",
         "Execução",
         "6.4",
         "Boa execução com erros pontuais",
         "2023-04-03 00:00:00"
        ],
        [
         "31",
         "3031",
         "Maria Silva",
         "Resiliencia nas adversidades",
         "Execução",
         "6.1",
         "Criativo, porém pouco claro",
         "2023-04-22 00:00:00"
        ],
        [
         "32",
         "3032",
         "Marcos Costa",
         "Organização no trabalho",
         "Execução",
         null,
         "Aprende rápido, mas esquece feedbacks",
         "2023-04-01 00:00:00"
        ],
        [
         "33",
         "3033",
         "Juliana Pereira",
         "Ser team player",
         "Comportamental",
         "7.0",
         "Reativo, falta proatividade",
         "2023-03-21 00:00:00"
        ],
        [
         "34",
         "3034",
         "Ana Henrique",
         "Organização no trabalho",
         "Execução",
         "9.7",
         "Entrega consistente, mas falta comunicação",
         "2023-04-21 00:00:00"
        ],
        [
         "35",
         "3035",
         "Fernanda Pereira",
         "Ser team player",
         "Comportamental",
         null,
         "Entrega consistente, mas falta comunicação",
         "2023-05-01 00:00:00"
        ],
        [
         "36",
         "3036",
         "Sofia Costa",
         "Resiliencia nas adversidades",
         "Comportamental",
         null,
         "Trabalho em equipe precisa melhorar",
         "2023-03-30 00:00:00"
        ],
        [
         "37",
         "3037",
         "Eduardo Oliveira",
         "Sentimento de dono",
         "Execução",
         null,
         "Reativo, falta proatividade",
         "2023-04-23 00:00:00"
        ],
        [
         "38",
         "3038",
         "Mariana Mendes",
         "Resiliencia nas adversidades",
         "Comportamental",
         "9.3",
         "Responsável, porém inseguro",
         "2023-04-24 00:00:00"
        ],
        [
         "39",
         "3039",
         "Carolina Martins",
         "Pensar fora da caixa",
         "Execução",
         "9.1",
         "Boa execução com erros pontuais",
         "2023-05-07 00:00:00"
        ],
        [
         "40",
         "3040",
         "Rafael Souza",
         "Fazer mais com menos",
         "Execução",
         "6.9",
         "Trabalho em equipe precisa melhorar",
         "2023-05-04 00:00:00"
        ],
        [
         "41",
         "3041",
         "Sofia Oliveira",
         "Ser team player",
         "Comportamental",
         "6.9",
         "Responsável, porém inseguro",
         "2023-03-29 00:00:00"
        ],
        [
         "42",
         "3042",
         "Maria Mendes",
         "Resiliencia nas adversidades",
         "Execução",
         "6.7",
         "Inovador, mas confuso",
         "2023-03-16 00:00:00"
        ],
        [
         "43",
         "3043",
         "Marcos Lima",
         "Resiliencia nas adversidades",
         "Comportamental",
         null,
         "Reativo, falta proatividade",
         "2023-04-12 00:00:00"
        ],
        [
         "44",
         "3044",
         "Bruno Henrique",
         "Atender aos prazos",
         "Comportamental",
         "6.6",
         "Criativo, porém pouco claro",
         "2023-03-26 00:00:00"
        ],
        [
         "45",
         "3045",
         "Mateus Silva",
         "Fazer mais com menos",
         "Execução",
         "7.6",
         "Trabalho em equipe precisa melhorar",
         "2023-05-01 00:00:00"
        ],
        [
         "46",
         "3046",
         "João Costa",
         "Atender aos prazos",
         "Execução",
         "9.8",
         "Organizado, mas às vezes desatento",
         "2023-04-21 00:00:00"
        ],
        [
         "47",
         "3047",
         "Luiza Martins",
         "Sentimento de dono",
         "Comportamental",
         "9.7",
         "Inovador, mas confuso",
         "2023-04-07 00:00:00"
        ],
        [
         "48",
         "3048",
         "Eduardo Ferreira",
         "Pensar fora da caixa",
         "Execução",
         "9.0",
         "Cumpre prazos, mas sem iniciativa",
         "2023-04-12 00:00:00"
        ],
        [
         "49",
         "3049",
         "Marcos Lima",
         "Resiliencia nas adversidades",
         "Comportamental",
         null,
         "Cumpre prazos, mas sem iniciativa",
         "2023-05-03 00:00:00"
        ]
       ],
       "shape": {
        "columns": 7,
        "rows": 1000
       }
      },
      "text/html": [
       "<div>\n",
       "<style scoped>\n",
       "    .dataframe tbody tr th:only-of-type {\n",
       "        vertical-align: middle;\n",
       "    }\n",
       "\n",
       "    .dataframe tbody tr th {\n",
       "        vertical-align: top;\n",
       "    }\n",
       "\n",
       "    .dataframe thead th {\n",
       "        text-align: right;\n",
       "    }\n",
       "</style>\n",
       "<table border=\"1\" class=\"dataframe\">\n",
       "  <thead>\n",
       "    <tr style=\"text-align: right;\">\n",
       "      <th></th>\n",
       "      <th>ID</th>\n",
       "      <th>Nome</th>\n",
       "      <th>Critério</th>\n",
       "      <th>Tipo</th>\n",
       "      <th>Nota</th>\n",
       "      <th>Justificativa</th>\n",
       "      <th>DataAvaliacao</th>\n",
       "    </tr>\n",
       "  </thead>\n",
       "  <tbody>\n",
       "    <tr>\n",
       "      <th>0</th>\n",
       "      <td>3000</td>\n",
       "      <td>Pedro Henrique</td>\n",
       "      <td>Ser team player</td>\n",
       "      <td>Execução</td>\n",
       "      <td>NaN</td>\n",
       "      <td>Inovador, mas confuso</td>\n",
       "      <td>2023-04-02</td>\n",
       "    </tr>\n",
       "    <tr>\n",
       "      <th>1</th>\n",
       "      <td>3001</td>\n",
       "      <td>Luiza Henrique</td>\n",
       "      <td>Atender aos prazos</td>\n",
       "      <td>Execução</td>\n",
       "      <td>7.6</td>\n",
       "      <td>Boa execução com erros pontuais</td>\n",
       "      <td>2023-03-10</td>\n",
       "    </tr>\n",
       "    <tr>\n",
       "      <th>2</th>\n",
       "      <td>3002</td>\n",
       "      <td>Mariana Costa</td>\n",
       "      <td>Fazer mais com menos</td>\n",
       "      <td>Execução</td>\n",
       "      <td>8.0</td>\n",
       "      <td>Responsável, porém inseguro</td>\n",
       "      <td>2023-04-18</td>\n",
       "    </tr>\n",
       "    <tr>\n",
       "      <th>3</th>\n",
       "      <td>3003</td>\n",
       "      <td>NaN</td>\n",
       "      <td>Pensar fora da caixa</td>\n",
       "      <td>Comportamental</td>\n",
       "      <td>6.0</td>\n",
       "      <td>Trabalho em equipe precisa melhorar</td>\n",
       "      <td>2023-04-15</td>\n",
       "    </tr>\n",
       "    <tr>\n",
       "      <th>4</th>\n",
       "      <td>3004</td>\n",
       "      <td>Joana Silva</td>\n",
       "      <td>Resiliencia nas adversidades</td>\n",
       "      <td>Execução</td>\n",
       "      <td>10.0</td>\n",
       "      <td>Organizado, mas às vezes desatento</td>\n",
       "      <td>2023-04-19</td>\n",
       "    </tr>\n",
       "    <tr>\n",
       "      <th>...</th>\n",
       "      <td>...</td>\n",
       "      <td>...</td>\n",
       "      <td>...</td>\n",
       "      <td>...</td>\n",
       "      <td>...</td>\n",
       "      <td>...</td>\n",
       "      <td>...</td>\n",
       "    </tr>\n",
       "    <tr>\n",
       "      <th>995</th>\n",
       "      <td>3995</td>\n",
       "      <td>Pedro Pereira</td>\n",
       "      <td>Resiliencia nas adversidades</td>\n",
       "      <td>Execução</td>\n",
       "      <td>NaN</td>\n",
       "      <td>Organizado, mas às vezes desatento</td>\n",
       "      <td>2023-03-19</td>\n",
       "    </tr>\n",
       "    <tr>\n",
       "      <th>996</th>\n",
       "      <td>3996</td>\n",
       "      <td>Rafael Lima</td>\n",
       "      <td>Ser team player</td>\n",
       "      <td>Comportamental</td>\n",
       "      <td>NaN</td>\n",
       "      <td>Boa execução com erros pontuais</td>\n",
       "      <td>2023-04-30</td>\n",
       "    </tr>\n",
       "    <tr>\n",
       "      <th>997</th>\n",
       "      <td>3997</td>\n",
       "      <td>NaN</td>\n",
       "      <td>Sentimento de dono</td>\n",
       "      <td>Comportamental</td>\n",
       "      <td>6.0</td>\n",
       "      <td>Responsável, porém inseguro</td>\n",
       "      <td>2023-03-16</td>\n",
       "    </tr>\n",
       "    <tr>\n",
       "      <th>998</th>\n",
       "      <td>3998</td>\n",
       "      <td>Marcos Lima</td>\n",
       "      <td>Resiliencia nas adversidades</td>\n",
       "      <td>Execução</td>\n",
       "      <td>NaN</td>\n",
       "      <td>Organizado, mas às vezes desatento</td>\n",
       "      <td>2023-04-15</td>\n",
       "    </tr>\n",
       "    <tr>\n",
       "      <th>999</th>\n",
       "      <td>3999</td>\n",
       "      <td>Jorge Pereira</td>\n",
       "      <td>Fazer mais com menos</td>\n",
       "      <td>Execução</td>\n",
       "      <td>NaN</td>\n",
       "      <td>Aprende rápido, mas esquece feedbacks</td>\n",
       "      <td>2023-04-06</td>\n",
       "    </tr>\n",
       "  </tbody>\n",
       "</table>\n",
       "<p>1000 rows × 7 columns</p>\n",
       "</div>"
      ],
      "text/plain": [
       "       ID            Nome                      Critério            Tipo  Nota  \\\n",
       "0    3000  Pedro Henrique               Ser team player        Execução   NaN   \n",
       "1    3001  Luiza Henrique            Atender aos prazos        Execução   7.6   \n",
       "2    3002   Mariana Costa          Fazer mais com menos        Execução   8.0   \n",
       "3    3003             NaN          Pensar fora da caixa  Comportamental   6.0   \n",
       "4    3004     Joana Silva  Resiliencia nas adversidades        Execução  10.0   \n",
       "..    ...             ...                           ...             ...   ...   \n",
       "995  3995   Pedro Pereira  Resiliencia nas adversidades        Execução   NaN   \n",
       "996  3996     Rafael Lima               Ser team player  Comportamental   NaN   \n",
       "997  3997             NaN            Sentimento de dono  Comportamental   6.0   \n",
       "998  3998     Marcos Lima  Resiliencia nas adversidades        Execução   NaN   \n",
       "999  3999   Jorge Pereira          Fazer mais com menos        Execução   NaN   \n",
       "\n",
       "                             Justificativa DataAvaliacao  \n",
       "0                    Inovador, mas confuso    2023-04-02  \n",
       "1          Boa execução com erros pontuais    2023-03-10  \n",
       "2              Responsável, porém inseguro    2023-04-18  \n",
       "3      Trabalho em equipe precisa melhorar    2023-04-15  \n",
       "4       Organizado, mas às vezes desatento    2023-04-19  \n",
       "..                                     ...           ...  \n",
       "995     Organizado, mas às vezes desatento    2023-03-19  \n",
       "996        Boa execução com erros pontuais    2023-04-30  \n",
       "997            Responsável, porém inseguro    2023-03-16  \n",
       "998     Organizado, mas às vezes desatento    2023-04-15  \n",
       "999  Aprende rápido, mas esquece feedbacks    2023-04-06  \n",
       "\n",
       "[1000 rows x 7 columns]"
      ]
     },
     "execution_count": 84,
     "metadata": {},
     "output_type": "execute_result"
    }
   ],
   "source": [
    "df"
   ]
  },
  {
   "cell_type": "markdown",
   "id": "916ed900",
   "metadata": {},
   "source": [
    "### Missing values"
   ]
  },
  {
   "cell_type": "markdown",
   "id": "d1579183",
   "metadata": {},
   "source": [
    "---\n",
    "Nome:"
   ]
  },
  {
   "cell_type": "markdown",
   "id": "2a587eb9",
   "metadata": {},
   "source": [
    "Foi decidido que era melhor remover os dados faltantes dos nomes, já que são relativamente poucos e difíceis de se inputar adequadamente."
   ]
  },
  {
   "cell_type": "code",
   "execution_count": 86,
   "id": "66f5b8df",
   "metadata": {},
   "outputs": [
    {
     "data": {
      "application/vnd.microsoft.datawrangler.viewer.v0+json": {
       "columns": [
        {
         "name": "index",
         "rawType": "int64",
         "type": "integer"
        },
        {
         "name": "ID",
         "rawType": "int32",
         "type": "integer"
        },
        {
         "name": "Nome",
         "rawType": "object",
         "type": "unknown"
        },
        {
         "name": "Critério",
         "rawType": "object",
         "type": "string"
        },
        {
         "name": "Tipo",
         "rawType": "object",
         "type": "string"
        },
        {
         "name": "Nota",
         "rawType": "float64",
         "type": "float"
        },
        {
         "name": "Justificativa",
         "rawType": "object",
         "type": "string"
        },
        {
         "name": "DataAvaliacao",
         "rawType": "datetime64[ns]",
         "type": "datetime"
        }
       ],
       "conversionMethod": "pd.DataFrame",
       "ref": "acddca68-5b84-4804-851a-fbac5126773b",
       "rows": [
        [
         "3",
         "3003",
         null,
         "Pensar fora da caixa",
         "Comportamental",
         "6.0",
         "Trabalho em equipe precisa melhorar",
         "2023-04-15 00:00:00"
        ],
        [
         "11",
         "3011",
         null,
         "Organização no trabalho",
         "Comportamental",
         "8.0",
         "Cumpre prazos, mas sem iniciativa",
         "2023-05-04 00:00:00"
        ],
        [
         "29",
         "3029",
         null,
         "Resiliencia nas adversidades",
         "Execução",
         "10.0",
         "Reativo, falta proatividade",
         "2023-04-16 00:00:00"
        ],
        [
         "73",
         "3073",
         null,
         "Entregar com qualidade",
         "Execução",
         "6.0",
         "Trabalho em equipe precisa melhorar",
         "2023-03-21 00:00:00"
        ],
        [
         "101",
         "3101",
         null,
         "Sentimento de dono",
         "Execução",
         "6.4",
         "Aprende rápido, mas esquece feedbacks",
         "2023-04-13 00:00:00"
        ],
        [
         "108",
         "3108",
         null,
         "Atender aos prazos",
         "Comportamental",
         null,
         "Aprende rápido, mas esquece feedbacks",
         "2023-04-26 00:00:00"
        ],
        [
         "111",
         "3111",
         null,
         "Fazer mais com menos",
         "Comportamental",
         "7.8",
         "Reativo, falta proatividade",
         "2023-04-12 00:00:00"
        ],
        [
         "146",
         "3146",
         null,
         "Atender aos prazos",
         "Comportamental",
         "9.6",
         "Organizado, mas às vezes desatento",
         "2023-04-12 00:00:00"
        ],
        [
         "149",
         "3149",
         null,
         "Fazer mais com menos",
         "Execução",
         "6.0",
         "Trabalho em equipe precisa melhorar",
         "2023-03-11 00:00:00"
        ],
        [
         "153",
         "3153",
         null,
         "Pensar fora da caixa",
         "Execução",
         null,
         "Reativo, falta proatividade",
         "2023-03-20 00:00:00"
        ],
        [
         "173",
         "3173",
         null,
         "Pensar fora da caixa",
         "Comportamental",
         "10.0",
         "Cumpre prazos, mas sem iniciativa",
         "2023-05-01 00:00:00"
        ],
        [
         "280",
         "3280",
         null,
         "Ser team player",
         "Execução",
         null,
         "Aprende rápido, mas esquece feedbacks",
         "2023-03-30 00:00:00"
        ],
        [
         "369",
         "3369",
         null,
         "Fazer mais com menos",
         "Execução",
         "7.0",
         "Cumpre prazos, mas sem iniciativa",
         "2023-04-08 00:00:00"
        ],
        [
         "396",
         "3396",
         null,
         "Sentimento de dono",
         "Execução",
         null,
         "Trabalho em equipe precisa melhorar",
         "2023-03-17 00:00:00"
        ],
        [
         "411",
         "3411",
         null,
         "Sentimento de dono",
         "Comportamental",
         "9.1",
         "Trabalho em equipe precisa melhorar",
         "2023-04-14 00:00:00"
        ],
        [
         "472",
         "3472",
         null,
         "Capacidade de aprender",
         "Comportamental",
         "7.0",
         "Aprende rápido, mas esquece feedbacks",
         "2023-04-13 00:00:00"
        ],
        [
         "480",
         "3480",
         null,
         "Resiliencia nas adversidades",
         "Execução",
         "7.1",
         "Criativo, porém pouco claro",
         "2023-03-13 00:00:00"
        ],
        [
         "524",
         "3524",
         null,
         "Pensar fora da caixa",
         "Comportamental",
         "9.8",
         "Criativo, porém pouco claro",
         "2023-05-02 00:00:00"
        ],
        [
         "529",
         "3529",
         null,
         "Fazer mais com menos",
         "Comportamental",
         "10.0",
         "Organizado, mas às vezes desatento",
         "2023-05-09 00:00:00"
        ],
        [
         "563",
         "3563",
         null,
         "Ser team player",
         "Execução",
         "9.2",
         "Aprende rápido, mas esquece feedbacks",
         "2023-05-08 00:00:00"
        ],
        [
         "566",
         "3566",
         null,
         "Fazer mais com menos",
         "Execução",
         "8.0",
         "Entrega consistente, mas falta comunicação",
         "2023-05-05 00:00:00"
        ],
        [
         "611",
         "3611",
         null,
         "Sentimento de dono",
         "Execução",
         "9.7",
         "Cumpre prazos, mas sem iniciativa",
         "2023-03-30 00:00:00"
        ],
        [
         "645",
         "3645",
         null,
         "Fazer mais com menos",
         "Comportamental",
         "7.8",
         "Trabalho em equipe precisa melhorar",
         "2023-03-23 00:00:00"
        ],
        [
         "745",
         "3745",
         null,
         "Pensar fora da caixa",
         "Comportamental",
         null,
         "Criativo, porém pouco claro",
         "2023-03-21 00:00:00"
        ],
        [
         "788",
         "3788",
         null,
         "Capacidade de aprender",
         "Execução",
         "8.0",
         "Responsável, porém inseguro",
         "2023-03-30 00:00:00"
        ],
        [
         "891",
         "3891",
         null,
         "Fazer mais com menos",
         "Execução",
         "7.5",
         "Cumpre prazos, mas sem iniciativa",
         "2023-04-02 00:00:00"
        ],
        [
         "907",
         "3907",
         null,
         "Atender aos prazos",
         "Comportamental",
         null,
         "Aprende rápido, mas esquece feedbacks",
         "2023-04-02 00:00:00"
        ],
        [
         "937",
         "3937",
         null,
         "Pensar fora da caixa",
         "Execução",
         null,
         "Responsável, porém inseguro",
         "2023-04-16 00:00:00"
        ],
        [
         "962",
         "3962",
         null,
         "Resiliencia nas adversidades",
         "Execução",
         null,
         "Responsável, porém inseguro",
         "2023-04-19 00:00:00"
        ],
        [
         "991",
         "3991",
         null,
         "Pensar fora da caixa",
         "Comportamental",
         "7.0",
         "Responsável, porém inseguro",
         "2023-04-05 00:00:00"
        ],
        [
         "997",
         "3997",
         null,
         "Sentimento de dono",
         "Comportamental",
         "6.0",
         "Responsável, porém inseguro",
         "2023-03-16 00:00:00"
        ]
       ],
       "shape": {
        "columns": 7,
        "rows": 31
       }
      },
      "text/html": [
       "<div>\n",
       "<style scoped>\n",
       "    .dataframe tbody tr th:only-of-type {\n",
       "        vertical-align: middle;\n",
       "    }\n",
       "\n",
       "    .dataframe tbody tr th {\n",
       "        vertical-align: top;\n",
       "    }\n",
       "\n",
       "    .dataframe thead th {\n",
       "        text-align: right;\n",
       "    }\n",
       "</style>\n",
       "<table border=\"1\" class=\"dataframe\">\n",
       "  <thead>\n",
       "    <tr style=\"text-align: right;\">\n",
       "      <th></th>\n",
       "      <th>ID</th>\n",
       "      <th>Nome</th>\n",
       "      <th>Critério</th>\n",
       "      <th>Tipo</th>\n",
       "      <th>Nota</th>\n",
       "      <th>Justificativa</th>\n",
       "      <th>DataAvaliacao</th>\n",
       "    </tr>\n",
       "  </thead>\n",
       "  <tbody>\n",
       "    <tr>\n",
       "      <th>3</th>\n",
       "      <td>3003</td>\n",
       "      <td>NaN</td>\n",
       "      <td>Pensar fora da caixa</td>\n",
       "      <td>Comportamental</td>\n",
       "      <td>6.0</td>\n",
       "      <td>Trabalho em equipe precisa melhorar</td>\n",
       "      <td>2023-04-15</td>\n",
       "    </tr>\n",
       "    <tr>\n",
       "      <th>11</th>\n",
       "      <td>3011</td>\n",
       "      <td>NaN</td>\n",
       "      <td>Organização no trabalho</td>\n",
       "      <td>Comportamental</td>\n",
       "      <td>8.0</td>\n",
       "      <td>Cumpre prazos, mas sem iniciativa</td>\n",
       "      <td>2023-05-04</td>\n",
       "    </tr>\n",
       "    <tr>\n",
       "      <th>29</th>\n",
       "      <td>3029</td>\n",
       "      <td>NaN</td>\n",
       "      <td>Resiliencia nas adversidades</td>\n",
       "      <td>Execução</td>\n",
       "      <td>10.0</td>\n",
       "      <td>Reativo, falta proatividade</td>\n",
       "      <td>2023-04-16</td>\n",
       "    </tr>\n",
       "    <tr>\n",
       "      <th>73</th>\n",
       "      <td>3073</td>\n",
       "      <td>NaN</td>\n",
       "      <td>Entregar com qualidade</td>\n",
       "      <td>Execução</td>\n",
       "      <td>6.0</td>\n",
       "      <td>Trabalho em equipe precisa melhorar</td>\n",
       "      <td>2023-03-21</td>\n",
       "    </tr>\n",
       "    <tr>\n",
       "      <th>101</th>\n",
       "      <td>3101</td>\n",
       "      <td>NaN</td>\n",
       "      <td>Sentimento de dono</td>\n",
       "      <td>Execução</td>\n",
       "      <td>6.4</td>\n",
       "      <td>Aprende rápido, mas esquece feedbacks</td>\n",
       "      <td>2023-04-13</td>\n",
       "    </tr>\n",
       "    <tr>\n",
       "      <th>108</th>\n",
       "      <td>3108</td>\n",
       "      <td>NaN</td>\n",
       "      <td>Atender aos prazos</td>\n",
       "      <td>Comportamental</td>\n",
       "      <td>NaN</td>\n",
       "      <td>Aprende rápido, mas esquece feedbacks</td>\n",
       "      <td>2023-04-26</td>\n",
       "    </tr>\n",
       "    <tr>\n",
       "      <th>111</th>\n",
       "      <td>3111</td>\n",
       "      <td>NaN</td>\n",
       "      <td>Fazer mais com menos</td>\n",
       "      <td>Comportamental</td>\n",
       "      <td>7.8</td>\n",
       "      <td>Reativo, falta proatividade</td>\n",
       "      <td>2023-04-12</td>\n",
       "    </tr>\n",
       "    <tr>\n",
       "      <th>146</th>\n",
       "      <td>3146</td>\n",
       "      <td>NaN</td>\n",
       "      <td>Atender aos prazos</td>\n",
       "      <td>Comportamental</td>\n",
       "      <td>9.6</td>\n",
       "      <td>Organizado, mas às vezes desatento</td>\n",
       "      <td>2023-04-12</td>\n",
       "    </tr>\n",
       "    <tr>\n",
       "      <th>149</th>\n",
       "      <td>3149</td>\n",
       "      <td>NaN</td>\n",
       "      <td>Fazer mais com menos</td>\n",
       "      <td>Execução</td>\n",
       "      <td>6.0</td>\n",
       "      <td>Trabalho em equipe precisa melhorar</td>\n",
       "      <td>2023-03-11</td>\n",
       "    </tr>\n",
       "    <tr>\n",
       "      <th>153</th>\n",
       "      <td>3153</td>\n",
       "      <td>NaN</td>\n",
       "      <td>Pensar fora da caixa</td>\n",
       "      <td>Execução</td>\n",
       "      <td>NaN</td>\n",
       "      <td>Reativo, falta proatividade</td>\n",
       "      <td>2023-03-20</td>\n",
       "    </tr>\n",
       "    <tr>\n",
       "      <th>173</th>\n",
       "      <td>3173</td>\n",
       "      <td>NaN</td>\n",
       "      <td>Pensar fora da caixa</td>\n",
       "      <td>Comportamental</td>\n",
       "      <td>10.0</td>\n",
       "      <td>Cumpre prazos, mas sem iniciativa</td>\n",
       "      <td>2023-05-01</td>\n",
       "    </tr>\n",
       "    <tr>\n",
       "      <th>280</th>\n",
       "      <td>3280</td>\n",
       "      <td>NaN</td>\n",
       "      <td>Ser team player</td>\n",
       "      <td>Execução</td>\n",
       "      <td>NaN</td>\n",
       "      <td>Aprende rápido, mas esquece feedbacks</td>\n",
       "      <td>2023-03-30</td>\n",
       "    </tr>\n",
       "    <tr>\n",
       "      <th>369</th>\n",
       "      <td>3369</td>\n",
       "      <td>NaN</td>\n",
       "      <td>Fazer mais com menos</td>\n",
       "      <td>Execução</td>\n",
       "      <td>7.0</td>\n",
       "      <td>Cumpre prazos, mas sem iniciativa</td>\n",
       "      <td>2023-04-08</td>\n",
       "    </tr>\n",
       "    <tr>\n",
       "      <th>396</th>\n",
       "      <td>3396</td>\n",
       "      <td>NaN</td>\n",
       "      <td>Sentimento de dono</td>\n",
       "      <td>Execução</td>\n",
       "      <td>NaN</td>\n",
       "      <td>Trabalho em equipe precisa melhorar</td>\n",
       "      <td>2023-03-17</td>\n",
       "    </tr>\n",
       "    <tr>\n",
       "      <th>411</th>\n",
       "      <td>3411</td>\n",
       "      <td>NaN</td>\n",
       "      <td>Sentimento de dono</td>\n",
       "      <td>Comportamental</td>\n",
       "      <td>9.1</td>\n",
       "      <td>Trabalho em equipe precisa melhorar</td>\n",
       "      <td>2023-04-14</td>\n",
       "    </tr>\n",
       "    <tr>\n",
       "      <th>472</th>\n",
       "      <td>3472</td>\n",
       "      <td>NaN</td>\n",
       "      <td>Capacidade de aprender</td>\n",
       "      <td>Comportamental</td>\n",
       "      <td>7.0</td>\n",
       "      <td>Aprende rápido, mas esquece feedbacks</td>\n",
       "      <td>2023-04-13</td>\n",
       "    </tr>\n",
       "    <tr>\n",
       "      <th>480</th>\n",
       "      <td>3480</td>\n",
       "      <td>NaN</td>\n",
       "      <td>Resiliencia nas adversidades</td>\n",
       "      <td>Execução</td>\n",
       "      <td>7.1</td>\n",
       "      <td>Criativo, porém pouco claro</td>\n",
       "      <td>2023-03-13</td>\n",
       "    </tr>\n",
       "    <tr>\n",
       "      <th>524</th>\n",
       "      <td>3524</td>\n",
       "      <td>NaN</td>\n",
       "      <td>Pensar fora da caixa</td>\n",
       "      <td>Comportamental</td>\n",
       "      <td>9.8</td>\n",
       "      <td>Criativo, porém pouco claro</td>\n",
       "      <td>2023-05-02</td>\n",
       "    </tr>\n",
       "    <tr>\n",
       "      <th>529</th>\n",
       "      <td>3529</td>\n",
       "      <td>NaN</td>\n",
       "      <td>Fazer mais com menos</td>\n",
       "      <td>Comportamental</td>\n",
       "      <td>10.0</td>\n",
       "      <td>Organizado, mas às vezes desatento</td>\n",
       "      <td>2023-05-09</td>\n",
       "    </tr>\n",
       "    <tr>\n",
       "      <th>563</th>\n",
       "      <td>3563</td>\n",
       "      <td>NaN</td>\n",
       "      <td>Ser team player</td>\n",
       "      <td>Execução</td>\n",
       "      <td>9.2</td>\n",
       "      <td>Aprende rápido, mas esquece feedbacks</td>\n",
       "      <td>2023-05-08</td>\n",
       "    </tr>\n",
       "    <tr>\n",
       "      <th>566</th>\n",
       "      <td>3566</td>\n",
       "      <td>NaN</td>\n",
       "      <td>Fazer mais com menos</td>\n",
       "      <td>Execução</td>\n",
       "      <td>8.0</td>\n",
       "      <td>Entrega consistente, mas falta comunicação</td>\n",
       "      <td>2023-05-05</td>\n",
       "    </tr>\n",
       "    <tr>\n",
       "      <th>611</th>\n",
       "      <td>3611</td>\n",
       "      <td>NaN</td>\n",
       "      <td>Sentimento de dono</td>\n",
       "      <td>Execução</td>\n",
       "      <td>9.7</td>\n",
       "      <td>Cumpre prazos, mas sem iniciativa</td>\n",
       "      <td>2023-03-30</td>\n",
       "    </tr>\n",
       "    <tr>\n",
       "      <th>645</th>\n",
       "      <td>3645</td>\n",
       "      <td>NaN</td>\n",
       "      <td>Fazer mais com menos</td>\n",
       "      <td>Comportamental</td>\n",
       "      <td>7.8</td>\n",
       "      <td>Trabalho em equipe precisa melhorar</td>\n",
       "      <td>2023-03-23</td>\n",
       "    </tr>\n",
       "    <tr>\n",
       "      <th>745</th>\n",
       "      <td>3745</td>\n",
       "      <td>NaN</td>\n",
       "      <td>Pensar fora da caixa</td>\n",
       "      <td>Comportamental</td>\n",
       "      <td>NaN</td>\n",
       "      <td>Criativo, porém pouco claro</td>\n",
       "      <td>2023-03-21</td>\n",
       "    </tr>\n",
       "    <tr>\n",
       "      <th>788</th>\n",
       "      <td>3788</td>\n",
       "      <td>NaN</td>\n",
       "      <td>Capacidade de aprender</td>\n",
       "      <td>Execução</td>\n",
       "      <td>8.0</td>\n",
       "      <td>Responsável, porém inseguro</td>\n",
       "      <td>2023-03-30</td>\n",
       "    </tr>\n",
       "    <tr>\n",
       "      <th>891</th>\n",
       "      <td>3891</td>\n",
       "      <td>NaN</td>\n",
       "      <td>Fazer mais com menos</td>\n",
       "      <td>Execução</td>\n",
       "      <td>7.5</td>\n",
       "      <td>Cumpre prazos, mas sem iniciativa</td>\n",
       "      <td>2023-04-02</td>\n",
       "    </tr>\n",
       "    <tr>\n",
       "      <th>907</th>\n",
       "      <td>3907</td>\n",
       "      <td>NaN</td>\n",
       "      <td>Atender aos prazos</td>\n",
       "      <td>Comportamental</td>\n",
       "      <td>NaN</td>\n",
       "      <td>Aprende rápido, mas esquece feedbacks</td>\n",
       "      <td>2023-04-02</td>\n",
       "    </tr>\n",
       "    <tr>\n",
       "      <th>937</th>\n",
       "      <td>3937</td>\n",
       "      <td>NaN</td>\n",
       "      <td>Pensar fora da caixa</td>\n",
       "      <td>Execução</td>\n",
       "      <td>NaN</td>\n",
       "      <td>Responsável, porém inseguro</td>\n",
       "      <td>2023-04-16</td>\n",
       "    </tr>\n",
       "    <tr>\n",
       "      <th>962</th>\n",
       "      <td>3962</td>\n",
       "      <td>NaN</td>\n",
       "      <td>Resiliencia nas adversidades</td>\n",
       "      <td>Execução</td>\n",
       "      <td>NaN</td>\n",
       "      <td>Responsável, porém inseguro</td>\n",
       "      <td>2023-04-19</td>\n",
       "    </tr>\n",
       "    <tr>\n",
       "      <th>991</th>\n",
       "      <td>3991</td>\n",
       "      <td>NaN</td>\n",
       "      <td>Pensar fora da caixa</td>\n",
       "      <td>Comportamental</td>\n",
       "      <td>7.0</td>\n",
       "      <td>Responsável, porém inseguro</td>\n",
       "      <td>2023-04-05</td>\n",
       "    </tr>\n",
       "    <tr>\n",
       "      <th>997</th>\n",
       "      <td>3997</td>\n",
       "      <td>NaN</td>\n",
       "      <td>Sentimento de dono</td>\n",
       "      <td>Comportamental</td>\n",
       "      <td>6.0</td>\n",
       "      <td>Responsável, porém inseguro</td>\n",
       "      <td>2023-03-16</td>\n",
       "    </tr>\n",
       "  </tbody>\n",
       "</table>\n",
       "</div>"
      ],
      "text/plain": [
       "       ID Nome                      Critério            Tipo  Nota  \\\n",
       "3    3003  NaN          Pensar fora da caixa  Comportamental   6.0   \n",
       "11   3011  NaN       Organização no trabalho  Comportamental   8.0   \n",
       "29   3029  NaN  Resiliencia nas adversidades        Execução  10.0   \n",
       "73   3073  NaN        Entregar com qualidade        Execução   6.0   \n",
       "101  3101  NaN            Sentimento de dono        Execução   6.4   \n",
       "108  3108  NaN            Atender aos prazos  Comportamental   NaN   \n",
       "111  3111  NaN          Fazer mais com menos  Comportamental   7.8   \n",
       "146  3146  NaN            Atender aos prazos  Comportamental   9.6   \n",
       "149  3149  NaN          Fazer mais com menos        Execução   6.0   \n",
       "153  3153  NaN          Pensar fora da caixa        Execução   NaN   \n",
       "173  3173  NaN          Pensar fora da caixa  Comportamental  10.0   \n",
       "280  3280  NaN               Ser team player        Execução   NaN   \n",
       "369  3369  NaN          Fazer mais com menos        Execução   7.0   \n",
       "396  3396  NaN            Sentimento de dono        Execução   NaN   \n",
       "411  3411  NaN            Sentimento de dono  Comportamental   9.1   \n",
       "472  3472  NaN        Capacidade de aprender  Comportamental   7.0   \n",
       "480  3480  NaN  Resiliencia nas adversidades        Execução   7.1   \n",
       "524  3524  NaN          Pensar fora da caixa  Comportamental   9.8   \n",
       "529  3529  NaN          Fazer mais com menos  Comportamental  10.0   \n",
       "563  3563  NaN               Ser team player        Execução   9.2   \n",
       "566  3566  NaN          Fazer mais com menos        Execução   8.0   \n",
       "611  3611  NaN            Sentimento de dono        Execução   9.7   \n",
       "645  3645  NaN          Fazer mais com menos  Comportamental   7.8   \n",
       "745  3745  NaN          Pensar fora da caixa  Comportamental   NaN   \n",
       "788  3788  NaN        Capacidade de aprender        Execução   8.0   \n",
       "891  3891  NaN          Fazer mais com menos        Execução   7.5   \n",
       "907  3907  NaN            Atender aos prazos  Comportamental   NaN   \n",
       "937  3937  NaN          Pensar fora da caixa        Execução   NaN   \n",
       "962  3962  NaN  Resiliencia nas adversidades        Execução   NaN   \n",
       "991  3991  NaN          Pensar fora da caixa  Comportamental   7.0   \n",
       "997  3997  NaN            Sentimento de dono  Comportamental   6.0   \n",
       "\n",
       "                                  Justificativa DataAvaliacao  \n",
       "3           Trabalho em equipe precisa melhorar    2023-04-15  \n",
       "11            Cumpre prazos, mas sem iniciativa    2023-05-04  \n",
       "29                  Reativo, falta proatividade    2023-04-16  \n",
       "73          Trabalho em equipe precisa melhorar    2023-03-21  \n",
       "101       Aprende rápido, mas esquece feedbacks    2023-04-13  \n",
       "108       Aprende rápido, mas esquece feedbacks    2023-04-26  \n",
       "111                 Reativo, falta proatividade    2023-04-12  \n",
       "146          Organizado, mas às vezes desatento    2023-04-12  \n",
       "149         Trabalho em equipe precisa melhorar    2023-03-11  \n",
       "153                 Reativo, falta proatividade    2023-03-20  \n",
       "173           Cumpre prazos, mas sem iniciativa    2023-05-01  \n",
       "280       Aprende rápido, mas esquece feedbacks    2023-03-30  \n",
       "369           Cumpre prazos, mas sem iniciativa    2023-04-08  \n",
       "396         Trabalho em equipe precisa melhorar    2023-03-17  \n",
       "411         Trabalho em equipe precisa melhorar    2023-04-14  \n",
       "472       Aprende rápido, mas esquece feedbacks    2023-04-13  \n",
       "480                 Criativo, porém pouco claro    2023-03-13  \n",
       "524                 Criativo, porém pouco claro    2023-05-02  \n",
       "529          Organizado, mas às vezes desatento    2023-05-09  \n",
       "563       Aprende rápido, mas esquece feedbacks    2023-05-08  \n",
       "566  Entrega consistente, mas falta comunicação    2023-05-05  \n",
       "611           Cumpre prazos, mas sem iniciativa    2023-03-30  \n",
       "645         Trabalho em equipe precisa melhorar    2023-03-23  \n",
       "745                 Criativo, porém pouco claro    2023-03-21  \n",
       "788                 Responsável, porém inseguro    2023-03-30  \n",
       "891           Cumpre prazos, mas sem iniciativa    2023-04-02  \n",
       "907       Aprende rápido, mas esquece feedbacks    2023-04-02  \n",
       "937                 Responsável, porém inseguro    2023-04-16  \n",
       "962                 Responsável, porém inseguro    2023-04-19  \n",
       "991                 Responsável, porém inseguro    2023-04-05  \n",
       "997                 Responsável, porém inseguro    2023-03-16  "
      ]
     },
     "execution_count": 86,
     "metadata": {},
     "output_type": "execute_result"
    }
   ],
   "source": [
    "df[df.Nome.isna()]"
   ]
  },
  {
   "cell_type": "code",
   "execution_count": 90,
   "id": "ff2a719b",
   "metadata": {},
   "outputs": [
    {
     "data": {
      "text/plain": [
       "Critério\n",
       "Pensar fora da caixa            7\n",
       "Fazer mais com menos            7\n",
       "Sentimento de dono              5\n",
       "Resiliencia nas adversidades    3\n",
       "Atender aos prazos              3\n",
       "Ser team player                 2\n",
       "Capacidade de aprender          2\n",
       "Organização no trabalho         1\n",
       "Entregar com qualidade          1\n",
       "Name: count, dtype: int64"
      ]
     },
     "execution_count": 90,
     "metadata": {},
     "output_type": "execute_result"
    }
   ],
   "source": [
    "df[df.Nome.isna()].Critério.value_counts()"
   ]
  },
  {
   "cell_type": "code",
   "execution_count": 87,
   "id": "43c2c04a",
   "metadata": {},
   "outputs": [
    {
     "data": {
      "application/vnd.microsoft.datawrangler.viewer.v0+json": {
       "columns": [
        {
         "name": "index",
         "rawType": "int64",
         "type": "integer"
        },
        {
         "name": "ID",
         "rawType": "int32",
         "type": "integer"
        },
        {
         "name": "Nome",
         "rawType": "object",
         "type": "string"
        },
        {
         "name": "Critério",
         "rawType": "object",
         "type": "string"
        },
        {
         "name": "Tipo",
         "rawType": "object",
         "type": "string"
        },
        {
         "name": "Nota",
         "rawType": "float64",
         "type": "float"
        },
        {
         "name": "Justificativa",
         "rawType": "object",
         "type": "string"
        },
        {
         "name": "DataAvaliacao",
         "rawType": "datetime64[ns]",
         "type": "datetime"
        }
       ],
       "conversionMethod": "pd.DataFrame",
       "ref": "082bf8c3-2ae7-4de2-8c2d-9ed7b495b1db",
       "rows": [
        [
         "43",
         "3043",
         "Marcos Lima",
         "Resiliencia nas adversidades",
         "Comportamental",
         null,
         "Reativo, falta proatividade",
         "2023-04-12 00:00:00"
        ],
        [
         "49",
         "3049",
         "Marcos Lima",
         "Resiliencia nas adversidades",
         "Comportamental",
         null,
         "Cumpre prazos, mas sem iniciativa",
         "2023-05-03 00:00:00"
        ],
        [
         "203",
         "3203",
         "Marcos Lima",
         "Entregar com qualidade",
         "Execução",
         "6.4",
         "Trabalho em equipe precisa melhorar",
         "2023-05-07 00:00:00"
        ],
        [
         "224",
         "3224",
         "Marcos Lima",
         "Ser team player",
         "Execução",
         "10.0",
         "Cumpre prazos, mas sem iniciativa",
         "2023-05-03 00:00:00"
        ],
        [
         "236",
         "3236",
         "Marcos Lima",
         "Fazer mais com menos",
         "Comportamental",
         null,
         "Boa execução com erros pontuais",
         "2023-03-15 00:00:00"
        ],
        [
         "382",
         "3382",
         "Marcos Lima",
         "Atender aos prazos",
         "Comportamental",
         null,
         "Reativo, falta proatividade",
         "2023-05-04 00:00:00"
        ],
        [
         "632",
         "3632",
         "Marcos Lima",
         "Capacidade de aprender",
         "Execução",
         "8.2",
         "Responsável, porém inseguro",
         "2023-04-11 00:00:00"
        ],
        [
         "635",
         "3635",
         "Marcos Lima",
         "Atender aos prazos",
         "Comportamental",
         "8.5",
         "Inovador, mas confuso",
         "2023-04-30 00:00:00"
        ],
        [
         "738",
         "3738",
         "Marcos Lima",
         "Organização no trabalho",
         "Comportamental",
         "7.4",
         "Cumpre prazos, mas sem iniciativa",
         "2023-04-15 00:00:00"
        ],
        [
         "998",
         "3998",
         "Marcos Lima",
         "Resiliencia nas adversidades",
         "Execução",
         null,
         "Organizado, mas às vezes desatento",
         "2023-04-15 00:00:00"
        ]
       ],
       "shape": {
        "columns": 7,
        "rows": 10
       }
      },
      "text/html": [
       "<div>\n",
       "<style scoped>\n",
       "    .dataframe tbody tr th:only-of-type {\n",
       "        vertical-align: middle;\n",
       "    }\n",
       "\n",
       "    .dataframe tbody tr th {\n",
       "        vertical-align: top;\n",
       "    }\n",
       "\n",
       "    .dataframe thead th {\n",
       "        text-align: right;\n",
       "    }\n",
       "</style>\n",
       "<table border=\"1\" class=\"dataframe\">\n",
       "  <thead>\n",
       "    <tr style=\"text-align: right;\">\n",
       "      <th></th>\n",
       "      <th>ID</th>\n",
       "      <th>Nome</th>\n",
       "      <th>Critério</th>\n",
       "      <th>Tipo</th>\n",
       "      <th>Nota</th>\n",
       "      <th>Justificativa</th>\n",
       "      <th>DataAvaliacao</th>\n",
       "    </tr>\n",
       "  </thead>\n",
       "  <tbody>\n",
       "    <tr>\n",
       "      <th>43</th>\n",
       "      <td>3043</td>\n",
       "      <td>Marcos Lima</td>\n",
       "      <td>Resiliencia nas adversidades</td>\n",
       "      <td>Comportamental</td>\n",
       "      <td>NaN</td>\n",
       "      <td>Reativo, falta proatividade</td>\n",
       "      <td>2023-04-12</td>\n",
       "    </tr>\n",
       "    <tr>\n",
       "      <th>49</th>\n",
       "      <td>3049</td>\n",
       "      <td>Marcos Lima</td>\n",
       "      <td>Resiliencia nas adversidades</td>\n",
       "      <td>Comportamental</td>\n",
       "      <td>NaN</td>\n",
       "      <td>Cumpre prazos, mas sem iniciativa</td>\n",
       "      <td>2023-05-03</td>\n",
       "    </tr>\n",
       "    <tr>\n",
       "      <th>203</th>\n",
       "      <td>3203</td>\n",
       "      <td>Marcos Lima</td>\n",
       "      <td>Entregar com qualidade</td>\n",
       "      <td>Execução</td>\n",
       "      <td>6.4</td>\n",
       "      <td>Trabalho em equipe precisa melhorar</td>\n",
       "      <td>2023-05-07</td>\n",
       "    </tr>\n",
       "    <tr>\n",
       "      <th>224</th>\n",
       "      <td>3224</td>\n",
       "      <td>Marcos Lima</td>\n",
       "      <td>Ser team player</td>\n",
       "      <td>Execução</td>\n",
       "      <td>10.0</td>\n",
       "      <td>Cumpre prazos, mas sem iniciativa</td>\n",
       "      <td>2023-05-03</td>\n",
       "    </tr>\n",
       "    <tr>\n",
       "      <th>236</th>\n",
       "      <td>3236</td>\n",
       "      <td>Marcos Lima</td>\n",
       "      <td>Fazer mais com menos</td>\n",
       "      <td>Comportamental</td>\n",
       "      <td>NaN</td>\n",
       "      <td>Boa execução com erros pontuais</td>\n",
       "      <td>2023-03-15</td>\n",
       "    </tr>\n",
       "    <tr>\n",
       "      <th>382</th>\n",
       "      <td>3382</td>\n",
       "      <td>Marcos Lima</td>\n",
       "      <td>Atender aos prazos</td>\n",
       "      <td>Comportamental</td>\n",
       "      <td>NaN</td>\n",
       "      <td>Reativo, falta proatividade</td>\n",
       "      <td>2023-05-04</td>\n",
       "    </tr>\n",
       "    <tr>\n",
       "      <th>632</th>\n",
       "      <td>3632</td>\n",
       "      <td>Marcos Lima</td>\n",
       "      <td>Capacidade de aprender</td>\n",
       "      <td>Execução</td>\n",
       "      <td>8.2</td>\n",
       "      <td>Responsável, porém inseguro</td>\n",
       "      <td>2023-04-11</td>\n",
       "    </tr>\n",
       "    <tr>\n",
       "      <th>635</th>\n",
       "      <td>3635</td>\n",
       "      <td>Marcos Lima</td>\n",
       "      <td>Atender aos prazos</td>\n",
       "      <td>Comportamental</td>\n",
       "      <td>8.5</td>\n",
       "      <td>Inovador, mas confuso</td>\n",
       "      <td>2023-04-30</td>\n",
       "    </tr>\n",
       "    <tr>\n",
       "      <th>738</th>\n",
       "      <td>3738</td>\n",
       "      <td>Marcos Lima</td>\n",
       "      <td>Organização no trabalho</td>\n",
       "      <td>Comportamental</td>\n",
       "      <td>7.4</td>\n",
       "      <td>Cumpre prazos, mas sem iniciativa</td>\n",
       "      <td>2023-04-15</td>\n",
       "    </tr>\n",
       "    <tr>\n",
       "      <th>998</th>\n",
       "      <td>3998</td>\n",
       "      <td>Marcos Lima</td>\n",
       "      <td>Resiliencia nas adversidades</td>\n",
       "      <td>Execução</td>\n",
       "      <td>NaN</td>\n",
       "      <td>Organizado, mas às vezes desatento</td>\n",
       "      <td>2023-04-15</td>\n",
       "    </tr>\n",
       "  </tbody>\n",
       "</table>\n",
       "</div>"
      ],
      "text/plain": [
       "       ID         Nome                      Critério            Tipo  Nota  \\\n",
       "43   3043  Marcos Lima  Resiliencia nas adversidades  Comportamental   NaN   \n",
       "49   3049  Marcos Lima  Resiliencia nas adversidades  Comportamental   NaN   \n",
       "203  3203  Marcos Lima        Entregar com qualidade        Execução   6.4   \n",
       "224  3224  Marcos Lima               Ser team player        Execução  10.0   \n",
       "236  3236  Marcos Lima          Fazer mais com menos  Comportamental   NaN   \n",
       "382  3382  Marcos Lima            Atender aos prazos  Comportamental   NaN   \n",
       "632  3632  Marcos Lima        Capacidade de aprender        Execução   8.2   \n",
       "635  3635  Marcos Lima            Atender aos prazos  Comportamental   8.5   \n",
       "738  3738  Marcos Lima       Organização no trabalho  Comportamental   7.4   \n",
       "998  3998  Marcos Lima  Resiliencia nas adversidades        Execução   NaN   \n",
       "\n",
       "                           Justificativa DataAvaliacao  \n",
       "43           Reativo, falta proatividade    2023-04-12  \n",
       "49     Cumpre prazos, mas sem iniciativa    2023-05-03  \n",
       "203  Trabalho em equipe precisa melhorar    2023-05-07  \n",
       "224    Cumpre prazos, mas sem iniciativa    2023-05-03  \n",
       "236      Boa execução com erros pontuais    2023-03-15  \n",
       "382          Reativo, falta proatividade    2023-05-04  \n",
       "632          Responsável, porém inseguro    2023-04-11  \n",
       "635                Inovador, mas confuso    2023-04-30  \n",
       "738    Cumpre prazos, mas sem iniciativa    2023-04-15  \n",
       "998   Organizado, mas às vezes desatento    2023-04-15  "
      ]
     },
     "execution_count": 87,
     "metadata": {},
     "output_type": "execute_result"
    }
   ],
   "source": [
    "df[df.Nome=='Marcos Lima']"
   ]
  },
  {
   "cell_type": "code",
   "execution_count": 95,
   "id": "6dcc88df",
   "metadata": {},
   "outputs": [
    {
     "data": {
      "text/plain": [
       "ID               False\n",
       "Nome             False\n",
       "Critério         False\n",
       "Tipo             False\n",
       "Nota              True\n",
       "Justificativa    False\n",
       "DataAvaliacao    False\n",
       "dtype: bool"
      ]
     },
     "execution_count": 95,
     "metadata": {},
     "output_type": "execute_result"
    }
   ],
   "source": [
    "df = df.dropna(subset=['Nome'])\n",
    "df.isna().any()"
   ]
  },
  {
   "cell_type": "markdown",
   "id": "fe9756e6",
   "metadata": {},
   "source": [
    "---\n",
    "Nota:"
   ]
  },
  {
   "cell_type": "markdown",
   "id": "ae17c51d",
   "metadata": {},
   "source": [
    "Foi decidido inputar os valores faltantes usando KNNInputer do scikit-learn"
   ]
  },
  {
   "cell_type": "code",
   "execution_count": 99,
   "id": "ebb6ef15",
   "metadata": {},
   "outputs": [],
   "source": [
    "from sklearn.impute import KNNImputer"
   ]
  },
  {
   "cell_type": "code",
   "execution_count": 100,
   "id": "92eb7afb",
   "metadata": {},
   "outputs": [
    {
     "data": {
      "text/plain": [
       "count    730.000000\n",
       "mean       8.072192\n",
       "std        1.260297\n",
       "min        6.000000\n",
       "25%        7.000000\n",
       "50%        8.000000\n",
       "75%        9.100000\n",
       "max       10.000000\n",
       "Name: Nota, dtype: float64"
      ]
     },
     "execution_count": 100,
     "metadata": {},
     "output_type": "execute_result"
    }
   ],
   "source": [
    "df.Nota.describe()"
   ]
  },
  {
   "cell_type": "code",
   "execution_count": 108,
   "id": "cd158d36",
   "metadata": {},
   "outputs": [
    {
     "data": {
      "image/png": "[encoded data removed]",
      "text/plain": [
       "<Figure size 640x480 with 1 Axes>"
      ]
     },
     "metadata": {},
     "output_type": "display_data"
    }
   ],
   "source": [
    "sns.boxplot(df['Nota'])\n",
    "plt.show()"
   ]
  },
  {
   "cell_type": "code",
   "execution_count": 133,
   "id": "ea6f0a25",
   "metadata": {},
   "outputs": [
    {
     "name": "stderr",
     "output_type": "stream",
     "text": [
      "C:\\Users\\pedro\\AppData\\Local\\Temp\\ipykernel_23180\\1498318572.py:2: FutureWarning: \n",
      "\n",
      "Passing `palette` without assigning `hue` is deprecated and will be removed in v0.14.0. Assign the `x` variable to `hue` and set `legend=False` for the same effect.\n",
      "\n",
      "  sns.boxplot(df, y='Nota', x='Critério', palette=sns.color_palette()[:9])\n"
     ]
    },
    {
     "data": {
      "image/png": "[encoded data removed]",
      "text/plain": [
       "<Figure size 1500x700 with 1 Axes>"
      ]
     },
     "metadata": {},
     "output_type": "display_data"
    }
   ],
   "source": [
    "plt.figure(figsize=(15,7))\n",
    "sns.boxplot(df, y='Nota', x='Critério', palette=sns.color_palette()[:9])\n",
    "plt.xticks(rotation=45)\n",
    "plt.tight_layout()\n",
    "plt.show()"
   ]
  },
  {
   "cell_type": "code",
   "execution_count": 143,
   "id": "d258bdce",
   "metadata": {},
   "outputs": [
    {
     "data": {
      "application/vnd.microsoft.datawrangler.viewer.v0+json": {
       "columns": [
        {
         "name": "Critério",
         "rawType": "object",
         "type": "string"
        },
        {
         "name": "('Nota', 'mean')",
         "rawType": "float64",
         "type": "float"
        },
        {
         "name": "('Nota', 'median')",
         "rawType": "float64",
         "type": "float"
        },
        {
         "name": "('Nota', 'std')",
         "rawType": "float64",
         "type": "float"
        }
       ],
       "conversionMethod": "pd.DataFrame",
       "ref": "b067782c-edb9-4ebc-ae34-1da0e1652e46",
       "rows": [
        [
         "Atender aos prazos",
         "7.846153846153846",
         "7.8",
         "1.3036100024399702"
        ],
        [
         "Capacidade de aprender",
         "8.054545454545455",
         "8.0",
         "1.2255211535922579"
        ],
        [
         "Entregar com qualidade",
         "8.002083333333333",
         "8.0",
         "1.3493061894849732"
        ],
        [
         "Fazer mais com menos",
         "7.928395061728396",
         "8.0",
         "1.2515225295516292"
        ],
        [
         "Organização no trabalho",
         "8.157303370786517",
         "8.3",
         "1.2939446068347324"
        ],
        [
         "Pensar fora da caixa",
         "8.1",
         "8.0",
         "1.253774788194513"
        ],
        [
         "Resiliencia nas adversidades",
         "8.24949494949495",
         "8.2",
         "1.2371274939143182"
        ],
        [
         "Sentimento de dono",
         "8.068493150684931",
         "7.9",
         "1.254090718888564"
        ],
        [
         "Ser team player",
         "8.162820512820513",
         "8.149999999999999",
         "1.161292268810799"
        ]
       ],
       "shape": {
        "columns": 3,
        "rows": 9
       }
      },
      "text/html": [
       "<div>\n",
       "<style scoped>\n",
       "    .dataframe tbody tr th:only-of-type {\n",
       "        vertical-align: middle;\n",
       "    }\n",
       "\n",
       "    .dataframe tbody tr th {\n",
       "        vertical-align: top;\n",
       "    }\n",
       "\n",
       "    .dataframe thead tr th {\n",
       "        text-align: left;\n",
       "    }\n",
       "\n",
       "    .dataframe thead tr:last-of-type th {\n",
       "        text-align: right;\n",
       "    }\n",
       "</style>\n",
       "<table border=\"1\" class=\"dataframe\">\n",
       "  <thead>\n",
       "    <tr>\n",
       "      <th></th>\n",
       "      <th colspan=\"3\" halign=\"left\">Nota</th>\n",
       "    </tr>\n",
       "    <tr>\n",
       "      <th></th>\n",
       "      <th>mean</th>\n",
       "      <th>median</th>\n",
       "      <th>std</th>\n",
       "    </tr>\n",
       "    <tr>\n",
       "      <th>Critério</th>\n",
       "      <th></th>\n",
       "      <th></th>\n",
       "      <th></th>\n",
       "    </tr>\n",
       "  </thead>\n",
       "  <tbody>\n",
       "    <tr>\n",
       "      <th>Atender aos prazos</th>\n",
       "      <td>7.846154</td>\n",
       "      <td>7.80</td>\n",
       "      <td>1.303610</td>\n",
       "    </tr>\n",
       "    <tr>\n",
       "      <th>Capacidade de aprender</th>\n",
       "      <td>8.054545</td>\n",
       "      <td>8.00</td>\n",
       "      <td>1.225521</td>\n",
       "    </tr>\n",
       "    <tr>\n",
       "      <th>Entregar com qualidade</th>\n",
       "      <td>8.002083</td>\n",
       "      <td>8.00</td>\n",
       "      <td>1.349306</td>\n",
       "    </tr>\n",
       "    <tr>\n",
       "      <th>Fazer mais com menos</th>\n",
       "      <td>7.928395</td>\n",
       "      <td>8.00</td>\n",
       "      <td>1.251523</td>\n",
       "    </tr>\n",
       "    <tr>\n",
       "      <th>Organização no trabalho</th>\n",
       "      <td>8.157303</td>\n",
       "      <td>8.30</td>\n",
       "      <td>1.293945</td>\n",
       "    </tr>\n",
       "    <tr>\n",
       "      <th>Pensar fora da caixa</th>\n",
       "      <td>8.100000</td>\n",
       "      <td>8.00</td>\n",
       "      <td>1.253775</td>\n",
       "    </tr>\n",
       "    <tr>\n",
       "      <th>Resiliencia nas adversidades</th>\n",
       "      <td>8.249495</td>\n",
       "      <td>8.20</td>\n",
       "      <td>1.237127</td>\n",
       "    </tr>\n",
       "    <tr>\n",
       "      <th>Sentimento de dono</th>\n",
       "      <td>8.068493</td>\n",
       "      <td>7.90</td>\n",
       "      <td>1.254091</td>\n",
       "    </tr>\n",
       "    <tr>\n",
       "      <th>Ser team player</th>\n",
       "      <td>8.162821</td>\n",
       "      <td>8.15</td>\n",
       "      <td>1.161292</td>\n",
       "    </tr>\n",
       "  </tbody>\n",
       "</table>\n",
       "</div>"
      ],
      "text/plain": [
       "                                  Nota                 \n",
       "                                  mean median       std\n",
       "Critério                                               \n",
       "Atender aos prazos            7.846154   7.80  1.303610\n",
       "Capacidade de aprender        8.054545   8.00  1.225521\n",
       "Entregar com qualidade        8.002083   8.00  1.349306\n",
       "Fazer mais com menos          7.928395   8.00  1.251523\n",
       "Organização no trabalho       8.157303   8.30  1.293945\n",
       "Pensar fora da caixa          8.100000   8.00  1.253775\n",
       "Resiliencia nas adversidades  8.249495   8.20  1.237127\n",
       "Sentimento de dono            8.068493   7.90  1.254091\n",
       "Ser team player               8.162821   8.15  1.161292"
      ]
     },
     "execution_count": 143,
     "metadata": {},
     "output_type": "execute_result"
    }
   ],
   "source": [
    "df[['Critério', 'Nota']].groupby(by='Critério').aggregate(['mean', 'median','std'])"
   ]
  },
  {
   "cell_type": "code",
   "execution_count": 140,
   "id": "b215c904",
   "metadata": {},
   "outputs": [
    {
     "data": {
      "application/vnd.microsoft.datawrangler.viewer.v0+json": {
       "columns": [
        {
         "name": "index",
         "rawType": "int64",
         "type": "integer"
        },
        {
         "name": "Critério",
         "rawType": "object",
         "type": "string"
        },
        {
         "name": "Nota",
         "rawType": "float64",
         "type": "float"
        }
       ],
       "conversionMethod": "pd.DataFrame",
       "ref": "b48a38c2-ba0b-46f6-8db6-6705d8903fcf",
       "rows": [
        [
         "0",
         "Ser team player",
         null
        ],
        [
         "1",
         "Atender aos prazos",
         "7.6"
        ],
        [
         "2",
         "Fazer mais com menos",
         "8.0"
        ],
        [
         "4",
         "Resiliencia nas adversidades",
         "10.0"
        ],
        [
         "5",
         "Resiliencia nas adversidades",
         "8.0"
        ],
        [
         "6",
         "Entregar com qualidade",
         "10.0"
        ],
        [
         "7",
         "Resiliencia nas adversidades",
         "9.5"
        ],
        [
         "8",
         "Capacidade de aprender",
         "8.0"
        ],
        [
         "9",
         "Sentimento de dono",
         null
        ],
        [
         "10",
         "Atender aos prazos",
         null
        ],
        [
         "12",
         "Sentimento de dono",
         "7.1"
        ],
        [
         "13",
         "Resiliencia nas adversidades",
         "6.2"
        ],
        [
         "14",
         "Atender aos prazos",
         null
        ],
        [
         "15",
         "Organização no trabalho",
         "8.4"
        ],
        [
         "16",
         "Ser team player",
         null
        ],
        [
         "17",
         "Fazer mais com menos",
         null
        ],
        [
         "18",
         "Fazer mais com menos",
         "7.0"
        ],
        [
         "19",
         "Ser team player",
         "6.5"
        ],
        [
         "20",
         "Entregar com qualidade",
         "6.5"
        ],
        [
         "21",
         "Resiliencia nas adversidades",
         "10.0"
        ],
        [
         "22",
         "Fazer mais com menos",
         "9.0"
        ],
        [
         "23",
         "Resiliencia nas adversidades",
         null
        ],
        [
         "24",
         "Organização no trabalho",
         "8.4"
        ],
        [
         "25",
         "Resiliencia nas adversidades",
         "9.7"
        ],
        [
         "26",
         "Resiliencia nas adversidades",
         null
        ],
        [
         "27",
         "Atender aos prazos",
         null
        ],
        [
         "28",
         "Entregar com qualidade",
         null
        ],
        [
         "30",
         "Fazer mais com menos",
         "6.4"
        ],
        [
         "31",
         "Resiliencia nas adversidades",
         "6.1"
        ],
        [
         "32",
         "Organização no trabalho",
         null
        ],
        [
         "33",
         "Ser team player",
         "7.0"
        ],
        [
         "34",
         "Organização no trabalho",
         "9.7"
        ],
        [
         "35",
         "Ser team player",
         null
        ],
        [
         "36",
         "Resiliencia nas adversidades",
         null
        ],
        [
         "37",
         "Sentimento de dono",
         null
        ],
        [
         "38",
         "Resiliencia nas adversidades",
         "9.3"
        ],
        [
         "39",
         "Pensar fora da caixa",
         "9.1"
        ],
        [
         "40",
         "Fazer mais com menos",
         "6.9"
        ],
        [
         "41",
         "Ser team player",
         "6.9"
        ],
        [
         "42",
         "Resiliencia nas adversidades",
         "6.7"
        ],
        [
         "43",
         "Resiliencia nas adversidades",
         null
        ],
        [
         "44",
         "Atender aos prazos",
         "6.6"
        ],
        [
         "45",
         "Fazer mais com menos",
         "7.6"
        ],
        [
         "46",
         "Atender aos prazos",
         "9.8"
        ],
        [
         "47",
         "Sentimento de dono",
         "9.7"
        ],
        [
         "48",
         "Pensar fora da caixa",
         "9.0"
        ],
        [
         "49",
         "Resiliencia nas adversidades",
         null
        ],
        [
         "50",
         "Sentimento de dono",
         "6.9"
        ],
        [
         "51",
         "Pensar fora da caixa",
         "7.4"
        ],
        [
         "52",
         "Entregar com qualidade",
         "8.0"
        ]
       ],
       "shape": {
        "columns": 2,
        "rows": 969
       }
      },
      "text/html": [
       "<div>\n",
       "<style scoped>\n",
       "    .dataframe tbody tr th:only-of-type {\n",
       "        vertical-align: middle;\n",
       "    }\n",
       "\n",
       "    .dataframe tbody tr th {\n",
       "        vertical-align: top;\n",
       "    }\n",
       "\n",
       "    .dataframe thead th {\n",
       "        text-align: right;\n",
       "    }\n",
       "</style>\n",
       "<table border=\"1\" class=\"dataframe\">\n",
       "  <thead>\n",
       "    <tr style=\"text-align: right;\">\n",
       "      <th></th>\n",
       "      <th>Critério</th>\n",
       "      <th>Nota</th>\n",
       "    </tr>\n",
       "  </thead>\n",
       "  <tbody>\n",
       "    <tr>\n",
       "      <th>0</th>\n",
       "      <td>Ser team player</td>\n",
       "      <td>NaN</td>\n",
       "    </tr>\n",
       "    <tr>\n",
       "      <th>1</th>\n",
       "      <td>Atender aos prazos</td>\n",
       "      <td>7.6</td>\n",
       "    </tr>\n",
       "    <tr>\n",
       "      <th>2</th>\n",
       "      <td>Fazer mais com menos</td>\n",
       "      <td>8.0</td>\n",
       "    </tr>\n",
       "    <tr>\n",
       "      <th>4</th>\n",
       "      <td>Resiliencia nas adversidades</td>\n",
       "      <td>10.0</td>\n",
       "    </tr>\n",
       "    <tr>\n",
       "      <th>5</th>\n",
       "      <td>Resiliencia nas adversidades</td>\n",
       "      <td>8.0</td>\n",
       "    </tr>\n",
       "    <tr>\n",
       "      <th>...</th>\n",
       "      <td>...</td>\n",
       "      <td>...</td>\n",
       "    </tr>\n",
       "    <tr>\n",
       "      <th>994</th>\n",
       "      <td>Resiliencia nas adversidades</td>\n",
       "      <td>6.6</td>\n",
       "    </tr>\n",
       "    <tr>\n",
       "      <th>995</th>\n",
       "      <td>Resiliencia nas adversidades</td>\n",
       "      <td>NaN</td>\n",
       "    </tr>\n",
       "    <tr>\n",
       "      <th>996</th>\n",
       "      <td>Ser team player</td>\n",
       "      <td>NaN</td>\n",
       "    </tr>\n",
       "    <tr>\n",
       "      <th>998</th>\n",
       "      <td>Resiliencia nas adversidades</td>\n",
       "      <td>NaN</td>\n",
       "    </tr>\n",
       "    <tr>\n",
       "      <th>999</th>\n",
       "      <td>Fazer mais com menos</td>\n",
       "      <td>NaN</td>\n",
       "    </tr>\n",
       "  </tbody>\n",
       "</table>\n",
       "<p>969 rows × 2 columns</p>\n",
       "</div>"
      ],
      "text/plain": [
       "                         Critério  Nota\n",
       "0                 Ser team player   NaN\n",
       "1              Atender aos prazos   7.6\n",
       "2            Fazer mais com menos   8.0\n",
       "4    Resiliencia nas adversidades  10.0\n",
       "5    Resiliencia nas adversidades   8.0\n",
       "..                            ...   ...\n",
       "994  Resiliencia nas adversidades   6.6\n",
       "995  Resiliencia nas adversidades   NaN\n",
       "996               Ser team player   NaN\n",
       "998  Resiliencia nas adversidades   NaN\n",
       "999          Fazer mais com menos   NaN\n",
       "\n",
       "[969 rows x 2 columns]"
      ]
     },
     "execution_count": 140,
     "metadata": {},
     "output_type": "execute_result"
    }
   ],
   "source": [
    "df[['Critério', 'Nota']]"
   ]
  },
  {
   "cell_type": "code",
   "execution_count": 145,
   "id": "17f9061a",
   "metadata": {},
   "outputs": [
    {
     "name": "stderr",
     "output_type": "stream",
     "text": [
      "C:\\Users\\pedro\\AppData\\Local\\Temp\\ipykernel_23180\\1088832201.py:2: SettingWithCopyWarning: \n",
      "A value is trying to be set on a copy of a slice from a DataFrame.\n",
      "Try using .loc[row_indexer,col_indexer] = value instead\n",
      "\n",
      "See the caveats in the documentation: https://pandas.pydata.org/pandas-docs/stable/user_guide/indexing.html#returning-a-view-versus-a-copy\n",
      "  df['Nota'] = df['Nota'].fillna(\n"
     ]
    },
    {
     "data": {
      "application/vnd.microsoft.datawrangler.viewer.v0+json": {
       "columns": [
        {
         "name": "index",
         "rawType": "int64",
         "type": "integer"
        },
        {
         "name": "Critério",
         "rawType": "object",
         "type": "string"
        },
        {
         "name": "Nota",
         "rawType": "float64",
         "type": "float"
        }
       ],
       "conversionMethod": "pd.DataFrame",
       "ref": "78d3f203-9d9a-4c55-bbb8-7b8062b99200",
       "rows": [
        [
         "0",
         "Ser team player",
         "8.149999999999999"
        ],
        [
         "1",
         "Atender aos prazos",
         "7.6"
        ],
        [
         "2",
         "Fazer mais com menos",
         "8.0"
        ],
        [
         "4",
         "Resiliencia nas adversidades",
         "10.0"
        ],
        [
         "5",
         "Resiliencia nas adversidades",
         "8.0"
        ],
        [
         "6",
         "Entregar com qualidade",
         "10.0"
        ],
        [
         "7",
         "Resiliencia nas adversidades",
         "9.5"
        ],
        [
         "8",
         "Capacidade de aprender",
         "8.0"
        ],
        [
         "9",
         "Sentimento de dono",
         "7.9"
        ],
        [
         "10",
         "Atender aos prazos",
         "7.8"
        ],
        [
         "12",
         "Sentimento de dono",
         "7.1"
        ],
        [
         "13",
         "Resiliencia nas adversidades",
         "6.2"
        ],
        [
         "14",
         "Atender aos prazos",
         "7.8"
        ],
        [
         "15",
         "Organização no trabalho",
         "8.4"
        ],
        [
         "16",
         "Ser team player",
         "8.149999999999999"
        ],
        [
         "17",
         "Fazer mais com menos",
         "8.0"
        ],
        [
         "18",
         "Fazer mais com menos",
         "7.0"
        ],
        [
         "19",
         "Ser team player",
         "6.5"
        ],
        [
         "20",
         "Entregar com qualidade",
         "6.5"
        ],
        [
         "21",
         "Resiliencia nas adversidades",
         "10.0"
        ],
        [
         "22",
         "Fazer mais com menos",
         "9.0"
        ],
        [
         "23",
         "Resiliencia nas adversidades",
         "8.2"
        ],
        [
         "24",
         "Organização no trabalho",
         "8.4"
        ],
        [
         "25",
         "Resiliencia nas adversidades",
         "9.7"
        ],
        [
         "26",
         "Resiliencia nas adversidades",
         "8.2"
        ],
        [
         "27",
         "Atender aos prazos",
         "7.8"
        ],
        [
         "28",
         "Entregar com qualidade",
         "8.0"
        ],
        [
         "30",
         "Fazer mais com menos",
         "6.4"
        ],
        [
         "31",
         "Resiliencia nas adversidades",
         "6.1"
        ],
        [
         "32",
         "Organização no trabalho",
         "8.3"
        ],
        [
         "33",
         "Ser team player",
         "7.0"
        ],
        [
         "34",
         "Organização no trabalho",
         "9.7"
        ],
        [
         "35",
         "Ser team player",
         "8.149999999999999"
        ],
        [
         "36",
         "Resiliencia nas adversidades",
         "8.2"
        ],
        [
         "37",
         "Sentimento de dono",
         "7.9"
        ],
        [
         "38",
         "Resiliencia nas adversidades",
         "9.3"
        ],
        [
         "39",
         "Pensar fora da caixa",
         "9.1"
        ],
        [
         "40",
         "Fazer mais com menos",
         "6.9"
        ],
        [
         "41",
         "Ser team player",
         "6.9"
        ],
        [
         "42",
         "Resiliencia nas adversidades",
         "6.7"
        ],
        [
         "43",
         "Resiliencia nas adversidades",
         "8.2"
        ],
        [
         "44",
         "Atender aos prazos",
         "6.6"
        ],
        [
         "45",
         "Fazer mais com menos",
         "7.6"
        ],
        [
         "46",
         "Atender aos prazos",
         "9.8"
        ],
        [
         "47",
         "Sentimento de dono",
         "9.7"
        ],
        [
         "48",
         "Pensar fora da caixa",
         "9.0"
        ],
        [
         "49",
         "Resiliencia nas adversidades",
         "8.2"
        ],
        [
         "50",
         "Sentimento de dono",
         "6.9"
        ],
        [
         "51",
         "Pensar fora da caixa",
         "7.4"
        ],
        [
         "52",
         "Entregar com qualidade",
         "8.0"
        ]
       ],
       "shape": {
        "columns": 2,
        "rows": 969
       }
      },
      "text/html": [
       "<div>\n",
       "<style scoped>\n",
       "    .dataframe tbody tr th:only-of-type {\n",
       "        vertical-align: middle;\n",
       "    }\n",
       "\n",
       "    .dataframe tbody tr th {\n",
       "        vertical-align: top;\n",
       "    }\n",
       "\n",
       "    .dataframe thead th {\n",
       "        text-align: right;\n",
       "    }\n",
       "</style>\n",
       "<table border=\"1\" class=\"dataframe\">\n",
       "  <thead>\n",
       "    <tr style=\"text-align: right;\">\n",
       "      <th></th>\n",
       "      <th>Critério</th>\n",
       "      <th>Nota</th>\n",
       "    </tr>\n",
       "  </thead>\n",
       "  <tbody>\n",
       "    <tr>\n",
       "      <th>0</th>\n",
       "      <td>Ser team player</td>\n",
       "      <td>8.15</td>\n",
       "    </tr>\n",
       "    <tr>\n",
       "      <th>1</th>\n",
       "      <td>Atender aos prazos</td>\n",
       "      <td>7.60</td>\n",
       "    </tr>\n",
       "    <tr>\n",
       "      <th>2</th>\n",
       "      <td>Fazer mais com menos</td>\n",
       "      <td>8.00</td>\n",
       "    </tr>\n",
       "    <tr>\n",
       "      <th>4</th>\n",
       "      <td>Resiliencia nas adversidades</td>\n",
       "      <td>10.00</td>\n",
       "    </tr>\n",
       "    <tr>\n",
       "      <th>5</th>\n",
       "      <td>Resiliencia nas adversidades</td>\n",
       "      <td>8.00</td>\n",
       "    </tr>\n",
       "    <tr>\n",
       "      <th>...</th>\n",
       "      <td>...</td>\n",
       "      <td>...</td>\n",
       "    </tr>\n",
       "    <tr>\n",
       "      <th>994</th>\n",
       "      <td>Resiliencia nas adversidades</td>\n",
       "      <td>6.60</td>\n",
       "    </tr>\n",
       "    <tr>\n",
       "      <th>995</th>\n",
       "      <td>Resiliencia nas adversidades</td>\n",
       "      <td>8.20</td>\n",
       "    </tr>\n",
       "    <tr>\n",
       "      <th>996</th>\n",
       "      <td>Ser team player</td>\n",
       "      <td>8.15</td>\n",
       "    </tr>\n",
       "    <tr>\n",
       "      <th>998</th>\n",
       "      <td>Resiliencia nas adversidades</td>\n",
       "      <td>8.20</td>\n",
       "    </tr>\n",
       "    <tr>\n",
       "      <th>999</th>\n",
       "      <td>Fazer mais com menos</td>\n",
       "      <td>8.00</td>\n",
       "    </tr>\n",
       "  </tbody>\n",
       "</table>\n",
       "<p>969 rows × 2 columns</p>\n",
       "</div>"
      ],
      "text/plain": [
       "                         Critério   Nota\n",
       "0                 Ser team player   8.15\n",
       "1              Atender aos prazos   7.60\n",
       "2            Fazer mais com menos   8.00\n",
       "4    Resiliencia nas adversidades  10.00\n",
       "5    Resiliencia nas adversidades   8.00\n",
       "..                            ...    ...\n",
       "994  Resiliencia nas adversidades   6.60\n",
       "995  Resiliencia nas adversidades   8.20\n",
       "996               Ser team player   8.15\n",
       "998  Resiliencia nas adversidades   8.20\n",
       "999          Fazer mais com menos   8.00\n",
       "\n",
       "[969 rows x 2 columns]"
      ]
     },
     "execution_count": 145,
     "metadata": {},
     "output_type": "execute_result"
    }
   ],
   "source": [
    "#teste = df.copy()\n",
    "df['Nota'] = df['Nota'].fillna(\n",
    "    df.groupby('Critério')['Nota'].transform('median')\n",
    ")\n",
    "df[['Critério', 'Nota']]"
   ]
  },
  {
   "cell_type": "code",
   "execution_count": 147,
   "id": "32316c62",
   "metadata": {},
   "outputs": [
    {
     "data": {
      "application/vnd.microsoft.datawrangler.viewer.v0+json": {
       "columns": [
        {
         "name": "Critério",
         "rawType": "object",
         "type": "string"
        },
        {
         "name": "('Nota', 'mean')",
         "rawType": "float64",
         "type": "float"
        },
        {
         "name": "('Nota', 'median')",
         "rawType": "float64",
         "type": "float"
        },
        {
         "name": "('Nota', 'std')",
         "rawType": "float64",
         "type": "float"
        }
       ],
       "conversionMethod": "pd.DataFrame",
       "ref": "6c1506ec-c35d-43ce-9ea7-8204cb3b87f9",
       "rows": [
        [
         "Atender aos prazos",
         "7.831578947368421",
         "7.8",
         "1.0758730406288985"
        ],
        [
         "Capacidade de aprender",
         "8.043902439024391",
         "8.0",
         "1.098045127249085"
        ],
        [
         "Entregar com qualidade",
         "8.001818181818182",
         "8.0",
         "1.2596768056578083"
        ],
        [
         "Fazer mais com menos",
         "7.95",
         "8.0",
         "1.044363754720506"
        ],
        [
         "Organização no trabalho",
         "8.192372881355933",
         "8.3",
         "1.1238788738200296"
        ],
        [
         "Pensar fora da caixa",
         "8.078301886792453",
         "8.0",
         "1.1087534585316654"
        ],
        [
         "Resiliencia nas adversidades",
         "8.237692307692308",
         "8.2",
         "1.0784905748755569"
        ],
        [
         "Sentimento de dono",
         "8.020588235294118",
         "7.9",
         "1.0616014649364756"
        ],
        [
         "Ser team player",
         "8.159090909090908",
         "8.149999999999999",
         "0.9760710846561941"
        ]
       ],
       "shape": {
        "columns": 3,
        "rows": 9
       }
      },
      "text/html": [
       "<div>\n",
       "<style scoped>\n",
       "    .dataframe tbody tr th:only-of-type {\n",
       "        vertical-align: middle;\n",
       "    }\n",
       "\n",
       "    .dataframe tbody tr th {\n",
       "        vertical-align: top;\n",
       "    }\n",
       "\n",
       "    .dataframe thead tr th {\n",
       "        text-align: left;\n",
       "    }\n",
       "\n",
       "    .dataframe thead tr:last-of-type th {\n",
       "        text-align: right;\n",
       "    }\n",
       "</style>\n",
       "<table border=\"1\" class=\"dataframe\">\n",
       "  <thead>\n",
       "    <tr>\n",
       "      <th></th>\n",
       "      <th colspan=\"3\" halign=\"left\">Nota</th>\n",
       "    </tr>\n",
       "    <tr>\n",
       "      <th></th>\n",
       "      <th>mean</th>\n",
       "      <th>median</th>\n",
       "      <th>std</th>\n",
       "    </tr>\n",
       "    <tr>\n",
       "      <th>Critério</th>\n",
       "      <th></th>\n",
       "      <th></th>\n",
       "      <th></th>\n",
       "    </tr>\n",
       "  </thead>\n",
       "  <tbody>\n",
       "    <tr>\n",
       "      <th>Atender aos prazos</th>\n",
       "      <td>7.831579</td>\n",
       "      <td>7.80</td>\n",
       "      <td>1.075873</td>\n",
       "    </tr>\n",
       "    <tr>\n",
       "      <th>Capacidade de aprender</th>\n",
       "      <td>8.043902</td>\n",
       "      <td>8.00</td>\n",
       "      <td>1.098045</td>\n",
       "    </tr>\n",
       "    <tr>\n",
       "      <th>Entregar com qualidade</th>\n",
       "      <td>8.001818</td>\n",
       "      <td>8.00</td>\n",
       "      <td>1.259677</td>\n",
       "    </tr>\n",
       "    <tr>\n",
       "      <th>Fazer mais com menos</th>\n",
       "      <td>7.950000</td>\n",
       "      <td>8.00</td>\n",
       "      <td>1.044364</td>\n",
       "    </tr>\n",
       "    <tr>\n",
       "      <th>Organização no trabalho</th>\n",
       "      <td>8.192373</td>\n",
       "      <td>8.30</td>\n",
       "      <td>1.123879</td>\n",
       "    </tr>\n",
       "    <tr>\n",
       "      <th>Pensar fora da caixa</th>\n",
       "      <td>8.078302</td>\n",
       "      <td>8.00</td>\n",
       "      <td>1.108753</td>\n",
       "    </tr>\n",
       "    <tr>\n",
       "      <th>Resiliencia nas adversidades</th>\n",
       "      <td>8.237692</td>\n",
       "      <td>8.20</td>\n",
       "      <td>1.078491</td>\n",
       "    </tr>\n",
       "    <tr>\n",
       "      <th>Sentimento de dono</th>\n",
       "      <td>8.020588</td>\n",
       "      <td>7.90</td>\n",
       "      <td>1.061601</td>\n",
       "    </tr>\n",
       "    <tr>\n",
       "      <th>Ser team player</th>\n",
       "      <td>8.159091</td>\n",
       "      <td>8.15</td>\n",
       "      <td>0.976071</td>\n",
       "    </tr>\n",
       "  </tbody>\n",
       "</table>\n",
       "</div>"
      ],
      "text/plain": [
       "                                  Nota                 \n",
       "                                  mean median       std\n",
       "Critério                                               \n",
       "Atender aos prazos            7.831579   7.80  1.075873\n",
       "Capacidade de aprender        8.043902   8.00  1.098045\n",
       "Entregar com qualidade        8.001818   8.00  1.259677\n",
       "Fazer mais com menos          7.950000   8.00  1.044364\n",
       "Organização no trabalho       8.192373   8.30  1.123879\n",
       "Pensar fora da caixa          8.078302   8.00  1.108753\n",
       "Resiliencia nas adversidades  8.237692   8.20  1.078491\n",
       "Sentimento de dono            8.020588   7.90  1.061601\n",
       "Ser team player               8.159091   8.15  0.976071"
      ]
     },
     "execution_count": 147,
     "metadata": {},
     "output_type": "execute_result"
    }
   ],
   "source": [
    "df[['Critério', 'Nota']].groupby(by='Critério').aggregate(['mean', 'median','std'])"
   ]
  },
  {
   "cell_type": "markdown",
   "id": "678e4676",
   "metadata": {},
   "source": [
    "métricas praticamente não mudaram."
   ]
  },
  {
   "cell_type": "code",
   "execution_count": 157,
   "id": "c5fbdd32",
   "metadata": {},
   "outputs": [
    {
     "data": {
      "application/vnd.microsoft.datawrangler.viewer.v0+json": {
       "columns": [
        {
         "name": "ID",
         "rawType": "int32",
         "type": "integer"
        },
        {
         "name": "Nome",
         "rawType": "object",
         "type": "string"
        },
        {
         "name": "Critério",
         "rawType": "object",
         "type": "string"
        },
        {
         "name": "Tipo",
         "rawType": "object",
         "type": "string"
        },
        {
         "name": "Nota",
         "rawType": "float64",
         "type": "float"
        },
        {
         "name": "Justificativa",
         "rawType": "object",
         "type": "string"
        },
        {
         "name": "DataAvaliacao",
         "rawType": "datetime64[ns]",
         "type": "datetime"
        }
       ],
       "conversionMethod": "pd.DataFrame",
       "ref": "208e3755-2af5-4584-91bc-59d2178681f4",
       "rows": [
        [
         "3000",
         "Pedro Henrique",
         "Ser team player",
         "Execução",
         "8.149999999999999",
         "Inovador, mas confuso",
         "2023-04-02 00:00:00"
        ],
        [
         "3001",
         "Luiza Henrique",
         "Atender aos prazos",
         "Execução",
         "7.6",
         "Boa execução com erros pontuais",
         "2023-03-10 00:00:00"
        ],
        [
         "3002",
         "Mariana Costa",
         "Fazer mais com menos",
         "Execução",
         "8.0",
         "Responsável, porém inseguro",
         "2023-04-18 00:00:00"
        ],
        [
         "3004",
         "Joana Silva",
         "Resiliencia nas adversidades",
         "Execução",
         "10.0",
         "Organizado, mas às vezes desatento",
         "2023-04-19 00:00:00"
        ],
        [
         "3005",
         "Ricardo Silva",
         "Resiliencia nas adversidades",
         "Execução",
         "8.0",
         "Reativo, falta proatividade",
         "2023-04-15 00:00:00"
        ],
        [
         "3006",
         "Luiza Martins",
         "Entregar com qualidade",
         "Comportamental",
         "10.0",
         "Entrega consistente, mas falta comunicação",
         "2023-04-01 00:00:00"
        ],
        [
         "3007",
         "Bruno Lima",
         "Resiliencia nas adversidades",
         "Comportamental",
         "9.5",
         "Criativo, porém pouco claro",
         "2023-03-31 00:00:00"
        ],
        [
         "3008",
         "João Lima",
         "Capacidade de aprender",
         "Comportamental",
         "8.0",
         "Inovador, mas confuso",
         "2023-04-10 00:00:00"
        ],
        [
         "3009",
         "Ricardo Martins",
         "Sentimento de dono",
         "Comportamental",
         "7.9",
         "Reativo, falta proatividade",
         "2023-04-15 00:00:00"
        ],
        [
         "3010",
         "Carolina Mendes",
         "Atender aos prazos",
         "Execução",
         "7.8",
         "Aprende rápido, mas esquece feedbacks",
         "2023-04-13 00:00:00"
        ],
        [
         "3012",
         "Sofia Martins",
         "Sentimento de dono",
         "Comportamental",
         "7.1",
         "Criativo, porém pouco claro",
         "2023-03-23 00:00:00"
        ],
        [
         "3013",
         "Ana Pereira",
         "Resiliencia nas adversidades",
         "Execução",
         "6.2",
         "Inovador, mas confuso",
         "2023-04-15 00:00:00"
        ],
        [
         "3014",
         "João Costa",
         "Atender aos prazos",
         "Comportamental",
         "7.8",
         "Criativo, porém pouco claro",
         "2023-04-08 00:00:00"
        ],
        [
         "3015",
         "Mariana Silva",
         "Organização no trabalho",
         "Execução",
         "8.4",
         "Trabalho em equipe precisa melhorar",
         "2023-04-21 00:00:00"
        ],
        [
         "3016",
         "Sofia Henrique",
         "Ser team player",
         "Execução",
         "8.149999999999999",
         "Aprende rápido, mas esquece feedbacks",
         "2023-03-28 00:00:00"
        ],
        [
         "3017",
         "Juliana Henrique",
         "Fazer mais com menos",
         "Comportamental",
         "8.0",
         "Organizado, mas às vezes desatento",
         "2023-04-01 00:00:00"
        ],
        [
         "3018",
         "Clara Oliveira",
         "Fazer mais com menos",
         "Comportamental",
         "7.0",
         "Entrega consistente, mas falta comunicação",
         "2023-03-13 00:00:00"
        ],
        [
         "3019",
         "Rafael Silva",
         "Ser team player",
         "Execução",
         "6.5",
         "Boa execução com erros pontuais",
         "2023-03-16 00:00:00"
        ],
        [
         "3020",
         "Ana Martins",
         "Entregar com qualidade",
         "Execução",
         "6.5",
         "Criativo, porém pouco claro",
         "2023-04-24 00:00:00"
        ],
        [
         "3021",
         "Marcos Mendes",
         "Resiliencia nas adversidades",
         "Execução",
         "10.0",
         "Trabalho em equipe precisa melhorar",
         "2023-04-16 00:00:00"
        ],
        [
         "3022",
         "Carolina Henrique",
         "Fazer mais com menos",
         "Execução",
         "9.0",
         "Aprende rápido, mas esquece feedbacks",
         "2023-04-08 00:00:00"
        ],
        [
         "3023",
         "Carolina Martins",
         "Resiliencia nas adversidades",
         "Execução",
         "8.2",
         "Trabalho em equipe precisa melhorar",
         "2023-05-02 00:00:00"
        ],
        [
         "3024",
         "Sofia Oliveira",
         "Organização no trabalho",
         "Execução",
         "8.4",
         "Entrega consistente, mas falta comunicação",
         "2023-03-30 00:00:00"
        ],
        [
         "3025",
         "Pedro Martins",
         "Resiliencia nas adversidades",
         "Execução",
         "9.7",
         "Boa execução com erros pontuais",
         "2023-04-03 00:00:00"
        ],
        [
         "3026",
         "Marcos Mendes",
         "Resiliencia nas adversidades",
         "Comportamental",
         "8.2",
         "Trabalho em equipe precisa melhorar",
         "2023-05-07 00:00:00"
        ],
        [
         "3027",
         "Carolina Costa",
         "Atender aos prazos",
         "Execução",
         "7.8",
         "Cumpre prazos, mas sem iniciativa",
         "2023-03-30 00:00:00"
        ],
        [
         "3028",
         "Carlos Lima",
         "Entregar com qualidade",
         "Comportamental",
         "8.0",
         "Entrega consistente, mas falta comunicação",
         "2023-04-20 00:00:00"
        ],
        [
         "3030",
         "Rafael Henrique",
         "Fazer mais com menos",
         "Execução",
         "6.4",
         "Boa execução com erros pontuais",
         "2023-04-03 00:00:00"
        ],
        [
         "3031",
         "Maria Silva",
         "Resiliencia nas adversidades",
         "Execução",
         "6.1",
         "Criativo, porém pouco claro",
         "2023-04-22 00:00:00"
        ],
        [
         "3032",
         "Marcos Costa",
         "Organização no trabalho",
         "Execução",
         "8.3",
         "Aprende rápido, mas esquece feedbacks",
         "2023-04-01 00:00:00"
        ],
        [
         "3033",
         "Juliana Pereira",
         "Ser team player",
         "Comportamental",
         "7.0",
         "Reativo, falta proatividade",
         "2023-03-21 00:00:00"
        ],
        [
         "3034",
         "Ana Henrique",
         "Organização no trabalho",
         "Execução",
         "9.7",
         "Entrega consistente, mas falta comunicação",
         "2023-04-21 00:00:00"
        ],
        [
         "3035",
         "Fernanda Pereira",
         "Ser team player",
         "Comportamental",
         "8.149999999999999",
         "Entrega consistente, mas falta comunicação",
         "2023-05-01 00:00:00"
        ],
        [
         "3036",
         "Sofia Costa",
         "Resiliencia nas adversidades",
         "Comportamental",
         "8.2",
         "Trabalho em equipe precisa melhorar",
         "2023-03-30 00:00:00"
        ],
        [
         "3037",
         "Eduardo Oliveira",
         "Sentimento de dono",
         "Execução",
         "7.9",
         "Reativo, falta proatividade",
         "2023-04-23 00:00:00"
        ],
        [
         "3038",
         "Mariana Mendes",
         "Resiliencia nas adversidades",
         "Comportamental",
         "9.3",
         "Responsável, porém inseguro",
         "2023-04-24 00:00:00"
        ],
        [
         "3039",
         "Carolina Martins",
         "Pensar fora da caixa",
         "Execução",
         "9.1",
         "Boa execução com erros pontuais",
         "2023-05-07 00:00:00"
        ],
        [
         "3040",
         "Rafael Souza",
         "Fazer mais com menos",
         "Execução",
         "6.9",
         "Trabalho em equipe precisa melhorar",
         "2023-05-04 00:00:00"
        ],
        [
         "3041",
         "Sofia Oliveira",
         "Ser team player",
         "Comportamental",
         "6.9",
         "Responsável, porém inseguro",
         "2023-03-29 00:00:00"
        ],
        [
         "3042",
         "Maria Mendes",
         "Resiliencia nas adversidades",
         "Execução",
         "6.7",
         "Inovador, mas confuso",
         "2023-03-16 00:00:00"
        ],
        [
         "3043",
         "Marcos Lima",
         "Resiliencia nas adversidades",
         "Comportamental",
         "8.2",
         "Reativo, falta proatividade",
         "2023-04-12 00:00:00"
        ],
        [
         "3044",
         "Bruno Henrique",
         "Atender aos prazos",
         "Comportamental",
         "6.6",
         "Criativo, porém pouco claro",
         "2023-03-26 00:00:00"
        ],
        [
         "3045",
         "Mateus Silva",
         "Fazer mais com menos",
         "Execução",
         "7.6",
         "Trabalho em equipe precisa melhorar",
         "2023-05-01 00:00:00"
        ],
        [
         "3046",
         "João Costa",
         "Atender aos prazos",
         "Execução",
         "9.8",
         "Organizado, mas às vezes desatento",
         "2023-04-21 00:00:00"
        ],
        [
         "3047",
         "Luiza Martins",
         "Sentimento de dono",
         "Comportamental",
         "9.7",
         "Inovador, mas confuso",
         "2023-04-07 00:00:00"
        ],
        [
         "3048",
         "Eduardo Ferreira",
         "Pensar fora da caixa",
         "Execução",
         "9.0",
         "Cumpre prazos, mas sem iniciativa",
         "2023-04-12 00:00:00"
        ],
        [
         "3049",
         "Marcos Lima",
         "Resiliencia nas adversidades",
         "Comportamental",
         "8.2",
         "Cumpre prazos, mas sem iniciativa",
         "2023-05-03 00:00:00"
        ],
        [
         "3050",
         "Clara Costa",
         "Sentimento de dono",
         "Execução",
         "6.9",
         "Boa execução com erros pontuais",
         "2023-04-25 00:00:00"
        ],
        [
         "3051",
         "Juliana Costa",
         "Pensar fora da caixa",
         "Execução",
         "7.4",
         "Entrega consistente, mas falta comunicação",
         "2023-04-27 00:00:00"
        ],
        [
         "3052",
         "Carolina Pereira",
         "Entregar com qualidade",
         "Comportamental",
         "8.0",
         "Reativo, falta proatividade",
         "2023-04-30 00:00:00"
        ]
       ],
       "shape": {
        "columns": 6,
        "rows": 969
       }
      },
      "text/html": [
       "<div>\n",
       "<style scoped>\n",
       "    .dataframe tbody tr th:only-of-type {\n",
       "        vertical-align: middle;\n",
       "    }\n",
       "\n",
       "    .dataframe tbody tr th {\n",
       "        vertical-align: top;\n",
       "    }\n",
       "\n",
       "    .dataframe thead th {\n",
       "        text-align: right;\n",
       "    }\n",
       "</style>\n",
       "<table border=\"1\" class=\"dataframe\">\n",
       "  <thead>\n",
       "    <tr style=\"text-align: right;\">\n",
       "      <th></th>\n",
       "      <th>Nome</th>\n",
       "      <th>Critério</th>\n",
       "      <th>Tipo</th>\n",
       "      <th>Nota</th>\n",
       "      <th>Justificativa</th>\n",
       "      <th>DataAvaliacao</th>\n",
       "    </tr>\n",
       "    <tr>\n",
       "      <th>ID</th>\n",
       "      <th></th>\n",
       "      <th></th>\n",
       "      <th></th>\n",
       "      <th></th>\n",
       "      <th></th>\n",
       "      <th></th>\n",
       "    </tr>\n",
       "  </thead>\n",
       "  <tbody>\n",
       "    <tr>\n",
       "      <th>3000</th>\n",
       "      <td>Pedro Henrique</td>\n",
       "      <td>Ser team player</td>\n",
       "      <td>Execução</td>\n",
       "      <td>8.15</td>\n",
       "      <td>Inovador, mas confuso</td>\n",
       "      <td>2023-04-02</td>\n",
       "    </tr>\n",
       "    <tr>\n",
       "      <th>3001</th>\n",
       "      <td>Luiza Henrique</td>\n",
       "      <td>Atender aos prazos</td>\n",
       "      <td>Execução</td>\n",
       "      <td>7.60</td>\n",
       "      <td>Boa execução com erros pontuais</td>\n",
       "      <td>2023-03-10</td>\n",
       "    </tr>\n",
       "    <tr>\n",
       "      <th>3002</th>\n",
       "      <td>Mariana Costa</td>\n",
       "      <td>Fazer mais com menos</td>\n",
       "      <td>Execução</td>\n",
       "      <td>8.00</td>\n",
       "      <td>Responsável, porém inseguro</td>\n",
       "      <td>2023-04-18</td>\n",
       "    </tr>\n",
       "    <tr>\n",
       "      <th>3004</th>\n",
       "      <td>Joana Silva</td>\n",
       "      <td>Resiliencia nas adversidades</td>\n",
       "      <td>Execução</td>\n",
       "      <td>10.00</td>\n",
       "      <td>Organizado, mas às vezes desatento</td>\n",
       "      <td>2023-04-19</td>\n",
       "    </tr>\n",
       "    <tr>\n",
       "      <th>3005</th>\n",
       "      <td>Ricardo Silva</td>\n",
       "      <td>Resiliencia nas adversidades</td>\n",
       "      <td>Execução</td>\n",
       "      <td>8.00</td>\n",
       "      <td>Reativo, falta proatividade</td>\n",
       "      <td>2023-04-15</td>\n",
       "    </tr>\n",
       "    <tr>\n",
       "      <th>...</th>\n",
       "      <td>...</td>\n",
       "      <td>...</td>\n",
       "      <td>...</td>\n",
       "      <td>...</td>\n",
       "      <td>...</td>\n",
       "      <td>...</td>\n",
       "    </tr>\n",
       "    <tr>\n",
       "      <th>3994</th>\n",
       "      <td>Fernanda Oliveira</td>\n",
       "      <td>Resiliencia nas adversidades</td>\n",
       "      <td>Comportamental</td>\n",
       "      <td>6.60</td>\n",
       "      <td>Organizado, mas às vezes desatento</td>\n",
       "      <td>2023-03-31</td>\n",
       "    </tr>\n",
       "    <tr>\n",
       "      <th>3995</th>\n",
       "      <td>Pedro Pereira</td>\n",
       "      <td>Resiliencia nas adversidades</td>\n",
       "      <td>Execução</td>\n",
       "      <td>8.20</td>\n",
       "      <td>Organizado, mas às vezes desatento</td>\n",
       "      <td>2023-03-19</td>\n",
       "    </tr>\n",
       "    <tr>\n",
       "      <th>3996</th>\n",
       "      <td>Rafael Lima</td>\n",
       "      <td>Ser team player</td>\n",
       "      <td>Comportamental</td>\n",
       "      <td>8.15</td>\n",
       "      <td>Boa execução com erros pontuais</td>\n",
       "      <td>2023-04-30</td>\n",
       "    </tr>\n",
       "    <tr>\n",
       "      <th>3998</th>\n",
       "      <td>Marcos Lima</td>\n",
       "      <td>Resiliencia nas adversidades</td>\n",
       "      <td>Execução</td>\n",
       "      <td>8.20</td>\n",
       "      <td>Organizado, mas às vezes desatento</td>\n",
       "      <td>2023-04-15</td>\n",
       "    </tr>\n",
       "    <tr>\n",
       "      <th>3999</th>\n",
       "      <td>Jorge Pereira</td>\n",
       "      <td>Fazer mais com menos</td>\n",
       "      <td>Execução</td>\n",
       "      <td>8.00</td>\n",
       "      <td>Aprende rápido, mas esquece feedbacks</td>\n",
       "      <td>2023-04-06</td>\n",
       "    </tr>\n",
       "  </tbody>\n",
       "</table>\n",
       "<p>969 rows × 6 columns</p>\n",
       "</div>"
      ],
      "text/plain": [
       "                   Nome                      Critério            Tipo   Nota  \\\n",
       "ID                                                                             \n",
       "3000     Pedro Henrique               Ser team player        Execução   8.15   \n",
       "3001     Luiza Henrique            Atender aos prazos        Execução   7.60   \n",
       "3002      Mariana Costa          Fazer mais com menos        Execução   8.00   \n",
       "3004        Joana Silva  Resiliencia nas adversidades        Execução  10.00   \n",
       "3005      Ricardo Silva  Resiliencia nas adversidades        Execução   8.00   \n",
       "...                 ...                           ...             ...    ...   \n",
       "3994  Fernanda Oliveira  Resiliencia nas adversidades  Comportamental   6.60   \n",
       "3995      Pedro Pereira  Resiliencia nas adversidades        Execução   8.20   \n",
       "3996        Rafael Lima               Ser team player  Comportamental   8.15   \n",
       "3998        Marcos Lima  Resiliencia nas adversidades        Execução   8.20   \n",
       "3999      Jorge Pereira          Fazer mais com menos        Execução   8.00   \n",
       "\n",
       "                              Justificativa DataAvaliacao  \n",
       "ID                                                         \n",
       "3000                  Inovador, mas confuso    2023-04-02  \n",
       "3001        Boa execução com erros pontuais    2023-03-10  \n",
       "3002            Responsável, porém inseguro    2023-04-18  \n",
       "3004     Organizado, mas às vezes desatento    2023-04-19  \n",
       "3005            Reativo, falta proatividade    2023-04-15  \n",
       "...                                     ...           ...  \n",
       "3994     Organizado, mas às vezes desatento    2023-03-31  \n",
       "3995     Organizado, mas às vezes desatento    2023-03-19  \n",
       "3996        Boa execução com erros pontuais    2023-04-30  \n",
       "3998     Organizado, mas às vezes desatento    2023-04-15  \n",
       "3999  Aprende rápido, mas esquece feedbacks    2023-04-06  \n",
       "\n",
       "[969 rows x 6 columns]"
      ]
     },
     "execution_count": 157,
     "metadata": {},
     "output_type": "execute_result"
    }
   ],
   "source": [
    "#teste = df.copy()\n",
    "df = df.set_index('ID')\n",
    "df"
   ]
  },
  {
   "cell_type": "code",
   "execution_count": 158,
   "id": "bf5297ff",
   "metadata": {},
   "outputs": [],
   "source": [
    "df.to_csv('database.csv', encoding='utf-8')"
   ]
  },
  {
   "cell_type": "code",
   "execution_count": 151,
   "id": "3f8c2ee0",
   "metadata": {},
   "outputs": [],
   "source": [
    "df.to_json('database.json', orient='records',lines=True)"
   ]
  },
  {
   "cell_type": "code",
   "execution_count": 162,
   "id": "e491ecf7",
   "metadata": {},
   "outputs": [
    {
     "name": "stdout",
     "output_type": "stream",
     "text": [
      "Nome                     object\n",
      "Critério                 object\n",
      "Tipo                     object\n",
      "Nota                    float64\n",
      "Justificativa            object\n",
      "DataAvaliacao    datetime64[ns]\n",
      "dtype: object\n"
     ]
    }
   ],
   "source": [
    "print(df.dtypes)"
   ]
  }
 ],
 "metadata": {
  "kernelspec": {
   "display_name": "mainpy",
   "language": "python",
   "name": "python3"
  },
  "language_info": {
   "codemirror_mode": {
    "name": "ipython",
    "version": 3
   },
   "file_extension": ".py",
   "mimetype": "text/x-python",
   "name": "python",
   "nbconvert_exporter": "python",
   "pygments_lexer": "ipython3",
   "version": "3.12.2"
  }
 },
 "nbformat": 4,
 "nbformat_minor": 5
}
